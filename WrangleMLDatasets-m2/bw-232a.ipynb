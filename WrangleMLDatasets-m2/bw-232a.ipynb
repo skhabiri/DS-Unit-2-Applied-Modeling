{
 "cells": [
  {
   "cell_type": "markdown",
   "metadata": {
    "colab_type": "text",
    "id": "view-in-github"
   },
   "source": [
    "<a href=\"https://colab.research.google.com/github/skhabiri/DS-Unit-2-Applied-Modeling/blob/master/module2-wrangle-ml-datasets/skhabiri_LS_DS_build2_assignment.ipynb\" target=\"_parent\"><img src=\"https://colab.research.google.com/assets/colab-badge.svg\" alt=\"Open In Colab\"/></a>"
   ]
  },
  {
   "cell_type": "markdown",
   "metadata": {
    "colab_type": "text",
    "id": "nCc3XZEyG3XV"
   },
   "source": [
    "*Unit 2, Sprint 3, Module 2*\n",
    "\n",
    "---\n",
    "\n",
    "\n",
    "# Define ML problems\n",
    "\n",
    "You will use your portfolio project dataset for all assignments this sprint.\n",
    "\n",
    "## Assignment\n",
    "\n",
    "Complete these tasks for your project, and document your decisions.\n",
    "\n",
    "- [ ] Choose your target. Which column in your tabular dataset will you predict?\n",
    "- [ ] Is your problem regression or classification?\n",
    "- [ ] How is your target distributed?\n",
    "    - Classification: How many classes? Are the classes imbalanced?\n",
    "    - Regression: Is the target right-skewed? If so, you may want to log transform the target.\n",
    "- [ ] Choose your evaluation metric(s).\n",
    "    - Classification: Is your majority class frequency >= 50% and < 70% ? If so, you can just use accuracy if you want. Outside that range, accuracy could be misleading. What evaluation metric will you choose, in addition to or instead of accuracy?\n",
    "    - Regression: Will you use mean absolute error, root mean squared error, R^2, or other regression metrics?\n",
    "- [ ] Choose which observations you will use to train, validate, and test your model.\n",
    "    - Are some observations outliers? Will you exclude them?\n",
    "    - Will you do a random split or a time-based split?\n",
    "- [ ] Begin to clean and explore your data.\n",
    "- [ ] Begin to choose which features, if any, to exclude. Would some features \"leak\" future information?\n",
    "\n",
    "If you haven't found a dataset yet, do that today. [Review requirements for your portfolio project](https://lambdaschool.github.io/ds/unit2) and choose your dataset.\n",
    "\n",
    "Some students worry, ***what if my model isn't “good”?*** Then, [produce a detailed tribute to your wrongness. That is science!](https://twitter.com/nathanwpyle/status/1176860147223867393)"
   ]
  },
  {
   "cell_type": "code",
   "execution_count": 3,
   "metadata": {
    "colab": {
     "base_uri": "https://localhost:8080/",
     "height": 431
    },
    "colab_type": "code",
    "id": "Fhjl0O6nj5zT",
    "outputId": "294811b6-ed62-484e-f675-e144f67894b6"
   },
   "outputs": [
    {
     "name": "stdout",
     "output_type": "stream",
     "text": [
      "(15120, 56)\n"
     ]
    },
    {
     "data": {
      "text/html": [
       "<div>\n",
       "<style scoped>\n",
       "    .dataframe tbody tr th:only-of-type {\n",
       "        vertical-align: middle;\n",
       "    }\n",
       "\n",
       "    .dataframe tbody tr th {\n",
       "        vertical-align: top;\n",
       "    }\n",
       "\n",
       "    .dataframe thead th {\n",
       "        text-align: right;\n",
       "    }\n",
       "</style>\n",
       "<table border=\"1\" class=\"dataframe\">\n",
       "  <thead>\n",
       "    <tr style=\"text-align: right;\">\n",
       "      <th></th>\n",
       "      <th>Id</th>\n",
       "      <th>Elevation</th>\n",
       "      <th>Aspect</th>\n",
       "      <th>Slope</th>\n",
       "      <th>Horizontal_Distance_To_Hydrology</th>\n",
       "      <th>Vertical_Distance_To_Hydrology</th>\n",
       "      <th>Horizontal_Distance_To_Roadways</th>\n",
       "      <th>Hillshade_9am</th>\n",
       "      <th>Hillshade_Noon</th>\n",
       "      <th>Hillshade_3pm</th>\n",
       "      <th>...</th>\n",
       "      <th>Soil_Type32</th>\n",
       "      <th>Soil_Type33</th>\n",
       "      <th>Soil_Type34</th>\n",
       "      <th>Soil_Type35</th>\n",
       "      <th>Soil_Type36</th>\n",
       "      <th>Soil_Type37</th>\n",
       "      <th>Soil_Type38</th>\n",
       "      <th>Soil_Type39</th>\n",
       "      <th>Soil_Type40</th>\n",
       "      <th>Cover_Type</th>\n",
       "    </tr>\n",
       "  </thead>\n",
       "  <tbody>\n",
       "    <tr>\n",
       "      <th>0</th>\n",
       "      <td>1</td>\n",
       "      <td>2596</td>\n",
       "      <td>51</td>\n",
       "      <td>3</td>\n",
       "      <td>258</td>\n",
       "      <td>0</td>\n",
       "      <td>510</td>\n",
       "      <td>221</td>\n",
       "      <td>232</td>\n",
       "      <td>148</td>\n",
       "      <td>...</td>\n",
       "      <td>0</td>\n",
       "      <td>0</td>\n",
       "      <td>0</td>\n",
       "      <td>0</td>\n",
       "      <td>0</td>\n",
       "      <td>0</td>\n",
       "      <td>0</td>\n",
       "      <td>0</td>\n",
       "      <td>0</td>\n",
       "      <td>5</td>\n",
       "    </tr>\n",
       "    <tr>\n",
       "      <th>1</th>\n",
       "      <td>2</td>\n",
       "      <td>2590</td>\n",
       "      <td>56</td>\n",
       "      <td>2</td>\n",
       "      <td>212</td>\n",
       "      <td>-6</td>\n",
       "      <td>390</td>\n",
       "      <td>220</td>\n",
       "      <td>235</td>\n",
       "      <td>151</td>\n",
       "      <td>...</td>\n",
       "      <td>0</td>\n",
       "      <td>0</td>\n",
       "      <td>0</td>\n",
       "      <td>0</td>\n",
       "      <td>0</td>\n",
       "      <td>0</td>\n",
       "      <td>0</td>\n",
       "      <td>0</td>\n",
       "      <td>0</td>\n",
       "      <td>5</td>\n",
       "    </tr>\n",
       "    <tr>\n",
       "      <th>2</th>\n",
       "      <td>3</td>\n",
       "      <td>2804</td>\n",
       "      <td>139</td>\n",
       "      <td>9</td>\n",
       "      <td>268</td>\n",
       "      <td>65</td>\n",
       "      <td>3180</td>\n",
       "      <td>234</td>\n",
       "      <td>238</td>\n",
       "      <td>135</td>\n",
       "      <td>...</td>\n",
       "      <td>0</td>\n",
       "      <td>0</td>\n",
       "      <td>0</td>\n",
       "      <td>0</td>\n",
       "      <td>0</td>\n",
       "      <td>0</td>\n",
       "      <td>0</td>\n",
       "      <td>0</td>\n",
       "      <td>0</td>\n",
       "      <td>2</td>\n",
       "    </tr>\n",
       "    <tr>\n",
       "      <th>3</th>\n",
       "      <td>4</td>\n",
       "      <td>2785</td>\n",
       "      <td>155</td>\n",
       "      <td>18</td>\n",
       "      <td>242</td>\n",
       "      <td>118</td>\n",
       "      <td>3090</td>\n",
       "      <td>238</td>\n",
       "      <td>238</td>\n",
       "      <td>122</td>\n",
       "      <td>...</td>\n",
       "      <td>0</td>\n",
       "      <td>0</td>\n",
       "      <td>0</td>\n",
       "      <td>0</td>\n",
       "      <td>0</td>\n",
       "      <td>0</td>\n",
       "      <td>0</td>\n",
       "      <td>0</td>\n",
       "      <td>0</td>\n",
       "      <td>2</td>\n",
       "    </tr>\n",
       "    <tr>\n",
       "      <th>4</th>\n",
       "      <td>5</td>\n",
       "      <td>2595</td>\n",
       "      <td>45</td>\n",
       "      <td>2</td>\n",
       "      <td>153</td>\n",
       "      <td>-1</td>\n",
       "      <td>391</td>\n",
       "      <td>220</td>\n",
       "      <td>234</td>\n",
       "      <td>150</td>\n",
       "      <td>...</td>\n",
       "      <td>0</td>\n",
       "      <td>0</td>\n",
       "      <td>0</td>\n",
       "      <td>0</td>\n",
       "      <td>0</td>\n",
       "      <td>0</td>\n",
       "      <td>0</td>\n",
       "      <td>0</td>\n",
       "      <td>0</td>\n",
       "      <td>5</td>\n",
       "    </tr>\n",
       "  </tbody>\n",
       "</table>\n",
       "<p>5 rows × 56 columns</p>\n",
       "</div>"
      ],
      "text/plain": [
       "   Id  Elevation  Aspect  Slope  Horizontal_Distance_To_Hydrology  \\\n",
       "0   1       2596      51      3                               258   \n",
       "1   2       2590      56      2                               212   \n",
       "2   3       2804     139      9                               268   \n",
       "3   4       2785     155     18                               242   \n",
       "4   5       2595      45      2                               153   \n",
       "\n",
       "   Vertical_Distance_To_Hydrology  Horizontal_Distance_To_Roadways  \\\n",
       "0                               0                              510   \n",
       "1                              -6                              390   \n",
       "2                              65                             3180   \n",
       "3                             118                             3090   \n",
       "4                              -1                              391   \n",
       "\n",
       "   Hillshade_9am  Hillshade_Noon  Hillshade_3pm  ...  Soil_Type32  \\\n",
       "0            221             232            148  ...            0   \n",
       "1            220             235            151  ...            0   \n",
       "2            234             238            135  ...            0   \n",
       "3            238             238            122  ...            0   \n",
       "4            220             234            150  ...            0   \n",
       "\n",
       "   Soil_Type33  Soil_Type34  Soil_Type35  Soil_Type36  Soil_Type37  \\\n",
       "0            0            0            0            0            0   \n",
       "1            0            0            0            0            0   \n",
       "2            0            0            0            0            0   \n",
       "3            0            0            0            0            0   \n",
       "4            0            0            0            0            0   \n",
       "\n",
       "   Soil_Type38  Soil_Type39  Soil_Type40  Cover_Type  \n",
       "0            0            0            0           5  \n",
       "1            0            0            0           5  \n",
       "2            0            0            0           2  \n",
       "3            0            0            0           2  \n",
       "4            0            0            0           5  \n",
       "\n",
       "[5 rows x 56 columns]"
      ]
     },
     "execution_count": 3,
     "metadata": {},
     "output_type": "execute_result"
    }
   ],
   "source": [
    "import pandas as pd\n",
    "import numpy as np\n",
    "# !pip install category_encoders==2.*\n",
    "\n",
    "\n",
    "data = pd.read_csv('https://github.com/skhabiri/FORESTCOVER-METRICS/blob/master/data/train.csv?raw=true')\n",
    "print(data.shape)\n",
    "data.head()\n"
   ]
  },
  {
   "cell_type": "code",
   "execution_count": 4,
   "metadata": {
    "colab": {
     "base_uri": "https://localhost:8080/",
     "height": 307
    },
    "colab_type": "code",
    "id": "Eet92FMylJxN",
    "outputId": "b3901b26-a346-4c52-cc93-b73ec86cf662"
   },
   "outputs": [
    {
     "data": {
      "text/html": [
       "<div>\n",
       "<style scoped>\n",
       "    .dataframe tbody tr th:only-of-type {\n",
       "        vertical-align: middle;\n",
       "    }\n",
       "\n",
       "    .dataframe tbody tr th {\n",
       "        vertical-align: top;\n",
       "    }\n",
       "\n",
       "    .dataframe thead th {\n",
       "        text-align: right;\n",
       "    }\n",
       "</style>\n",
       "<table border=\"1\" class=\"dataframe\">\n",
       "  <thead>\n",
       "    <tr style=\"text-align: right;\">\n",
       "      <th></th>\n",
       "      <th>Id</th>\n",
       "      <th>Elevation</th>\n",
       "      <th>Aspect</th>\n",
       "      <th>Slope</th>\n",
       "      <th>Horizontal_Distance_To_Hydrology</th>\n",
       "      <th>Vertical_Distance_To_Hydrology</th>\n",
       "      <th>Horizontal_Distance_To_Roadways</th>\n",
       "      <th>Hillshade_9am</th>\n",
       "      <th>Hillshade_Noon</th>\n",
       "      <th>Hillshade_3pm</th>\n",
       "      <th>...</th>\n",
       "      <th>Soil_Type32</th>\n",
       "      <th>Soil_Type33</th>\n",
       "      <th>Soil_Type34</th>\n",
       "      <th>Soil_Type35</th>\n",
       "      <th>Soil_Type36</th>\n",
       "      <th>Soil_Type37</th>\n",
       "      <th>Soil_Type38</th>\n",
       "      <th>Soil_Type39</th>\n",
       "      <th>Soil_Type40</th>\n",
       "      <th>Cover_Type</th>\n",
       "    </tr>\n",
       "  </thead>\n",
       "  <tbody>\n",
       "    <tr>\n",
       "      <th>count</th>\n",
       "      <td>15120.00000</td>\n",
       "      <td>15120.000000</td>\n",
       "      <td>15120.000000</td>\n",
       "      <td>15120.000000</td>\n",
       "      <td>15120.000000</td>\n",
       "      <td>15120.000000</td>\n",
       "      <td>15120.000000</td>\n",
       "      <td>15120.000000</td>\n",
       "      <td>15120.000000</td>\n",
       "      <td>15120.000000</td>\n",
       "      <td>...</td>\n",
       "      <td>15120.000000</td>\n",
       "      <td>15120.000000</td>\n",
       "      <td>15120.000000</td>\n",
       "      <td>15120.000000</td>\n",
       "      <td>15120.000000</td>\n",
       "      <td>15120.000000</td>\n",
       "      <td>15120.000000</td>\n",
       "      <td>15120.000000</td>\n",
       "      <td>15120.000000</td>\n",
       "      <td>15120.000000</td>\n",
       "    </tr>\n",
       "    <tr>\n",
       "      <th>mean</th>\n",
       "      <td>7560.50000</td>\n",
       "      <td>2749.322553</td>\n",
       "      <td>156.676653</td>\n",
       "      <td>16.501587</td>\n",
       "      <td>227.195701</td>\n",
       "      <td>51.076521</td>\n",
       "      <td>1714.023214</td>\n",
       "      <td>212.704299</td>\n",
       "      <td>218.965608</td>\n",
       "      <td>135.091997</td>\n",
       "      <td>...</td>\n",
       "      <td>0.045635</td>\n",
       "      <td>0.040741</td>\n",
       "      <td>0.001455</td>\n",
       "      <td>0.006746</td>\n",
       "      <td>0.000661</td>\n",
       "      <td>0.002249</td>\n",
       "      <td>0.048148</td>\n",
       "      <td>0.043452</td>\n",
       "      <td>0.030357</td>\n",
       "      <td>4.000000</td>\n",
       "    </tr>\n",
       "    <tr>\n",
       "      <th>std</th>\n",
       "      <td>4364.91237</td>\n",
       "      <td>417.678187</td>\n",
       "      <td>110.085801</td>\n",
       "      <td>8.453927</td>\n",
       "      <td>210.075296</td>\n",
       "      <td>61.239406</td>\n",
       "      <td>1325.066358</td>\n",
       "      <td>30.561287</td>\n",
       "      <td>22.801966</td>\n",
       "      <td>45.895189</td>\n",
       "      <td>...</td>\n",
       "      <td>0.208699</td>\n",
       "      <td>0.197696</td>\n",
       "      <td>0.038118</td>\n",
       "      <td>0.081859</td>\n",
       "      <td>0.025710</td>\n",
       "      <td>0.047368</td>\n",
       "      <td>0.214086</td>\n",
       "      <td>0.203880</td>\n",
       "      <td>0.171574</td>\n",
       "      <td>2.000066</td>\n",
       "    </tr>\n",
       "    <tr>\n",
       "      <th>min</th>\n",
       "      <td>1.00000</td>\n",
       "      <td>1863.000000</td>\n",
       "      <td>0.000000</td>\n",
       "      <td>0.000000</td>\n",
       "      <td>0.000000</td>\n",
       "      <td>-146.000000</td>\n",
       "      <td>0.000000</td>\n",
       "      <td>0.000000</td>\n",
       "      <td>99.000000</td>\n",
       "      <td>0.000000</td>\n",
       "      <td>...</td>\n",
       "      <td>0.000000</td>\n",
       "      <td>0.000000</td>\n",
       "      <td>0.000000</td>\n",
       "      <td>0.000000</td>\n",
       "      <td>0.000000</td>\n",
       "      <td>0.000000</td>\n",
       "      <td>0.000000</td>\n",
       "      <td>0.000000</td>\n",
       "      <td>0.000000</td>\n",
       "      <td>1.000000</td>\n",
       "    </tr>\n",
       "    <tr>\n",
       "      <th>25%</th>\n",
       "      <td>3780.75000</td>\n",
       "      <td>2376.000000</td>\n",
       "      <td>65.000000</td>\n",
       "      <td>10.000000</td>\n",
       "      <td>67.000000</td>\n",
       "      <td>5.000000</td>\n",
       "      <td>764.000000</td>\n",
       "      <td>196.000000</td>\n",
       "      <td>207.000000</td>\n",
       "      <td>106.000000</td>\n",
       "      <td>...</td>\n",
       "      <td>0.000000</td>\n",
       "      <td>0.000000</td>\n",
       "      <td>0.000000</td>\n",
       "      <td>0.000000</td>\n",
       "      <td>0.000000</td>\n",
       "      <td>0.000000</td>\n",
       "      <td>0.000000</td>\n",
       "      <td>0.000000</td>\n",
       "      <td>0.000000</td>\n",
       "      <td>2.000000</td>\n",
       "    </tr>\n",
       "    <tr>\n",
       "      <th>50%</th>\n",
       "      <td>7560.50000</td>\n",
       "      <td>2752.000000</td>\n",
       "      <td>126.000000</td>\n",
       "      <td>15.000000</td>\n",
       "      <td>180.000000</td>\n",
       "      <td>32.000000</td>\n",
       "      <td>1316.000000</td>\n",
       "      <td>220.000000</td>\n",
       "      <td>223.000000</td>\n",
       "      <td>138.000000</td>\n",
       "      <td>...</td>\n",
       "      <td>0.000000</td>\n",
       "      <td>0.000000</td>\n",
       "      <td>0.000000</td>\n",
       "      <td>0.000000</td>\n",
       "      <td>0.000000</td>\n",
       "      <td>0.000000</td>\n",
       "      <td>0.000000</td>\n",
       "      <td>0.000000</td>\n",
       "      <td>0.000000</td>\n",
       "      <td>4.000000</td>\n",
       "    </tr>\n",
       "    <tr>\n",
       "      <th>75%</th>\n",
       "      <td>11340.25000</td>\n",
       "      <td>3104.000000</td>\n",
       "      <td>261.000000</td>\n",
       "      <td>22.000000</td>\n",
       "      <td>330.000000</td>\n",
       "      <td>79.000000</td>\n",
       "      <td>2270.000000</td>\n",
       "      <td>235.000000</td>\n",
       "      <td>235.000000</td>\n",
       "      <td>167.000000</td>\n",
       "      <td>...</td>\n",
       "      <td>0.000000</td>\n",
       "      <td>0.000000</td>\n",
       "      <td>0.000000</td>\n",
       "      <td>0.000000</td>\n",
       "      <td>0.000000</td>\n",
       "      <td>0.000000</td>\n",
       "      <td>0.000000</td>\n",
       "      <td>0.000000</td>\n",
       "      <td>0.000000</td>\n",
       "      <td>6.000000</td>\n",
       "    </tr>\n",
       "    <tr>\n",
       "      <th>max</th>\n",
       "      <td>15120.00000</td>\n",
       "      <td>3849.000000</td>\n",
       "      <td>360.000000</td>\n",
       "      <td>52.000000</td>\n",
       "      <td>1343.000000</td>\n",
       "      <td>554.000000</td>\n",
       "      <td>6890.000000</td>\n",
       "      <td>254.000000</td>\n",
       "      <td>254.000000</td>\n",
       "      <td>248.000000</td>\n",
       "      <td>...</td>\n",
       "      <td>1.000000</td>\n",
       "      <td>1.000000</td>\n",
       "      <td>1.000000</td>\n",
       "      <td>1.000000</td>\n",
       "      <td>1.000000</td>\n",
       "      <td>1.000000</td>\n",
       "      <td>1.000000</td>\n",
       "      <td>1.000000</td>\n",
       "      <td>1.000000</td>\n",
       "      <td>7.000000</td>\n",
       "    </tr>\n",
       "  </tbody>\n",
       "</table>\n",
       "<p>8 rows × 56 columns</p>\n",
       "</div>"
      ],
      "text/plain": [
       "                Id     Elevation        Aspect         Slope  \\\n",
       "count  15120.00000  15120.000000  15120.000000  15120.000000   \n",
       "mean    7560.50000   2749.322553    156.676653     16.501587   \n",
       "std     4364.91237    417.678187    110.085801      8.453927   \n",
       "min        1.00000   1863.000000      0.000000      0.000000   \n",
       "25%     3780.75000   2376.000000     65.000000     10.000000   \n",
       "50%     7560.50000   2752.000000    126.000000     15.000000   \n",
       "75%    11340.25000   3104.000000    261.000000     22.000000   \n",
       "max    15120.00000   3849.000000    360.000000     52.000000   \n",
       "\n",
       "       Horizontal_Distance_To_Hydrology  Vertical_Distance_To_Hydrology  \\\n",
       "count                      15120.000000                    15120.000000   \n",
       "mean                         227.195701                       51.076521   \n",
       "std                          210.075296                       61.239406   \n",
       "min                            0.000000                     -146.000000   \n",
       "25%                           67.000000                        5.000000   \n",
       "50%                          180.000000                       32.000000   \n",
       "75%                          330.000000                       79.000000   \n",
       "max                         1343.000000                      554.000000   \n",
       "\n",
       "       Horizontal_Distance_To_Roadways  Hillshade_9am  Hillshade_Noon  \\\n",
       "count                     15120.000000   15120.000000    15120.000000   \n",
       "mean                       1714.023214     212.704299      218.965608   \n",
       "std                        1325.066358      30.561287       22.801966   \n",
       "min                           0.000000       0.000000       99.000000   \n",
       "25%                         764.000000     196.000000      207.000000   \n",
       "50%                        1316.000000     220.000000      223.000000   \n",
       "75%                        2270.000000     235.000000      235.000000   \n",
       "max                        6890.000000     254.000000      254.000000   \n",
       "\n",
       "       Hillshade_3pm  ...   Soil_Type32   Soil_Type33   Soil_Type34  \\\n",
       "count   15120.000000  ...  15120.000000  15120.000000  15120.000000   \n",
       "mean      135.091997  ...      0.045635      0.040741      0.001455   \n",
       "std        45.895189  ...      0.208699      0.197696      0.038118   \n",
       "min         0.000000  ...      0.000000      0.000000      0.000000   \n",
       "25%       106.000000  ...      0.000000      0.000000      0.000000   \n",
       "50%       138.000000  ...      0.000000      0.000000      0.000000   \n",
       "75%       167.000000  ...      0.000000      0.000000      0.000000   \n",
       "max       248.000000  ...      1.000000      1.000000      1.000000   \n",
       "\n",
       "        Soil_Type35   Soil_Type36   Soil_Type37   Soil_Type38   Soil_Type39  \\\n",
       "count  15120.000000  15120.000000  15120.000000  15120.000000  15120.000000   \n",
       "mean       0.006746      0.000661      0.002249      0.048148      0.043452   \n",
       "std        0.081859      0.025710      0.047368      0.214086      0.203880   \n",
       "min        0.000000      0.000000      0.000000      0.000000      0.000000   \n",
       "25%        0.000000      0.000000      0.000000      0.000000      0.000000   \n",
       "50%        0.000000      0.000000      0.000000      0.000000      0.000000   \n",
       "75%        0.000000      0.000000      0.000000      0.000000      0.000000   \n",
       "max        1.000000      1.000000      1.000000      1.000000      1.000000   \n",
       "\n",
       "        Soil_Type40    Cover_Type  \n",
       "count  15120.000000  15120.000000  \n",
       "mean       0.030357      4.000000  \n",
       "std        0.171574      2.000066  \n",
       "min        0.000000      1.000000  \n",
       "25%        0.000000      2.000000  \n",
       "50%        0.000000      4.000000  \n",
       "75%        0.000000      6.000000  \n",
       "max        1.000000      7.000000  \n",
       "\n",
       "[8 rows x 56 columns]"
      ]
     },
     "execution_count": 4,
     "metadata": {},
     "output_type": "execute_result"
    }
   ],
   "source": [
    "data.describe()"
   ]
  },
  {
   "cell_type": "code",
   "execution_count": 5,
   "metadata": {
    "colab": {
     "base_uri": "https://localhost:8080/",
     "height": 1000
    },
    "colab_type": "code",
    "id": "jPGkkLDamTly",
    "outputId": "8f9b0ee0-ab68-4bb9-a51d-3e984a61c27c"
   },
   "outputs": [
    {
     "data": {
      "text/plain": [
       "Id                                    15120\n",
       "Horizontal_Distance_To_Roadways        3250\n",
       "Horizontal_Distance_To_Fire_Points     2710\n",
       "Elevation                              1665\n",
       "Vertical_Distance_To_Hydrology          423\n",
       "Horizontal_Distance_To_Hydrology        400\n",
       "Aspect                                  361\n",
       "Hillshade_3pm                           247\n",
       "Hillshade_9am                           176\n",
       "Hillshade_Noon                          141\n",
       "Slope                                    52\n",
       "Cover_Type                                7\n",
       "Soil_Type29                               2\n",
       "Soil_Type28                               2\n",
       "Soil_Type5                                2\n",
       "Soil_Type4                                2\n",
       "Soil_Type3                                2\n",
       "Soil_Type2                                2\n",
       "Soil_Type1                                2\n",
       "Wilderness_Area4                          2\n",
       "Wilderness_Area3                          2\n",
       "Wilderness_Area2                          2\n",
       "Wilderness_Area1                          2\n",
       "Soil_Type30                               2\n",
       "Soil_Type31                               2\n",
       "Soil_Type32                               2\n",
       "Soil_Type33                               2\n",
       "Soil_Type34                               2\n",
       "Soil_Type35                               2\n",
       "Soil_Type36                               2\n",
       "Soil_Type37                               2\n",
       "Soil_Type38                               2\n",
       "Soil_Type39                               2\n",
       "Soil_Type6                                2\n",
       "Soil_Type13                               2\n",
       "Soil_Type8                                2\n",
       "Soil_Type19                               2\n",
       "Soil_Type27                               2\n",
       "Soil_Type26                               2\n",
       "Soil_Type25                               2\n",
       "Soil_Type24                               2\n",
       "Soil_Type23                               2\n",
       "Soil_Type22                               2\n",
       "Soil_Type21                               2\n",
       "Soil_Type20                               2\n",
       "Soil_Type18                               2\n",
       "Soil_Type9                                2\n",
       "Soil_Type17                               2\n",
       "Soil_Type16                               2\n",
       "Soil_Type14                               2\n",
       "Soil_Type40                               2\n",
       "Soil_Type12                               2\n",
       "Soil_Type11                               2\n",
       "Soil_Type10                               2\n",
       "Soil_Type15                               1\n",
       "Soil_Type7                                1\n",
       "dtype: int64"
      ]
     },
     "execution_count": 5,
     "metadata": {},
     "output_type": "execute_result"
    }
   ],
   "source": [
    "data.nunique().sort_values(ascending=False)"
   ]
  },
  {
   "cell_type": "code",
   "execution_count": 6,
   "metadata": {
    "colab": {
     "base_uri": "https://localhost:8080/",
     "height": 745
    },
    "colab_type": "code",
    "id": "ivIGCS568sK3",
    "outputId": "76dfea69-45fa-47ee-e050-8e7920739a23"
   },
   "outputs": [
    {
     "data": {
      "text/plain": [
       "Soil_Type2                    [0, 1]\n",
       "Soil_Type3                    [0, 1]\n",
       "Soil_Type4                    [0, 1]\n",
       "Soil_Type5                    [0, 1]\n",
       "Soil_Type6                    [0, 1]\n",
       "Soil_Type7                       [0]\n",
       "Soil_Type8                    [0, 1]\n",
       "Soil_Type9                    [0, 1]\n",
       "Soil_Type10                   [0, 1]\n",
       "Soil_Type11                   [0, 1]\n",
       "Soil_Type12                   [0, 1]\n",
       "Soil_Type13                   [0, 1]\n",
       "Soil_Type14                   [0, 1]\n",
       "Soil_Type15                      [0]\n",
       "Soil_Type16                   [0, 1]\n",
       "Soil_Type17                   [0, 1]\n",
       "Soil_Type18                   [0, 1]\n",
       "Soil_Type19                   [0, 1]\n",
       "Soil_Type20                   [0, 1]\n",
       "Soil_Type21                   [0, 1]\n",
       "Soil_Type22                   [0, 1]\n",
       "Soil_Type23                   [0, 1]\n",
       "Soil_Type24                   [0, 1]\n",
       "Soil_Type25                   [0, 1]\n",
       "Soil_Type26                   [0, 1]\n",
       "Soil_Type27                   [0, 1]\n",
       "Soil_Type28                   [0, 1]\n",
       "Soil_Type29                   [1, 0]\n",
       "Soil_Type30                   [0, 1]\n",
       "Soil_Type31                   [0, 1]\n",
       "Soil_Type32                   [0, 1]\n",
       "Soil_Type33                   [0, 1]\n",
       "Soil_Type34                   [0, 1]\n",
       "Soil_Type35                   [0, 1]\n",
       "Soil_Type36                   [0, 1]\n",
       "Soil_Type37                   [0, 1]\n",
       "Soil_Type38                   [0, 1]\n",
       "Soil_Type39                   [0, 1]\n",
       "Soil_Type40                   [0, 1]\n",
       "Cover_Type     [5, 2, 1, 7, 3, 6, 4]\n",
       "dtype: object"
      ]
     },
     "execution_count": 6,
     "metadata": {},
     "output_type": "execute_result"
    }
   ],
   "source": [
    "pd.Series({c: data[c].unique() for c in data})[-40:]\n",
    "# [data[col].unique() for col in data]"
   ]
  },
  {
   "cell_type": "markdown",
   "metadata": {
    "colab_type": "text",
    "id": "3ue1pALV-enF"
   },
   "source": [
    "Our target label is \"Cover_Type\"\n",
    "We will drop imb% imbalance low cardinal features. We also drop \"id\" column."
   ]
  },
  {
   "cell_type": "code",
   "execution_count": 13,
   "metadata": {
    "colab": {},
    "colab_type": "code",
    "id": "CfN8GfkU7wuw"
   },
   "outputs": [],
   "source": [
    "def wrangle_pre(X, imb=0.95):\n",
    "  print(f'Original data shape: {X.shape}')\n",
    "  X=X.copy()\n",
    "  # drop the binary features with imb% imbalance\n",
    "  mask = X.nunique().sort_values(ascending=False) < 5\n",
    "  lowcard_col = X.nunique().sort_values(ascending=False)[mask].index\n",
    "\n",
    "  mask2 = pd.Series({col: X[col].value_counts().max()/X[col].value_counts().sum() for col in lowcard_col}).sort_values(ascending=False)\n",
    "  mask2 = mask2[mask2 >= imb]\n",
    "\n",
    "  drop_col = [\"Id\"] + list(mask2.index)\n",
    "  print(f' Number of columns to drop: {len(drop_col)}')\n",
    "  \n",
    "  return drop_col\n",
    "\n",
    "def wrangle(X, drop_count=1):\n",
    "  print(\"drop_count parameter: \",drop_count)\n",
    "#   X = X.copy()\n",
    "  X = X.drop(labels=drop_col[:drop_count], axis=1)\n",
    "  print(f'X shape during wrangle: {X.shape}')\n",
    "  return X\n"
   ]
  },
  {
   "cell_type": "code",
   "execution_count": 14,
   "metadata": {
    "colab": {
     "base_uri": "https://localhost:8080/",
     "height": 34
    },
    "colab_type": "code",
    "id": "4fkwRU0eSrPt",
    "outputId": "372245d0-b00b-4c6e-d2fa-37dbe8fcdceb"
   },
   "outputs": [
    {
     "name": "stdout",
     "output_type": "stream",
     "text": [
      "train: (12096, 56), val: (3024, 56)\n"
     ]
    }
   ],
   "source": [
    "from sklearn.model_selection import train_test_split\n",
    "\n",
    "# Split train into train & val\n",
    "train, val = train_test_split(data, train_size=0.80, test_size=0.20, stratify=data[\"Cover_Type\"], \n",
    "                                random_state=42)\n",
    "print(f'train: {train.shape}, val: {val.shape}')\n",
    "\n",
    "\n",
    "# Separate class label and data \n",
    "y_train = train[\"Cover_Type\"]\n",
    "X_train = train.drop(\"Cover_Type\", axis=1)\n",
    "y_val = val[\"Cover_Type\"]\n",
    "X_val = val.drop(\"Cover_Type\", axis=1)"
   ]
  },
  {
   "cell_type": "code",
   "execution_count": 15,
   "metadata": {
    "colab": {
     "base_uri": "https://localhost:8080/",
     "height": 52
    },
    "colab_type": "code",
    "id": "TlVcSH9h9sZm",
    "outputId": "43e57e82-6ae3-47bf-ea32-36299609f12f"
   },
   "outputs": [
    {
     "name": "stdout",
     "output_type": "stream",
     "text": [
      "Original data shape: (12096, 55)\n",
      " Number of columns to drop: 43\n"
     ]
    }
   ],
   "source": [
    "drop_col = wrangle_pre(X_train, 0.7)"
   ]
  },
  {
   "cell_type": "code",
   "execution_count": 16,
   "metadata": {
    "colab": {},
    "colab_type": "code",
    "id": "WGb3uCdhJsbN"
   },
   "outputs": [],
   "source": [
    "%matplotlib inline\n",
    "import category_encoders as ce\n",
    "import matplotlib.pyplot as plt\n",
    "import seaborn as sns\n",
    "from sklearn.impute import SimpleImputer\n",
    "from sklearn.model_selection import train_test_split\n",
    "from sklearn.pipeline import make_pipeline\n",
    "from sklearn.preprocessing import FunctionTransformer\n",
    "from sklearn.ensemble import RandomForestClassifier\n",
    "\n",
    "from sklearn.model_selection import GridSearchCV, RandomizedSearchCV\n",
    "from sklearn.model_selection import cross_val_score\n",
    "from sklearn.model_selection import validation_curve\n",
    "\n",
    "from sklearn.metrics import accuracy_score, mean_absolute_error\n",
    "\n",
    "import random \n"
   ]
  },
  {
   "cell_type": "code",
   "execution_count": 17,
   "metadata": {
    "colab": {
     "base_uri": "https://localhost:8080/",
     "height": 407
    },
    "colab_type": "code",
    "id": "vJCY1H6ab5ew",
    "outputId": "4a025d9a-f057-440b-892b-ee79d60d0022"
   },
   "outputs": [
    {
     "name": "stdout",
     "output_type": "stream",
     "text": [
      " X_train shape before pipeline: (12096, 55)\n",
      "\n",
      "fitting ...\n",
      "drop_count parameter:  38\n",
      "X shape during wrangle: (12096, 17)\n",
      " X_train shape after fitting : (12096, 55)\n",
      "\n",
      "getting X_train transformed column labels\n",
      "drop_count parameter:  38\n",
      "X shape during wrangle: (12096, 17)\n",
      "55 17 38\n",
      "\n",
      "predicting ...\n",
      "drop_count parameter:  38\n",
      "X shape during wrangle: (3024, 17)\n",
      " X_val shape after predict : (3024, 55)\n",
      "\n",
      "Accuracy ...\n",
      "drop_count parameter:  38\n",
      "X shape during wrangle: (12096, 17)\n",
      "Training Accuracy 0.8974867724867724\n",
      "Validation Accuracy 0.8234126984126984\n"
     ]
    }
   ],
   "source": [
    "print(f' X_train shape before pipeline: {X_train.shape}')\n",
    "\n",
    "# Make pipeline!\n",
    "pipeline = make_pipeline(\n",
    "    FunctionTransformer(wrangle, validate=False), \n",
    "    # ce.OrdinalEncoder(), \n",
    "    # SimpleImputer(strategy='mean'), \n",
    "    RandomForestClassifier(n_estimators=10, criterion='entropy', max_depth=20, \n",
    "                           min_samples_split=20, min_samples_leaf=6, min_weight_fraction_leaf=0.0, \n",
    "                           max_features=0.5, max_leaf_nodes=None, min_impurity_decrease=0.0, \n",
    "                           min_impurity_split=None, bootstrap=True, oob_score=False, n_jobs=-1, \n",
    "                           random_state=42, verbose=0, warm_start=False, class_weight=None, \n",
    "                           ccp_alpha=0.0, max_samples=None)\n",
    "    )\n",
    "\n",
    "drop_count = int(0.9*len(drop_col))\n",
    "pipeline.set_params(functiontransformer__kw_args={'drop_count': drop_count})\n",
    "\n",
    "# Fit on train, score on val\n",
    "\n",
    "#.fit: WITHOUT CHANGING X APPLIES THE TRANSFORM AND CHECK TO SEE IF y FITS TRANSFORMED OF X\n",
    "print(\"\\nfitting ...\")\n",
    "pipeline.fit(X_train, y_train)\n",
    "print(f' X_train shape after fitting : {X_train.shape}')\n",
    "\n",
    "print(\"\\ngetting X_train transformed column labels\")\n",
    "wrangle_col = pipeline.named_steps['functiontransformer'].transform(X_train).columns\n",
    "print(len(X_train.columns), len(wrangle_col), drop_count)\n",
    "assert len(X_train.columns) == len(wrangle_col) + drop_count\n",
    "\n",
    "print(\"\\npredicting ...\")\n",
    "y_pred = pipeline.predict(X_val)\n",
    "print(f' X_val shape after predict : {X_val.shape}')\n",
    "\n",
    "print(\"\\nAccuracy ...\")\n",
    "print('Training Accuracy', accuracy_score(y_train, pipeline.predict(X_train)))\n",
    "print('Validation Accuracy', accuracy_score(y_val, y_pred))"
   ]
  },
  {
   "cell_type": "code",
   "execution_count": 18,
   "metadata": {
    "colab": {
     "base_uri": "https://localhost:8080/",
     "height": 141
    },
    "colab_type": "code",
    "id": "C0HR9gYss7r5",
    "outputId": "a7c2fa1c-3f0f-454a-b98e-86484f00919a"
   },
   "outputs": [
    {
     "name": "stdout",
     "output_type": "stream",
     "text": [
      "{'accept_sparse': False, 'check_inverse': True, 'func': <function wrangle at 0x11bb70f80>, 'inv_kw_args': None, 'inverse_func': None, 'kw_args': {'drop_count': 38}, 'validate': False}\n"
     ]
    }
   ],
   "source": [
    "print(pipeline.named_steps['functiontransformer'].get_params())"
   ]
  },
  {
   "cell_type": "code",
   "execution_count": 28,
   "metadata": {
    "colab": {},
    "colab_type": "code",
    "id": "nVEiALCXbEyi"
   },
   "outputs": [
    {
     "name": "stdout",
     "output_type": "stream",
     "text": [
      "drop_count parameter:  38\n",
      "X shape during wrangle: (3024, 17)\n"
     ]
    },
    {
     "data": {
      "text/plain": [
       "<AxesSubplot:>"
      ]
     },
     "execution_count": 28,
     "metadata": {},
     "output_type": "execute_result"
    },
    {
     "data": {
      "image/png": "[encoded data removed]",
      "text/plain": [
       "<Figure size 1080x576 with 1 Axes>"
      ]
     },
     "metadata": {
      "needs_background": "light"
     },
     "output_type": "display_data"
    }
   ],
   "source": [
    "model = pipeline.named_steps['randomforestclassifier']\n",
    "# encoder = pipeline.named_steps['onehotencoder']\n",
    "# encoded_columns = encoder.transform(X_val).columns\n",
    "fnx = pipeline.named_steps['functiontransformer']\n",
    "features = fnx.transform(X_val).columns\n",
    "importances = pd.Series(data=model.feature_importances_,index=features)\n",
    "plt.figure(figsize=(15,8))\n",
    "importances.sort_values().plot.barh()"
   ]
  },
  {
   "cell_type": "code",
   "execution_count": 30,
   "metadata": {},
   "outputs": [
    {
     "data": {
      "text/plain": [
       "[{'drop_count': 0},\n",
       " {'drop_count': 1},\n",
       " {'drop_count': 2},\n",
       " {'drop_count': 3},\n",
       " {'drop_count': 4},\n",
       " {'drop_count': 5},\n",
       " {'drop_count': 6},\n",
       " {'drop_count': 7},\n",
       " {'drop_count': 8},\n",
       " {'drop_count': 9}]"
      ]
     },
     "execution_count": 30,
     "metadata": {},
     "output_type": "execute_result"
    }
   ],
   "source": [
    "par_name = \"drop_count\"\n",
    "param_range = [{par_name: i} for i in range(len(drop_col))]\n",
    "param_range[:10]"
   ]
  },
  {
   "cell_type": "code",
   "execution_count": 31,
   "metadata": {
    "colab": {
     "base_uri": "https://localhost:8080/",
     "height": 1000
    },
    "colab_type": "code",
    "id": "6q5ZljwKZjUt",
    "outputId": "5dbe0e08-24ac-4001-f9f7-8793260bad34"
   },
   "outputs": [
    {
     "name": "stdout",
     "output_type": "stream",
     "text": [
      "train scores [[0.90378255 0.90038235 0.89604216 0.90172574 0.90069236]\n",
      " [0.89913187 0.89097861 0.89469877 0.89521546 0.89438876]\n",
      " [0.89355105 0.89015191 0.89201199 0.89542213 0.89459543]\n",
      " [0.89820174 0.89139196 0.89356205 0.89304537 0.88994523]\n",
      " [0.8970649  0.89707554 0.89242534 0.89387207 0.89294203]\n",
      " [0.8974783  0.892322   0.89004857 0.89025524 0.89604216]\n",
      " [0.8938611  0.88808515 0.89263201 0.89469877 0.88994523]\n",
      " [0.89251757 0.89366539 0.89046192 0.89449209 0.89159864]\n",
      " [0.89334436 0.89438876 0.89449209 0.89097861 0.8893252 ]\n",
      " [0.89923522 0.8953188  0.89211532 0.89552547 0.89242534]\n",
      " [0.89375775 0.89345872 0.88963522 0.89283869 0.88550171]\n",
      " [0.89479124 0.89242534 0.89304537 0.89438876 0.89500878]\n",
      " [0.89551468 0.89356205 0.89170197 0.89356205 0.88777514]\n",
      " [0.89541133 0.89438876 0.89438876 0.89252868 0.89449209]\n",
      " [0.89375775 0.89376873 0.89748889 0.88839516 0.89252868]\n",
      " [0.89954527 0.89283869 0.89583549 0.89201199 0.88736179]\n",
      " [0.89582472 0.88963522 0.892322   0.89345872 0.89500878]\n",
      " [0.89861513 0.89676553 0.89511212 0.89490545 0.89707554]\n",
      " [0.89551468 0.89604216 0.89242534 0.89500878 0.8914953 ]\n",
      " [0.8972716  0.89077193 0.89242534 0.89046192 0.89097861]\n",
      " [0.89313766 0.8893252  0.89387207 0.89428542 0.89283869]\n",
      " [0.89417115 0.89221866 0.89097861 0.89418208 0.89015191]\n",
      " [0.89210418 0.88953188 0.89449209 0.89263201 0.88973856]\n",
      " [0.89127739 0.89015191 0.89056526 0.892322   0.88891185]\n",
      " [0.89685821 0.89139196 0.89139196 0.8906686  0.88798181]\n",
      " [0.89138074 0.89221866 0.89025524 0.8906686  0.88426165]\n",
      " [0.89313766 0.8914953  0.89201199 0.89356205 0.88911853]\n",
      " [0.89220752 0.89139196 0.88891185 0.892322   0.89376873]\n",
      " [0.89334436 0.88880852 0.89087527 0.89025524 0.88746512]\n",
      " [0.89210418 0.89438876 0.89211532 0.89087527 0.88984189]\n",
      " [0.89520463 0.88829183 0.89108195 0.88880852 0.89004857]\n",
      " [0.89179413 0.8906686  0.89304537 0.89521546 0.88477834]\n",
      " [0.89582472 0.89325204 0.88994523 0.89035858 0.88663842]\n",
      " [0.89572137 0.88901519 0.88694843 0.88963522 0.88736179]\n",
      " [0.89468789 0.89407874 0.89118528 0.89480211 0.88973856]\n",
      " [0.89344771 0.88880852 0.88860184 0.89097861 0.88746512]\n",
      " [0.8938611  0.88529503 0.89056526 0.88808515 0.88798181]\n",
      " [0.8904506  0.89273535 0.89242534 0.88808515 0.88415831]\n",
      " [0.89096734 0.89025524 0.89128862 0.89025524 0.88612173]\n",
      " [0.89272427 0.88880852 0.88994523 0.8893252  0.88870518]\n",
      " [0.88445639 0.88612173 0.88674176 0.89015191 0.88870518]\n",
      " [0.89262092 0.88405498 0.8884985  0.88519169 0.87868141]\n",
      " [0.88745349 0.8821949  0.87909476 0.88271158 0.87899142]]\n",
      "train scores mean [0.90052503 0.89488269 0.8931465  0.89322927 0.89467598 0.89322925\n",
      " 0.89184445 0.89254712 0.8925058  0.89492403 0.89103842 0.8939319\n",
      " 0.89242318 0.89424192 0.89318784 0.89351864 0.89324989 0.89649475\n",
      " 0.89409725 0.89238188 0.89269181 0.89234048 0.89169974 0.89064568\n",
      " 0.89165851 0.88975698 0.89186511 0.89172041 0.8901497  0.89186508\n",
      " 0.8906871  0.89110038 0.8912038  0.8897364  0.89289852 0.88986036\n",
      " 0.88915767 0.88957095 0.88977764 0.88990168 0.88723539 0.8858095\n",
      " 0.88208923]\n"
     ]
    },
    {
     "data": {
      "image/png": "[encoded data removed]",
      "text/plain": [
       "<Figure size 900x600 with 1 Axes>"
      ]
     },
     "metadata": {
      "needs_background": "light"
     },
     "output_type": "display_data"
    }
   ],
   "source": [
    "#Sweep over different values for drop_count, upto. the length of drop_col\n",
    "par_name = \"drop_count\"\n",
    "param_range = [{par_name: i} for i in range(len(drop_col))]\n",
    "param_rangex = [i for i in range(len(drop_col))]\n",
    "\n",
    "# par_name = \"max_features\"\n",
    "# param_range = np.arange(0.1,1.1,0.1)\n",
    "# param_rangex = param_range\n",
    "               \n",
    "# par_name = \"max_depth\"\n",
    "# param_range = range(1,25,1)\n",
    "# param_rangex = param_range\n",
    "\n",
    "# par_name = \"min_samples_split\"\n",
    "# param_range = np.linspace(10, 0.01*len(X_train), 10, endpoint=True).astype(int)\n",
    "# param_rangex = param_range\n",
    "\n",
    "# par_name = \"min_samples_leaf\"\n",
    "# param_range = np.linspace(2, 0.001*len(X_train), 10, endpoint=True).astype(int)\n",
    "# param_rangex = param_range\n",
    "\n",
    "# par_name = \"criterion\"\n",
    "# param_range = [\"gini\", \"entropy\"]\n",
    "# param_rangex = param_range\n",
    "\n",
    "\n",
    "train_scores, val_scores = validation_curve(\n",
    "    pipeline, X_train, y_train,\n",
    "    param_name='functiontransformer__kw_args',\n",
    "    # param_name='randomforestclassifier__'+ par_name, \n",
    "    \n",
    "    param_range=param_range, \n",
    "    scoring='accuracy', \n",
    "    cv=5,\n",
    "    n_jobs=-1\n",
    ")\n",
    "print(\"train scores\", train_scores)\n",
    "# average over all CV folds\n",
    "print(\"train scores mean\", np.mean(train_scores, axis=1))\n",
    "\n",
    "# Averaging CV scores\n",
    "plt.figure(dpi=150)\n",
    "plt.plot(param_rangex, np.mean(train_scores, axis=1), color='blue', label='training accuracy')\n",
    "plt.plot(param_rangex, np.mean(val_scores, axis=1), color='red', label='validation accuracy')\n",
    "plt.title('Validation Curve')\n",
    "plt.xlabel(f'model complexity: Pipeline {par_name}')\n",
    "plt.ylabel('model score: Accuracy')\n",
    "plt.legend();"
   ]
  },
  {
   "cell_type": "code",
   "execution_count": 32,
   "metadata": {
    "colab": {
     "base_uri": "https://localhost:8080/",
     "height": 87
    },
    "colab_type": "code",
    "id": "P9BTdvZ-c3Cm",
    "outputId": "e24f3dde-83e6-4ecb-8b84-78e1ab9d4901"
   },
   "outputs": [
    {
     "name": "stdout",
     "output_type": "stream",
     "text": [
      "Model Hyperparameters:\n",
      "FunctionTransformer(func=<function wrangle at 0x11bb70f80>,\n",
      "                    kw_args={'drop_count': 38})\n"
     ]
    }
   ],
   "source": [
    "print('Model Hyperparameters:')\n",
    "print(pipeline.named_steps['functiontransformer'])"
   ]
  },
  {
   "cell_type": "code",
   "execution_count": 33,
   "metadata": {
    "colab": {},
    "colab_type": "code",
    "id": "5cEzxfNTpmIB"
   },
   "outputs": [],
   "source": [
    "# pipe = make_pipeline(FunctionTransformer(log_columns, ), PCA(), SVC())\n",
    "\n",
    "# param_grid = dict(\n",
    "#     functiontransformer__kw_args=[\n",
    "#         {'col_idx': None},\n",
    "#         {'col_idx': [1]}\n",
    "#     ],\n",
    "#     pca__n_components=[2, 5, 10],\n",
    "#     svc__C=[0.1, 10, 100],\n",
    "# )\n",
    "# grid_search = GridSearchCV(pipe, param_grid=param_grid)\n",
    "\n",
    "# digits = load_digits()\n",
    "# res = grid_search.fit(digits.data, digits.target)      "
   ]
  },
  {
   "cell_type": "code",
   "execution_count": 34,
   "metadata": {
    "colab": {
     "base_uri": "https://localhost:8080/",
     "height": 34
    },
    "colab_type": "code",
    "id": "IZGicnLl07ON",
    "outputId": "f61507b7-9e83-46fe-a278-1af55c0628f0"
   },
   "outputs": [
    {
     "data": {
      "text/plain": [
       "(12096, 55)"
      ]
     },
     "execution_count": 34,
     "metadata": {},
     "output_type": "execute_result"
    }
   ],
   "source": [
    "X_train.shape"
   ]
  },
  {
   "cell_type": "code",
   "execution_count": 35,
   "metadata": {
    "colab": {
     "base_uri": "https://localhost:8080/",
     "height": 354
    },
    "colab_type": "code",
    "id": "4yyMSmLFRAMO",
    "outputId": "5320b26f-f8a9-4161-e440-425b212a751d"
   },
   "outputs": [
    {
     "name": "stdout",
     "output_type": "stream",
     "text": [
      "Model Hyperparameters:\n",
      "RandomForestClassifier(criterion='entropy', max_depth=20, max_features=0.5,\n",
      "                       min_samples_leaf=6, min_samples_split=20,\n",
      "                       n_estimators=10, n_jobs=-1, random_state=42)\n",
      "Fitting 2 folds for each of 2 candidates, totalling 4 fits\n"
     ]
    },
    {
     "name": "stderr",
     "output_type": "stream",
     "text": [
      "[Parallel(n_jobs=-1)]: Using backend LokyBackend with 8 concurrent workers.\n",
      "[Parallel(n_jobs=-1)]: Done   1 tasks      | elapsed:    2.0s\n",
      "[Parallel(n_jobs=-1)]: Done   2 out of   4 | elapsed:    2.0s remaining:    2.0s\n",
      "[Parallel(n_jobs=-1)]: Done   4 out of   4 | elapsed:    2.0s remaining:    0.0s\n",
      "[Parallel(n_jobs=-1)]: Done   4 out of   4 | elapsed:    2.0s finished\n"
     ]
    },
    {
     "name": "stdout",
     "output_type": "stream",
     "text": [
      "drop_count parameter:  8\n",
      "X shape during wrangle: (12096, 47)\n",
      "Best hyperparameters {'randomforestclassifier__min_samples_leaf': 85, 'functiontransformer__kw_args': {'drop_count': 8}}\n",
      "Cross-validation Accuracy 0.6969246031746033\n"
     ]
    }
   ],
   "source": [
    "print('Model Hyperparameters:')\n",
    "print(pipeline.named_steps['randomforestclassifier'])\n",
    "\n",
    "x_n_iter = 2\n",
    "\n",
    "param_distributions = {\n",
    "    # 'simpleimputer__strategy': ['mean', 'median', 'most_frequent'], \n",
    "     'functiontransformer__kw_args': [{par_name: i} for i in range(int(0.3*len(drop_col)))],\n",
    "    'randomforestclassifier__min_samples_leaf': [random.randint(1, 100) for i in range(3)], \n",
    "    # 'randomforestclassifier__max_depth': [random.randint(7, 58) for i in range(x_n_iter)], \n",
    "}\n",
    "\n",
    "search = RandomizedSearchCV(\n",
    "    pipeline, \n",
    "    param_distributions=param_distributions, \n",
    "    n_iter=x_n_iter, \n",
    "    cv=2, \n",
    "    scoring='accuracy', \n",
    "    verbose=10, \n",
    "    return_train_score=True, \n",
    "    n_jobs=-1\n",
    ")\n",
    "\n",
    "search.fit(X_train, y_train)\n",
    "print('Best hyperparameters', search.best_params_)\n",
    "print('Cross-validation Accuracy', search.best_score_)\n"
   ]
  },
  {
   "cell_type": "code",
   "execution_count": 37,
   "metadata": {
    "colab": {
     "base_uri": "https://localhost:8080/",
     "height": 390
    },
    "colab_type": "code",
    "id": "Z1iKUEmwNuWT",
    "outputId": "2779569d-fae7-4a6a-d135-1a74be6d386b"
   },
   "outputs": [
    {
     "data": {
      "text/plain": [
       "{'memory': None,\n",
       " 'steps': [('functiontransformer',\n",
       "   FunctionTransformer(func=<function wrangle at 0x11bb70f80>,\n",
       "                       kw_args={'drop_count': 8})),\n",
       "  ('randomforestclassifier',\n",
       "   RandomForestClassifier(criterion='entropy', max_depth=20, max_features=0.5,\n",
       "                          min_samples_leaf=85, min_samples_split=20,\n",
       "                          n_estimators=10, n_jobs=-1, random_state=42))],\n",
       " 'verbose': False,\n",
       " 'functiontransformer': FunctionTransformer(func=<function wrangle at 0x11bb70f80>,\n",
       "                     kw_args={'drop_count': 8}),\n",
       " 'randomforestclassifier': RandomForestClassifier(criterion='entropy', max_depth=20, max_features=0.5,\n",
       "                        min_samples_leaf=85, min_samples_split=20,\n",
       "                        n_estimators=10, n_jobs=-1, random_state=42),\n",
       " 'functiontransformer__accept_sparse': False,\n",
       " 'functiontransformer__check_inverse': True,\n",
       " 'functiontransformer__func': <function __main__.wrangle(X, drop_count=1)>,\n",
       " 'functiontransformer__inv_kw_args': None,\n",
       " 'functiontransformer__inverse_func': None,\n",
       " 'functiontransformer__kw_args': {'drop_count': 8},\n",
       " 'functiontransformer__validate': False,\n",
       " 'randomforestclassifier__bootstrap': True,\n",
       " 'randomforestclassifier__ccp_alpha': 0.0,\n",
       " 'randomforestclassifier__class_weight': None,\n",
       " 'randomforestclassifier__criterion': 'entropy',\n",
       " 'randomforestclassifier__max_depth': 20,\n",
       " 'randomforestclassifier__max_features': 0.5,\n",
       " 'randomforestclassifier__max_leaf_nodes': None,\n",
       " 'randomforestclassifier__max_samples': None,\n",
       " 'randomforestclassifier__min_impurity_decrease': 0.0,\n",
       " 'randomforestclassifier__min_impurity_split': None,\n",
       " 'randomforestclassifier__min_samples_leaf': 85,\n",
       " 'randomforestclassifier__min_samples_split': 20,\n",
       " 'randomforestclassifier__min_weight_fraction_leaf': 0.0,\n",
       " 'randomforestclassifier__n_estimators': 10,\n",
       " 'randomforestclassifier__n_jobs': -1,\n",
       " 'randomforestclassifier__oob_score': False,\n",
       " 'randomforestclassifier__random_state': 42,\n",
       " 'randomforestclassifier__verbose': 0,\n",
       " 'randomforestclassifier__warm_start': False}"
      ]
     },
     "execution_count": 37,
     "metadata": {},
     "output_type": "execute_result"
    }
   ],
   "source": [
    "pipeline = search.best_estimator_\n",
    "pipeline.get_params()"
   ]
  },
  {
   "cell_type": "code",
   "execution_count": 38,
   "metadata": {
    "colab": {
     "base_uri": "https://localhost:8080/",
     "height": 70
    },
    "colab_type": "code",
    "id": "Dot8a2D7PsBf",
    "outputId": "872ed96e-0416-472a-9537-80630bd3014d"
   },
   "outputs": [
    {
     "name": "stdout",
     "output_type": "stream",
     "text": [
      "drop_count parameter:  8\n",
      "X shape during wrangle: (12096, 47)\n"
     ]
    },
    {
     "data": {
      "text/plain": [
       "47"
      ]
     },
     "execution_count": 38,
     "metadata": {},
     "output_type": "execute_result"
    }
   ],
   "source": [
    "wrangle_col = pipeline.named_steps['functiontransformer'].transform(X_train).columns\n",
    "len(wrangle_col)"
   ]
  },
  {
   "cell_type": "code",
   "execution_count": 39,
   "metadata": {},
   "outputs": [
    {
     "data": {
      "text/plain": [
       "{'accept_sparse': False,\n",
       " 'check_inverse': True,\n",
       " 'func': <function __main__.wrangle(X, drop_count=1)>,\n",
       " 'inv_kw_args': None,\n",
       " 'inverse_func': None,\n",
       " 'kw_args': {'drop_count': 8},\n",
       " 'validate': False}"
      ]
     },
     "execution_count": 39,
     "metadata": {},
     "output_type": "execute_result"
    }
   ],
   "source": [
    "pipeline.named_steps['functiontransformer'].get_params()"
   ]
  },
  {
   "cell_type": "code",
   "execution_count": null,
   "metadata": {
    "colab": {
     "base_uri": "https://localhost:8080/",
     "height": 123
    },
    "colab_type": "code",
    "id": "65JVFHZLRBse",
    "outputId": "6b43fc85-05e1-40c9-864a-dd835a327335"
   },
   "outputs": [
    {
     "name": "stdout",
     "output_type": "stream",
     "text": [
      " X_val shape before predict : (3024, 55)\n",
      "predicting ...\n",
      "drop_count parameter:  3\n",
      "X shape during wrangle: (3024, 52)\n",
      " X_val shape after predict : (3024, 55)\n",
      "Validation Accuracy 0.783068783068783\n"
     ]
    }
   ],
   "source": [
    "#.predict: WITHOUT ACTUALLY TRANSFORMING X, APPLIES THE TRANSFORMS TO X AND PREDICT a fitted y\n",
    "# wrangle_col = pipeline.named_steps['functiontransformer'].transform(X_train).columns\n",
    "\n",
    "\n",
    "print(f' X_val shape before predict : {X_val.shape}')\n",
    "print(\"predicting ...\")\n",
    "y_pred = pipeline.predict(X_val)\n",
    "print(f' X_val shape after predict : {X_val.shape}')\n",
    "print('Validation Accuracy', accuracy_score(y_val, y_pred))"
   ]
  },
  {
   "cell_type": "code",
   "execution_count": null,
   "metadata": {
    "colab": {
     "base_uri": "https://localhost:8080/",
     "height": 158
    },
    "colab_type": "code",
    "id": "R3IPHQJwQiY1",
    "outputId": "c6ddae3b-5d66-400f-9361-7c940cc041a7"
   },
   "outputs": [
    {
     "data": {
      "text/plain": [
       "7    0.142857\n",
       "6    0.142857\n",
       "5    0.142857\n",
       "4    0.142857\n",
       "3    0.142857\n",
       "2    0.142857\n",
       "1    0.142857\n",
       "Name: Cover_Type, dtype: float64"
      ]
     },
     "execution_count": 112,
     "metadata": {
      "tags": []
     },
     "output_type": "execute_result"
    }
   ],
   "source": [
    "y_train.value_counts(normalize=True)"
   ]
  }
 ],
 "metadata": {
  "colab": {
   "collapsed_sections": [],
   "include_colab_link": true,
   "name": "skhabiri_LS_DS_build2_assignment.ipynb",
   "provenance": []
  },
  "kernelspec": {
   "display_name": "Python 3",
   "language": "python",
   "name": "python3"
  },
  "language_info": {
   "codemirror_mode": {
    "name": "ipython",
    "version": 3
   },
   "file_extension": ".py",
   "mimetype": "text/x-python",
   "name": "python",
   "nbconvert_exporter": "python",
   "pygments_lexer": "ipython3",
   "version": "3.7.8"
  }
 },
 "nbformat": 4,
 "nbformat_minor": 4
}
