{
 "cells": [
  {
   "cell_type": "markdown",
   "metadata": {
    "colab_type": "text",
    "id": "view-in-github"
   },
   "source": [
    "<a href=\"https://colab.research.google.com/github/skhabiri/DS-Unit-2-Applied-Modeling/blob/master/module3-permutation-boosting/skhabiri_LS_DS_build2_assignment.ipynb\" target=\"_parent\"><img src=\"https://colab.research.google.com/assets/colab-badge.svg\" alt=\"Open In Colab\"/></a>"
   ]
  },
  {
   "cell_type": "markdown",
   "metadata": {
    "colab_type": "text",
    "id": "nCc3XZEyG3XV"
   },
   "source": [
    "\n",
    "*Unit 2, Sprint 3, Module 1*\n",
    "\n",
    "---"
   ]
  },
  {
   "cell_type": "code",
   "execution_count": 2,
   "metadata": {
    "colab": {
     "base_uri": "https://localhost:8080/",
     "height": 406
    },
    "colab_type": "code",
    "id": "Fhjl0O6nj5zT",
    "outputId": "2a7c3136-38f6-4960-bfec-aa71f8087782"
   },
   "outputs": [
    {
     "name": "stdout",
     "output_type": "stream",
     "text": [
      "(15120, 56)\n"
     ]
    },
    {
     "data": {
      "text/html": [
       "<div>\n",
       "<style scoped>\n",
       "    .dataframe tbody tr th:only-of-type {\n",
       "        vertical-align: middle;\n",
       "    }\n",
       "\n",
       "    .dataframe tbody tr th {\n",
       "        vertical-align: top;\n",
       "    }\n",
       "\n",
       "    .dataframe thead th {\n",
       "        text-align: right;\n",
       "    }\n",
       "</style>\n",
       "<table border=\"1\" class=\"dataframe\">\n",
       "  <thead>\n",
       "    <tr style=\"text-align: right;\">\n",
       "      <th></th>\n",
       "      <th>Id</th>\n",
       "      <th>Elevation</th>\n",
       "      <th>Aspect</th>\n",
       "      <th>Slope</th>\n",
       "      <th>Horizontal_Distance_To_Hydrology</th>\n",
       "      <th>Vertical_Distance_To_Hydrology</th>\n",
       "      <th>Horizontal_Distance_To_Roadways</th>\n",
       "      <th>Hillshade_9am</th>\n",
       "      <th>Hillshade_Noon</th>\n",
       "      <th>Hillshade_3pm</th>\n",
       "      <th>...</th>\n",
       "      <th>Soil_Type32</th>\n",
       "      <th>Soil_Type33</th>\n",
       "      <th>Soil_Type34</th>\n",
       "      <th>Soil_Type35</th>\n",
       "      <th>Soil_Type36</th>\n",
       "      <th>Soil_Type37</th>\n",
       "      <th>Soil_Type38</th>\n",
       "      <th>Soil_Type39</th>\n",
       "      <th>Soil_Type40</th>\n",
       "      <th>Cover_Type</th>\n",
       "    </tr>\n",
       "  </thead>\n",
       "  <tbody>\n",
       "    <tr>\n",
       "      <th>0</th>\n",
       "      <td>1</td>\n",
       "      <td>2596</td>\n",
       "      <td>51</td>\n",
       "      <td>3</td>\n",
       "      <td>258</td>\n",
       "      <td>0</td>\n",
       "      <td>510</td>\n",
       "      <td>221</td>\n",
       "      <td>232</td>\n",
       "      <td>148</td>\n",
       "      <td>...</td>\n",
       "      <td>0</td>\n",
       "      <td>0</td>\n",
       "      <td>0</td>\n",
       "      <td>0</td>\n",
       "      <td>0</td>\n",
       "      <td>0</td>\n",
       "      <td>0</td>\n",
       "      <td>0</td>\n",
       "      <td>0</td>\n",
       "      <td>5</td>\n",
       "    </tr>\n",
       "    <tr>\n",
       "      <th>1</th>\n",
       "      <td>2</td>\n",
       "      <td>2590</td>\n",
       "      <td>56</td>\n",
       "      <td>2</td>\n",
       "      <td>212</td>\n",
       "      <td>-6</td>\n",
       "      <td>390</td>\n",
       "      <td>220</td>\n",
       "      <td>235</td>\n",
       "      <td>151</td>\n",
       "      <td>...</td>\n",
       "      <td>0</td>\n",
       "      <td>0</td>\n",
       "      <td>0</td>\n",
       "      <td>0</td>\n",
       "      <td>0</td>\n",
       "      <td>0</td>\n",
       "      <td>0</td>\n",
       "      <td>0</td>\n",
       "      <td>0</td>\n",
       "      <td>5</td>\n",
       "    </tr>\n",
       "    <tr>\n",
       "      <th>2</th>\n",
       "      <td>3</td>\n",
       "      <td>2804</td>\n",
       "      <td>139</td>\n",
       "      <td>9</td>\n",
       "      <td>268</td>\n",
       "      <td>65</td>\n",
       "      <td>3180</td>\n",
       "      <td>234</td>\n",
       "      <td>238</td>\n",
       "      <td>135</td>\n",
       "      <td>...</td>\n",
       "      <td>0</td>\n",
       "      <td>0</td>\n",
       "      <td>0</td>\n",
       "      <td>0</td>\n",
       "      <td>0</td>\n",
       "      <td>0</td>\n",
       "      <td>0</td>\n",
       "      <td>0</td>\n",
       "      <td>0</td>\n",
       "      <td>2</td>\n",
       "    </tr>\n",
       "    <tr>\n",
       "      <th>3</th>\n",
       "      <td>4</td>\n",
       "      <td>2785</td>\n",
       "      <td>155</td>\n",
       "      <td>18</td>\n",
       "      <td>242</td>\n",
       "      <td>118</td>\n",
       "      <td>3090</td>\n",
       "      <td>238</td>\n",
       "      <td>238</td>\n",
       "      <td>122</td>\n",
       "      <td>...</td>\n",
       "      <td>0</td>\n",
       "      <td>0</td>\n",
       "      <td>0</td>\n",
       "      <td>0</td>\n",
       "      <td>0</td>\n",
       "      <td>0</td>\n",
       "      <td>0</td>\n",
       "      <td>0</td>\n",
       "      <td>0</td>\n",
       "      <td>2</td>\n",
       "    </tr>\n",
       "    <tr>\n",
       "      <th>4</th>\n",
       "      <td>5</td>\n",
       "      <td>2595</td>\n",
       "      <td>45</td>\n",
       "      <td>2</td>\n",
       "      <td>153</td>\n",
       "      <td>-1</td>\n",
       "      <td>391</td>\n",
       "      <td>220</td>\n",
       "      <td>234</td>\n",
       "      <td>150</td>\n",
       "      <td>...</td>\n",
       "      <td>0</td>\n",
       "      <td>0</td>\n",
       "      <td>0</td>\n",
       "      <td>0</td>\n",
       "      <td>0</td>\n",
       "      <td>0</td>\n",
       "      <td>0</td>\n",
       "      <td>0</td>\n",
       "      <td>0</td>\n",
       "      <td>5</td>\n",
       "    </tr>\n",
       "  </tbody>\n",
       "</table>\n",
       "<p>5 rows × 56 columns</p>\n",
       "</div>"
      ],
      "text/plain": [
       "   Id  Elevation  Aspect  Slope  Horizontal_Distance_To_Hydrology  \\\n",
       "0   1       2596      51      3                               258   \n",
       "1   2       2590      56      2                               212   \n",
       "2   3       2804     139      9                               268   \n",
       "3   4       2785     155     18                               242   \n",
       "4   5       2595      45      2                               153   \n",
       "\n",
       "   Vertical_Distance_To_Hydrology  Horizontal_Distance_To_Roadways  \\\n",
       "0                               0                              510   \n",
       "1                              -6                              390   \n",
       "2                              65                             3180   \n",
       "3                             118                             3090   \n",
       "4                              -1                              391   \n",
       "\n",
       "   Hillshade_9am  Hillshade_Noon  Hillshade_3pm  ...  Soil_Type32  \\\n",
       "0            221             232            148  ...            0   \n",
       "1            220             235            151  ...            0   \n",
       "2            234             238            135  ...            0   \n",
       "3            238             238            122  ...            0   \n",
       "4            220             234            150  ...            0   \n",
       "\n",
       "   Soil_Type33  Soil_Type34  Soil_Type35  Soil_Type36  Soil_Type37  \\\n",
       "0            0            0            0            0            0   \n",
       "1            0            0            0            0            0   \n",
       "2            0            0            0            0            0   \n",
       "3            0            0            0            0            0   \n",
       "4            0            0            0            0            0   \n",
       "\n",
       "   Soil_Type38  Soil_Type39  Soil_Type40  Cover_Type  \n",
       "0            0            0            0           5  \n",
       "1            0            0            0           5  \n",
       "2            0            0            0           2  \n",
       "3            0            0            0           2  \n",
       "4            0            0            0           5  \n",
       "\n",
       "[5 rows x 56 columns]"
      ]
     },
     "execution_count": 2,
     "metadata": {},
     "output_type": "execute_result"
    }
   ],
   "source": [
    "import pandas as pd\n",
    "import numpy as np\n",
    "# !pip install category_encoders==2.*\n",
    "\n",
    "\n",
    "data = pd.read_csv('https://github.com/skhabiri/FORESTCOVER-METRICS/blob/master/data/train.csv?raw=true')\n",
    "print(data.shape)\n",
    "data.head()\n"
   ]
  },
  {
   "cell_type": "code",
   "execution_count": 3,
   "metadata": {
    "colab": {
     "base_uri": "https://localhost:8080/",
     "height": 297
    },
    "colab_type": "code",
    "id": "Eet92FMylJxN",
    "outputId": "9527869d-1b57-4d39-c233-2a6f0d8ea073"
   },
   "outputs": [
    {
     "data": {
      "text/html": [
       "<div>\n",
       "<style scoped>\n",
       "    .dataframe tbody tr th:only-of-type {\n",
       "        vertical-align: middle;\n",
       "    }\n",
       "\n",
       "    .dataframe tbody tr th {\n",
       "        vertical-align: top;\n",
       "    }\n",
       "\n",
       "    .dataframe thead th {\n",
       "        text-align: right;\n",
       "    }\n",
       "</style>\n",
       "<table border=\"1\" class=\"dataframe\">\n",
       "  <thead>\n",
       "    <tr style=\"text-align: right;\">\n",
       "      <th></th>\n",
       "      <th>Id</th>\n",
       "      <th>Elevation</th>\n",
       "      <th>Aspect</th>\n",
       "      <th>Slope</th>\n",
       "      <th>Horizontal_Distance_To_Hydrology</th>\n",
       "      <th>Vertical_Distance_To_Hydrology</th>\n",
       "      <th>Horizontal_Distance_To_Roadways</th>\n",
       "      <th>Hillshade_9am</th>\n",
       "      <th>Hillshade_Noon</th>\n",
       "      <th>Hillshade_3pm</th>\n",
       "      <th>...</th>\n",
       "      <th>Soil_Type32</th>\n",
       "      <th>Soil_Type33</th>\n",
       "      <th>Soil_Type34</th>\n",
       "      <th>Soil_Type35</th>\n",
       "      <th>Soil_Type36</th>\n",
       "      <th>Soil_Type37</th>\n",
       "      <th>Soil_Type38</th>\n",
       "      <th>Soil_Type39</th>\n",
       "      <th>Soil_Type40</th>\n",
       "      <th>Cover_Type</th>\n",
       "    </tr>\n",
       "  </thead>\n",
       "  <tbody>\n",
       "    <tr>\n",
       "      <th>count</th>\n",
       "      <td>15120.00000</td>\n",
       "      <td>15120.000000</td>\n",
       "      <td>15120.000000</td>\n",
       "      <td>15120.000000</td>\n",
       "      <td>15120.000000</td>\n",
       "      <td>15120.000000</td>\n",
       "      <td>15120.000000</td>\n",
       "      <td>15120.000000</td>\n",
       "      <td>15120.000000</td>\n",
       "      <td>15120.000000</td>\n",
       "      <td>...</td>\n",
       "      <td>15120.000000</td>\n",
       "      <td>15120.000000</td>\n",
       "      <td>15120.000000</td>\n",
       "      <td>15120.000000</td>\n",
       "      <td>15120.000000</td>\n",
       "      <td>15120.000000</td>\n",
       "      <td>15120.000000</td>\n",
       "      <td>15120.000000</td>\n",
       "      <td>15120.000000</td>\n",
       "      <td>15120.000000</td>\n",
       "    </tr>\n",
       "    <tr>\n",
       "      <th>mean</th>\n",
       "      <td>7560.50000</td>\n",
       "      <td>2749.322553</td>\n",
       "      <td>156.676653</td>\n",
       "      <td>16.501587</td>\n",
       "      <td>227.195701</td>\n",
       "      <td>51.076521</td>\n",
       "      <td>1714.023214</td>\n",
       "      <td>212.704299</td>\n",
       "      <td>218.965608</td>\n",
       "      <td>135.091997</td>\n",
       "      <td>...</td>\n",
       "      <td>0.045635</td>\n",
       "      <td>0.040741</td>\n",
       "      <td>0.001455</td>\n",
       "      <td>0.006746</td>\n",
       "      <td>0.000661</td>\n",
       "      <td>0.002249</td>\n",
       "      <td>0.048148</td>\n",
       "      <td>0.043452</td>\n",
       "      <td>0.030357</td>\n",
       "      <td>4.000000</td>\n",
       "    </tr>\n",
       "    <tr>\n",
       "      <th>std</th>\n",
       "      <td>4364.91237</td>\n",
       "      <td>417.678187</td>\n",
       "      <td>110.085801</td>\n",
       "      <td>8.453927</td>\n",
       "      <td>210.075296</td>\n",
       "      <td>61.239406</td>\n",
       "      <td>1325.066358</td>\n",
       "      <td>30.561287</td>\n",
       "      <td>22.801966</td>\n",
       "      <td>45.895189</td>\n",
       "      <td>...</td>\n",
       "      <td>0.208699</td>\n",
       "      <td>0.197696</td>\n",
       "      <td>0.038118</td>\n",
       "      <td>0.081859</td>\n",
       "      <td>0.025710</td>\n",
       "      <td>0.047368</td>\n",
       "      <td>0.214086</td>\n",
       "      <td>0.203880</td>\n",
       "      <td>0.171574</td>\n",
       "      <td>2.000066</td>\n",
       "    </tr>\n",
       "    <tr>\n",
       "      <th>min</th>\n",
       "      <td>1.00000</td>\n",
       "      <td>1863.000000</td>\n",
       "      <td>0.000000</td>\n",
       "      <td>0.000000</td>\n",
       "      <td>0.000000</td>\n",
       "      <td>-146.000000</td>\n",
       "      <td>0.000000</td>\n",
       "      <td>0.000000</td>\n",
       "      <td>99.000000</td>\n",
       "      <td>0.000000</td>\n",
       "      <td>...</td>\n",
       "      <td>0.000000</td>\n",
       "      <td>0.000000</td>\n",
       "      <td>0.000000</td>\n",
       "      <td>0.000000</td>\n",
       "      <td>0.000000</td>\n",
       "      <td>0.000000</td>\n",
       "      <td>0.000000</td>\n",
       "      <td>0.000000</td>\n",
       "      <td>0.000000</td>\n",
       "      <td>1.000000</td>\n",
       "    </tr>\n",
       "    <tr>\n",
       "      <th>25%</th>\n",
       "      <td>3780.75000</td>\n",
       "      <td>2376.000000</td>\n",
       "      <td>65.000000</td>\n",
       "      <td>10.000000</td>\n",
       "      <td>67.000000</td>\n",
       "      <td>5.000000</td>\n",
       "      <td>764.000000</td>\n",
       "      <td>196.000000</td>\n",
       "      <td>207.000000</td>\n",
       "      <td>106.000000</td>\n",
       "      <td>...</td>\n",
       "      <td>0.000000</td>\n",
       "      <td>0.000000</td>\n",
       "      <td>0.000000</td>\n",
       "      <td>0.000000</td>\n",
       "      <td>0.000000</td>\n",
       "      <td>0.000000</td>\n",
       "      <td>0.000000</td>\n",
       "      <td>0.000000</td>\n",
       "      <td>0.000000</td>\n",
       "      <td>2.000000</td>\n",
       "    </tr>\n",
       "    <tr>\n",
       "      <th>50%</th>\n",
       "      <td>7560.50000</td>\n",
       "      <td>2752.000000</td>\n",
       "      <td>126.000000</td>\n",
       "      <td>15.000000</td>\n",
       "      <td>180.000000</td>\n",
       "      <td>32.000000</td>\n",
       "      <td>1316.000000</td>\n",
       "      <td>220.000000</td>\n",
       "      <td>223.000000</td>\n",
       "      <td>138.000000</td>\n",
       "      <td>...</td>\n",
       "      <td>0.000000</td>\n",
       "      <td>0.000000</td>\n",
       "      <td>0.000000</td>\n",
       "      <td>0.000000</td>\n",
       "      <td>0.000000</td>\n",
       "      <td>0.000000</td>\n",
       "      <td>0.000000</td>\n",
       "      <td>0.000000</td>\n",
       "      <td>0.000000</td>\n",
       "      <td>4.000000</td>\n",
       "    </tr>\n",
       "    <tr>\n",
       "      <th>75%</th>\n",
       "      <td>11340.25000</td>\n",
       "      <td>3104.000000</td>\n",
       "      <td>261.000000</td>\n",
       "      <td>22.000000</td>\n",
       "      <td>330.000000</td>\n",
       "      <td>79.000000</td>\n",
       "      <td>2270.000000</td>\n",
       "      <td>235.000000</td>\n",
       "      <td>235.000000</td>\n",
       "      <td>167.000000</td>\n",
       "      <td>...</td>\n",
       "      <td>0.000000</td>\n",
       "      <td>0.000000</td>\n",
       "      <td>0.000000</td>\n",
       "      <td>0.000000</td>\n",
       "      <td>0.000000</td>\n",
       "      <td>0.000000</td>\n",
       "      <td>0.000000</td>\n",
       "      <td>0.000000</td>\n",
       "      <td>0.000000</td>\n",
       "      <td>6.000000</td>\n",
       "    </tr>\n",
       "    <tr>\n",
       "      <th>max</th>\n",
       "      <td>15120.00000</td>\n",
       "      <td>3849.000000</td>\n",
       "      <td>360.000000</td>\n",
       "      <td>52.000000</td>\n",
       "      <td>1343.000000</td>\n",
       "      <td>554.000000</td>\n",
       "      <td>6890.000000</td>\n",
       "      <td>254.000000</td>\n",
       "      <td>254.000000</td>\n",
       "      <td>248.000000</td>\n",
       "      <td>...</td>\n",
       "      <td>1.000000</td>\n",
       "      <td>1.000000</td>\n",
       "      <td>1.000000</td>\n",
       "      <td>1.000000</td>\n",
       "      <td>1.000000</td>\n",
       "      <td>1.000000</td>\n",
       "      <td>1.000000</td>\n",
       "      <td>1.000000</td>\n",
       "      <td>1.000000</td>\n",
       "      <td>7.000000</td>\n",
       "    </tr>\n",
       "  </tbody>\n",
       "</table>\n",
       "<p>8 rows × 56 columns</p>\n",
       "</div>"
      ],
      "text/plain": [
       "                Id     Elevation        Aspect         Slope  \\\n",
       "count  15120.00000  15120.000000  15120.000000  15120.000000   \n",
       "mean    7560.50000   2749.322553    156.676653     16.501587   \n",
       "std     4364.91237    417.678187    110.085801      8.453927   \n",
       "min        1.00000   1863.000000      0.000000      0.000000   \n",
       "25%     3780.75000   2376.000000     65.000000     10.000000   \n",
       "50%     7560.50000   2752.000000    126.000000     15.000000   \n",
       "75%    11340.25000   3104.000000    261.000000     22.000000   \n",
       "max    15120.00000   3849.000000    360.000000     52.000000   \n",
       "\n",
       "       Horizontal_Distance_To_Hydrology  Vertical_Distance_To_Hydrology  \\\n",
       "count                      15120.000000                    15120.000000   \n",
       "mean                         227.195701                       51.076521   \n",
       "std                          210.075296                       61.239406   \n",
       "min                            0.000000                     -146.000000   \n",
       "25%                           67.000000                        5.000000   \n",
       "50%                          180.000000                       32.000000   \n",
       "75%                          330.000000                       79.000000   \n",
       "max                         1343.000000                      554.000000   \n",
       "\n",
       "       Horizontal_Distance_To_Roadways  Hillshade_9am  Hillshade_Noon  \\\n",
       "count                     15120.000000   15120.000000    15120.000000   \n",
       "mean                       1714.023214     212.704299      218.965608   \n",
       "std                        1325.066358      30.561287       22.801966   \n",
       "min                           0.000000       0.000000       99.000000   \n",
       "25%                         764.000000     196.000000      207.000000   \n",
       "50%                        1316.000000     220.000000      223.000000   \n",
       "75%                        2270.000000     235.000000      235.000000   \n",
       "max                        6890.000000     254.000000      254.000000   \n",
       "\n",
       "       Hillshade_3pm  ...   Soil_Type32   Soil_Type33   Soil_Type34  \\\n",
       "count   15120.000000  ...  15120.000000  15120.000000  15120.000000   \n",
       "mean      135.091997  ...      0.045635      0.040741      0.001455   \n",
       "std        45.895189  ...      0.208699      0.197696      0.038118   \n",
       "min         0.000000  ...      0.000000      0.000000      0.000000   \n",
       "25%       106.000000  ...      0.000000      0.000000      0.000000   \n",
       "50%       138.000000  ...      0.000000      0.000000      0.000000   \n",
       "75%       167.000000  ...      0.000000      0.000000      0.000000   \n",
       "max       248.000000  ...      1.000000      1.000000      1.000000   \n",
       "\n",
       "        Soil_Type35   Soil_Type36   Soil_Type37   Soil_Type38   Soil_Type39  \\\n",
       "count  15120.000000  15120.000000  15120.000000  15120.000000  15120.000000   \n",
       "mean       0.006746      0.000661      0.002249      0.048148      0.043452   \n",
       "std        0.081859      0.025710      0.047368      0.214086      0.203880   \n",
       "min        0.000000      0.000000      0.000000      0.000000      0.000000   \n",
       "25%        0.000000      0.000000      0.000000      0.000000      0.000000   \n",
       "50%        0.000000      0.000000      0.000000      0.000000      0.000000   \n",
       "75%        0.000000      0.000000      0.000000      0.000000      0.000000   \n",
       "max        1.000000      1.000000      1.000000      1.000000      1.000000   \n",
       "\n",
       "        Soil_Type40    Cover_Type  \n",
       "count  15120.000000  15120.000000  \n",
       "mean       0.030357      4.000000  \n",
       "std        0.171574      2.000066  \n",
       "min        0.000000      1.000000  \n",
       "25%        0.000000      2.000000  \n",
       "50%        0.000000      4.000000  \n",
       "75%        0.000000      6.000000  \n",
       "max        1.000000      7.000000  \n",
       "\n",
       "[8 rows x 56 columns]"
      ]
     },
     "execution_count": 3,
     "metadata": {},
     "output_type": "execute_result"
    }
   ],
   "source": [
    "data.describe()"
   ]
  },
  {
   "cell_type": "code",
   "execution_count": 4,
   "metadata": {
    "colab": {
     "base_uri": "https://localhost:8080/",
     "height": 943
    },
    "colab_type": "code",
    "id": "jPGkkLDamTly",
    "outputId": "0a5f0af2-c8a1-43e8-a4fc-acf73b1a0e3a"
   },
   "outputs": [
    {
     "data": {
      "text/plain": [
       "Id                                    15120\n",
       "Horizontal_Distance_To_Roadways        3250\n",
       "Horizontal_Distance_To_Fire_Points     2710\n",
       "Elevation                              1665\n",
       "Vertical_Distance_To_Hydrology          423\n",
       "Horizontal_Distance_To_Hydrology        400\n",
       "Aspect                                  361\n",
       "Hillshade_3pm                           247\n",
       "Hillshade_9am                           176\n",
       "Hillshade_Noon                          141\n",
       "Slope                                    52\n",
       "Cover_Type                                7\n",
       "Soil_Type29                               2\n",
       "Soil_Type28                               2\n",
       "Soil_Type5                                2\n",
       "Soil_Type4                                2\n",
       "Soil_Type3                                2\n",
       "Soil_Type2                                2\n",
       "Soil_Type1                                2\n",
       "Wilderness_Area4                          2\n",
       "Wilderness_Area3                          2\n",
       "Wilderness_Area2                          2\n",
       "Wilderness_Area1                          2\n",
       "Soil_Type30                               2\n",
       "Soil_Type31                               2\n",
       "Soil_Type32                               2\n",
       "Soil_Type33                               2\n",
       "Soil_Type34                               2\n",
       "Soil_Type35                               2\n",
       "Soil_Type36                               2\n",
       "Soil_Type37                               2\n",
       "Soil_Type38                               2\n",
       "Soil_Type39                               2\n",
       "Soil_Type6                                2\n",
       "Soil_Type13                               2\n",
       "Soil_Type8                                2\n",
       "Soil_Type19                               2\n",
       "Soil_Type27                               2\n",
       "Soil_Type26                               2\n",
       "Soil_Type25                               2\n",
       "Soil_Type24                               2\n",
       "Soil_Type23                               2\n",
       "Soil_Type22                               2\n",
       "Soil_Type21                               2\n",
       "Soil_Type20                               2\n",
       "Soil_Type18                               2\n",
       "Soil_Type9                                2\n",
       "Soil_Type17                               2\n",
       "Soil_Type16                               2\n",
       "Soil_Type14                               2\n",
       "Soil_Type40                               2\n",
       "Soil_Type12                               2\n",
       "Soil_Type11                               2\n",
       "Soil_Type10                               2\n",
       "Soil_Type15                               1\n",
       "Soil_Type7                                1\n",
       "dtype: int64"
      ]
     },
     "execution_count": 4,
     "metadata": {},
     "output_type": "execute_result"
    }
   ],
   "source": [
    "data.nunique().sort_values(ascending=False)"
   ]
  },
  {
   "cell_type": "code",
   "execution_count": 6,
   "metadata": {
    "colab": {},
    "colab_type": "code",
    "id": "ivIGCS568sK3"
   },
   "outputs": [],
   "source": [
    "# pd.Series({c: data[c].unique() for c in data})[-40:]\n",
    "# [data[col].unique() for col in data]"
   ]
  },
  {
   "cell_type": "markdown",
   "metadata": {
    "colab_type": "text",
    "id": "3ue1pALV-enF"
   },
   "source": [
    "Our target label is \"Cover_Type\"\n",
    "We will drop imb% imbalance low cardinal features. We also drop \"id\" column."
   ]
  },
  {
   "cell_type": "code",
   "execution_count": 7,
   "metadata": {
    "colab": {},
    "colab_type": "code",
    "id": "CfN8GfkU7wuw"
   },
   "outputs": [],
   "source": [
    "def wrangle_pre(X, imb=0.95):\n",
    "  '''\n",
    "  Returns the sorted list of feature names \n",
    "  with imbalance exceeding imb value\n",
    "  '''\n",
    "  X=X.copy()\n",
    "  # drop the binary features with imb% imbalance\n",
    "  # mask = X.nunique().sort_values(ascending=False) < 5\n",
    "  # lowcard_col = X.nunique().sort_values(ascending=False)[mask].index\n",
    "\n",
    "  mask2 = pd.Series({col: X[col].value_counts().\n",
    "                     max()/X[col].value_counts().\n",
    "                     sum() for col in X.nunique().index}).sort_values(ascending=False)\n",
    "  \n",
    "  mask2 = mask2[mask2 >= imb]\n",
    "\n",
    "  Id_skew_cols = [\"Id\"] + list(mask2.index) \n",
    "  return Id_skew_cols"
   ]
  },
  {
   "cell_type": "code",
   "execution_count": 8,
   "metadata": {
    "colab": {
     "base_uri": "https://localhost:8080/",
     "height": 33
    },
    "colab_type": "code",
    "id": "4fkwRU0eSrPt",
    "outputId": "00b63bc0-06ec-403a-dd9a-2968acdd6aa2"
   },
   "outputs": [
    {
     "name": "stdout",
     "output_type": "stream",
     "text": [
      "train: (12096, 56), val: (3024, 56)\n"
     ]
    }
   ],
   "source": [
    "from sklearn.model_selection import train_test_split\n",
    "\n",
    "# Split train into train & val\n",
    "train, val = train_test_split(data, train_size=0.80, test_size=0.20, stratify=data[\"Cover_Type\"], \n",
    "                                random_state=42)\n",
    "print(f'train: {train.shape}, val: {val.shape}')\n",
    "\n",
    "\n",
    "# Separate class label and data \n",
    "y_train = train[\"Cover_Type\"]\n",
    "X_train = train.drop(\"Cover_Type\", axis=1)\n",
    "y_val = val[\"Cover_Type\"]\n",
    "X_val = val.drop(\"Cover_Type\", axis=1)"
   ]
  },
  {
   "cell_type": "code",
   "execution_count": 9,
   "metadata": {
    "colab": {},
    "colab_type": "code",
    "id": "TlVcSH9h9sZm"
   },
   "outputs": [],
   "source": [
    "Id_skew_cols = wrangle_pre(X_train, imb=0.01)"
   ]
  },
  {
   "cell_type": "code",
   "execution_count": 10,
   "metadata": {
    "colab": {},
    "colab_type": "code",
    "id": "g64XluQ6AAPw"
   },
   "outputs": [],
   "source": [
    "def wrangle(X, drop_count=1, cols=Id_skew_cols):\n",
    "  '''\n",
    "  drops drop_count number of features from col starting from index=0 (Id)\n",
    "  '''  \n",
    "  print(\"drop_count parameter: \",drop_count)\n",
    "  X = X.copy()\n",
    "  X = X.drop(labels=cols[:drop_count], axis=1)\n",
    "  print(f'X shape before return: {X.shape}')\n",
    "  return X\n"
   ]
  },
  {
   "cell_type": "code",
   "execution_count": 11,
   "metadata": {
    "colab": {},
    "colab_type": "code",
    "id": "WGb3uCdhJsbN"
   },
   "outputs": [],
   "source": [
    "%matplotlib inline\n",
    "import category_encoders as ce\n",
    "import matplotlib.pyplot as plt\n",
    "import seaborn as sns\n",
    "from sklearn.impute import SimpleImputer\n",
    "from sklearn.model_selection import train_test_split\n",
    "from sklearn.pipeline import make_pipeline\n",
    "from sklearn.preprocessing import FunctionTransformer\n",
    "from sklearn.ensemble import RandomForestClassifier\n",
    "from sklearn.linear_model import LogisticRegression\n",
    "\n",
    "from sklearn.model_selection import GridSearchCV, RandomizedSearchCV\n",
    "from sklearn.model_selection import cross_val_score\n",
    "from sklearn.model_selection import validation_curve\n",
    "from sklearn.metrics import classification_report\n",
    "\n",
    "from sklearn.metrics import accuracy_score, mean_absolute_error\n",
    "\n",
    "import random \n"
   ]
  },
  {
   "cell_type": "markdown",
   "metadata": {
    "colab_type": "text",
    "id": "pmI8MbchXXjg"
   },
   "source": [
    "### Baseline model"
   ]
  },
  {
   "cell_type": "code",
   "execution_count": 12,
   "metadata": {
    "colab": {
     "base_uri": "https://localhost:8080/",
     "height": 147
    },
    "colab_type": "code",
    "id": "R3IPHQJwQiY1",
    "outputId": "5e37cb35-1936-4cb6-af74-dd8f1639e052"
   },
   "outputs": [
    {
     "data": {
      "text/plain": [
       "7    0.142857\n",
       "6    0.142857\n",
       "5    0.142857\n",
       "4    0.142857\n",
       "3    0.142857\n",
       "2    0.142857\n",
       "1    0.142857\n",
       "Name: Cover_Type, dtype: float64"
      ]
     },
     "execution_count": 12,
     "metadata": {},
     "output_type": "execute_result"
    }
   ],
   "source": [
    "y_train.value_counts(normalize=True)"
   ]
  },
  {
   "cell_type": "code",
   "execution_count": 13,
   "metadata": {
    "colab": {},
    "colab_type": "code",
    "id": "3p7dRlOi_Dyu"
   },
   "outputs": [
    {
     "name": "stdout",
     "output_type": "stream",
     "text": [
      "training accuracy: 0.3837632275132275\n",
      "validation accuracy: 0.37566137566137564\n",
      "              precision    recall  f1-score   support\n",
      "\n",
      "           1       0.34      0.21      0.26       432\n",
      "           2       0.35      0.21      0.26       432\n",
      "           3       0.36      0.37      0.37       432\n",
      "           4       0.53      0.62      0.58       432\n",
      "           5       0.31      0.42      0.36       432\n",
      "           6       0.28      0.27      0.27       432\n",
      "           7       0.41      0.53      0.47       432\n",
      "\n",
      "    accuracy                           0.38      3024\n",
      "   macro avg       0.37      0.38      0.36      3024\n",
      "weighted avg       0.37      0.38      0.36      3024\n",
      "\n"
     ]
    },
    {
     "name": "stderr",
     "output_type": "stream",
     "text": [
      "/Users/shahnam/.pyenv/versions/3.7.8/lib/python3.7/site-packages/sklearn/linear_model/_logistic.py:764: ConvergenceWarning: lbfgs failed to converge (status=1):\n",
      "STOP: TOTAL NO. of ITERATIONS REACHED LIMIT.\n",
      "\n",
      "Increase the number of iterations (max_iter) or scale the data as shown in:\n",
      "    https://scikit-learn.org/stable/modules/preprocessing.html\n",
      "Please also refer to the documentation for alternative solver options:\n",
      "    https://scikit-learn.org/stable/modules/linear_model.html#logistic-regression\n",
      "  extra_warning_msg=_LOGISTIC_SOLVER_CONVERGENCE_MSG)\n"
     ]
    }
   ],
   "source": [
    "# Instantiate\n",
    "log_model = LogisticRegression()\n",
    "\n",
    "# Fit with training data\n",
    "log_model.fit(X_train, y_train)\n",
    "\n",
    "print('training accuracy:', log_model.score(X_train, y_train))\n",
    "print('validation accuracy:', log_model.score(X_val, y_val))\n",
    "\n",
    "y_pred = log_model.predict(X_val)\n",
    "print(classification_report(y_val, y_pred, target_names=None))"
   ]
  },
  {
   "cell_type": "markdown",
   "metadata": {
    "colab_type": "text",
    "id": "qgk70t9yQJtU"
   },
   "source": [
    "### Randomforestclassifier pipeline, and feature_importances_"
   ]
  },
  {
   "cell_type": "code",
   "execution_count": 15,
   "metadata": {
    "colab": {},
    "colab_type": "code",
    "id": "bJcNt_Z0eiVA"
   },
   "outputs": [
    {
     "ename": "NameError",
     "evalue": "name 'clf' is not defined",
     "output_type": "error",
     "traceback": [
      "\u001b[0;31m---------------------------------------------------------------------------\u001b[0m",
      "\u001b[0;31mNameError\u001b[0m                                 Traceback (most recent call last)",
      "\u001b[0;32m<ipython-input-15-e8023be14f98>\u001b[0m in \u001b[0;36m<module>\u001b[0;34m\u001b[0m\n\u001b[1;32m      1\u001b[0m \u001b[0mmax_depth\u001b[0m \u001b[0;34m=\u001b[0m \u001b[0mlist\u001b[0m\u001b[0;34m(\u001b[0m\u001b[0;34m)\u001b[0m\u001b[0;34m\u001b[0m\u001b[0;34m\u001b[0m\u001b[0m\n\u001b[0;32m----> 2\u001b[0;31m \u001b[0;32mfor\u001b[0m \u001b[0mtree\u001b[0m \u001b[0;32min\u001b[0m \u001b[0mclf\u001b[0m\u001b[0;34m.\u001b[0m\u001b[0mestimators_\u001b[0m\u001b[0;34m:\u001b[0m\u001b[0;34m\u001b[0m\u001b[0;34m\u001b[0m\u001b[0m\n\u001b[0m\u001b[1;32m      3\u001b[0m     \u001b[0mmax_depth\u001b[0m\u001b[0;34m.\u001b[0m\u001b[0mappend\u001b[0m\u001b[0;34m(\u001b[0m\u001b[0mtree\u001b[0m\u001b[0;34m.\u001b[0m\u001b[0mtree_\u001b[0m\u001b[0;34m.\u001b[0m\u001b[0mmax_depth\u001b[0m\u001b[0;34m)\u001b[0m\u001b[0;34m\u001b[0m\u001b[0;34m\u001b[0m\u001b[0m\n\u001b[1;32m      4\u001b[0m \u001b[0;34m\u001b[0m\u001b[0m\n\u001b[1;32m      5\u001b[0m \u001b[0mprint\u001b[0m\u001b[0;34m(\u001b[0m\u001b[0;34m\"avg max depth %0.1f\"\u001b[0m \u001b[0;34m%\u001b[0m \u001b[0;34m(\u001b[0m\u001b[0msum\u001b[0m\u001b[0;34m(\u001b[0m\u001b[0mmax_depth\u001b[0m\u001b[0;34m)\u001b[0m \u001b[0;34m/\u001b[0m \u001b[0mlen\u001b[0m\u001b[0;34m(\u001b[0m\u001b[0mmax_depth\u001b[0m\u001b[0;34m)\u001b[0m\u001b[0;34m)\u001b[0m\u001b[0;34m)\u001b[0m\u001b[0;34m\u001b[0m\u001b[0;34m\u001b[0m\u001b[0m\n",
      "\u001b[0;31mNameError\u001b[0m: name 'clf' is not defined"
     ]
    }
   ],
   "source": [
    "max_depth = list()\n",
    "for tree in clf.estimators_:\n",
    "    max_depth.append(tree.tree_.max_depth)\n",
    "\n",
    "print(\"avg max depth %0.1f\" % (sum(max_depth) / len(max_depth)))\n",
    "\n"
   ]
  },
  {
   "cell_type": "code",
   "execution_count": 16,
   "metadata": {
    "colab": {
     "base_uri": "https://localhost:8080/",
     "height": 342
    },
    "colab_type": "code",
    "id": "vJCY1H6ab5ew",
    "outputId": "19d10c6f-e983-4ae8-9c93-4d869e747447"
   },
   "outputs": [
    {
     "name": "stdout",
     "output_type": "stream",
     "text": [
      " X_train shape before pipeline: (12096, 55)\n",
      "\n",
      " fitting ...\n",
      "drop_count parameter:  5\n",
      "X shape before return: (12096, 50)\n",
      "\n",
      " getting X_train transformed column labels\n",
      "drop_count parameter:  5\n",
      "X shape before return: (12096, 50)\n",
      "X_train:  55 X_fit:  50\n",
      "\n",
      " predicting ...\n",
      "drop_count parameter:  5\n",
      "X shape before return: (3024, 50)\n",
      "\n",
      " Accuracy ...\n",
      "drop_count parameter:  5\n",
      "X shape before return: (12096, 50)\n",
      "Training Accuracy 0.9115410052910053\n",
      "Validation Accuracy 0.8333333333333334\n"
     ]
    }
   ],
   "source": [
    "print(f' X_train shape before pipeline: {X_train.shape}')\n",
    "\n",
    "# Make pipeline!\n",
    "pipeline = make_pipeline(\n",
    "    FunctionTransformer(wrangle, validate=False), \n",
    "    # ce.OrdinalEncoder(), \n",
    "    # SimpleImputer(strategy='mean'), \n",
    "    RandomForestClassifier(n_estimators=50, criterion=\"entropy\", max_depth=20, \n",
    "                           min_samples_split=2, min_samples_leaf=8, min_weight_fraction_leaf=0.0, \n",
    "                           max_features=20, max_leaf_nodes=None, min_impurity_decrease=0.0, \n",
    "                           min_impurity_split=None, bootstrap=True, oob_score=False, n_jobs=-1, \n",
    "                           random_state=42, verbose=0, warm_start=False, class_weight=None, \n",
    "                           ccp_alpha=0.0, max_samples=None)\n",
    "    )\n",
    "\n",
    "drop_count = int(0.1*len(Id_skew_cols))\n",
    "pipeline.set_params(functiontransformer__kw_args={'drop_count': drop_count})\n",
    "\n",
    "#.fit: WITHOUT CHANGING X APPLIES THE TRANSFORM AND CHECK TO SEE IF y FITS TRANSFORMED OF X\n",
    "print(\"\\n fitting ...\")\n",
    "pipeline.fit(X_train, y_train)\n",
    "\n",
    "print(\"\\n getting X_train transformed column labels\")\n",
    "feat_name = pipeline.named_steps['functiontransformer'].transform(X_train).columns\n",
    "\n",
    "print(\"X_train: \", len(X_train.columns), \"X_fit: \", len(feat_name))\n",
    "assert len(X_train.columns) == len(feat_name) + drop_count\n",
    "\n",
    "print(\"\\n predicting ...\")\n",
    "y_pred = pipeline.predict(X_val)\n",
    "\n",
    "print(\"\\n Accuracy ...\")\n",
    "print('Training Accuracy', accuracy_score(y_train, pipeline.predict(X_train)))\n",
    "print('Validation Accuracy', accuracy_score(y_val, y_pred))"
   ]
  },
  {
   "cell_type": "code",
   "execution_count": 17,
   "metadata": {
    "colab": {
     "base_uri": "https://localhost:8080/",
     "height": 33
    },
    "colab_type": "code",
    "id": "FOk_Is2MxMer",
    "outputId": "04425952-5083-4d2a-997f-45c1f2907948"
   },
   "outputs": [
    {
     "name": "stdout",
     "output_type": "stream",
     "text": [
      "50\n"
     ]
    }
   ],
   "source": [
    "rf = pipeline.named_steps['randomforestclassifier']\n",
    "print(pipeline.named_steps['randomforestclassifier'].n_features_)\n",
    "importances = pd.Series(rf.feature_importances_, feat_name).sort_values(ascending=True)"
   ]
  },
  {
   "cell_type": "code",
   "execution_count": 18,
   "metadata": {
    "colab": {
     "base_uri": "https://localhost:8080/",
     "height": 608
    },
    "colab_type": "code",
    "id": "bVbUumAUqJZQ",
    "outputId": "5ec50c3b-2086-40f2-defb-7509a452ef92"
   },
   "outputs": [
    {
     "data": {
      "text/plain": [
       "<AxesSubplot:>"
      ]
     },
     "execution_count": 18,
     "metadata": {},
     "output_type": "execute_result"
    },
    {
     "data": {
      "image/png": "[encoded data removed]",
      "text/plain": [
       "<Figure size 1080x720 with 1 Axes>"
      ]
     },
     "metadata": {
      "needs_background": "light"
     },
     "output_type": "display_data"
    }
   ],
   "source": [
    "plt.figure(figsize=(15,10))\n",
    "importances.plot.barh()"
   ]
  },
  {
   "cell_type": "markdown",
   "metadata": {
    "colab_type": "text",
    "id": "ugIdHEAvM9ET"
   },
   "source": [
    "In the presence of all the features, feature_importance_ of Id column ranks relatively high. Hence, feature_importance_ by itself cannot be a deciding factor. We drop 10% of skewed columns to get 82% accuracy"
   ]
  },
  {
   "cell_type": "markdown",
   "metadata": {
    "colab_type": "text",
    "id": "6do_jQRt64wH"
   },
   "source": [
    "### Cross Validation Curve for skewed features"
   ]
  },
  {
   "cell_type": "code",
   "execution_count": 19,
   "metadata": {
    "colab": {
     "base_uri": "https://localhost:8080/",
     "height": 1000
    },
    "colab_type": "code",
    "id": "6q5ZljwKZjUt",
    "outputId": "8778cecb-f086-4961-bdff-1e14d93301df"
   },
   "outputs": [
    {
     "name": "stdout",
     "output_type": "stream",
     "text": [
      "val scores [[0.83305785 0.83836296 0.84497726 0.82389417 0.83298884]\n",
      " [0.82231405 0.82720132 0.82141381 0.81810666 0.8222406 ]\n",
      " [0.8231405  0.82100041 0.82430757 0.82306738 0.82348078]\n",
      " [0.81983471 0.82926829 0.82430757 0.82017363 0.82058702]\n",
      " [0.81859504 0.82430757 0.82802811 0.81934684 0.8222406 ]\n",
      " [0.82561983 0.8284415  0.82720132 0.8218272  0.81893344]\n",
      " [0.82066116 0.83216205 0.82554775 0.82554775 0.82472096]\n",
      " [0.82603306 0.82430757 0.82678793 0.8218272  0.82058702]\n",
      " [0.82396694 0.82720132 0.82637453 0.82513435 0.82265399]\n",
      " [0.82107438 0.83009508 0.82389417 0.82141381 0.82265399]\n",
      " [0.82272727 0.8222406  0.82100041 0.81893344 0.81397272]\n",
      " [0.81859504 0.83257544 0.82513435 0.82141381 0.82678793]\n",
      " [0.82190083 0.83298884 0.83050847 0.82058702 0.82141381]\n",
      " [0.8214876  0.83009508 0.82306738 0.82389417 0.82554775]\n",
      " [0.81818182 0.82637453 0.8218272  0.81893344 0.82554775]\n",
      " [0.82107438 0.82802811 0.82513435 0.82017363 0.81976023]\n",
      " [0.81652893 0.82968169 0.82472096 0.82058702 0.8152129 ]\n",
      " [0.81859504 0.82761472 0.8222406  0.81976023 0.81852005]\n",
      " [0.81900826 0.82678793 0.82926829 0.82058702 0.82306738]\n",
      " [0.82024793 0.83381563 0.82430757 0.81976023 0.82017363]\n",
      " [0.82603306 0.82637453 0.82761472 0.82058702 0.81397272]\n",
      " [0.81983471 0.82926829 0.82348078 0.82017363 0.82265399]\n",
      " [0.81900826 0.82802811 0.81893344 0.81893344 0.81934684]\n",
      " [0.82024793 0.83340223 0.82761472 0.81893344 0.81852005]\n",
      " [0.82024793 0.83050847 0.82430757 0.81852005 0.82348078]\n",
      " [0.81942149 0.83050847 0.82017363 0.82430757 0.82017363]\n",
      " [0.81652893 0.83422902 0.8218272  0.81810666 0.82265399]\n",
      " [0.82107438 0.83257544 0.82348078 0.81893344 0.82141381]\n",
      " [0.81983471 0.82637453 0.82389417 0.8152129  0.81397272]\n",
      " [0.81942149 0.82802811 0.81976023 0.81852005 0.81893344]\n",
      " [0.8161157  0.82472096 0.81934684 0.81893344 0.81686647]\n",
      " [0.81239669 0.82637453 0.81686647 0.8147995  0.82017363]\n",
      " [0.81694215 0.82720132 0.81603969 0.81190575 0.81810666]\n",
      " [0.81570248 0.82348078 0.81066556 0.81190575 0.81355932]\n",
      " [0.81694215 0.82513435 0.81231914 0.81149235 0.81190575]\n",
      " [0.80909091 0.81686647 0.81231914 0.80405126 0.8081852 ]\n",
      " [       nan        nan        nan        nan        nan]\n",
      " [       nan        nan        nan        nan        nan]\n",
      " [       nan        nan        nan        nan        nan]\n",
      " [       nan        nan        nan        nan        nan]\n",
      " [       nan        nan        nan        nan        nan]\n",
      " [       nan        nan        nan        nan        nan]\n",
      " [       nan        nan        nan        nan        nan]\n",
      " [       nan        nan        nan        nan        nan]\n",
      " [       nan        nan        nan        nan        nan]\n",
      " [       nan        nan        nan        nan        nan]\n",
      " [       nan        nan        nan        nan        nan]\n",
      " [       nan        nan        nan        nan        nan]\n",
      " [       nan        nan        nan        nan        nan]\n",
      " [       nan        nan        nan        nan        nan]\n",
      " [       nan        nan        nan        nan        nan]]\n",
      "val scores mean [0.83465622 0.82225529 0.82299933 0.82283424 0.82250363 0.82440466\n",
      " 0.82572793 0.82390855 0.82506623 0.82382629 0.81977489 0.82490132\n",
      " 0.82547979 0.8248184  0.82217295 0.82283414 0.8213463  0.82134613\n",
      " 0.82374378 0.823661   0.82291641 0.82308228 0.82085002 0.82374368\n",
      " 0.82341296 0.82291696 0.82266916 0.82349557 0.81985781 0.82093266\n",
      " 0.81919668 0.81812217 0.81803911 0.81506278 0.81555875 0.8101026\n",
      "        nan        nan        nan        nan        nan        nan\n",
      "        nan        nan        nan        nan        nan        nan\n",
      "        nan        nan        nan]\n"
     ]
    },
    {
     "data": {
      "text/plain": [
       "[{'drop_count': 0},\n",
       " {'drop_count': 1},\n",
       " {'drop_count': 2},\n",
       " {'drop_count': 3},\n",
       " {'drop_count': 4},\n",
       " {'drop_count': 5},\n",
       " {'drop_count': 6},\n",
       " {'drop_count': 7},\n",
       " {'drop_count': 8},\n",
       " {'drop_count': 9},\n",
       " {'drop_count': 10},\n",
       " {'drop_count': 11},\n",
       " {'drop_count': 12},\n",
       " {'drop_count': 13},\n",
       " {'drop_count': 14},\n",
       " {'drop_count': 15},\n",
       " {'drop_count': 16},\n",
       " {'drop_count': 17},\n",
       " {'drop_count': 18},\n",
       " {'drop_count': 19},\n",
       " {'drop_count': 20},\n",
       " {'drop_count': 21},\n",
       " {'drop_count': 22},\n",
       " {'drop_count': 23},\n",
       " {'drop_count': 24},\n",
       " {'drop_count': 25},\n",
       " {'drop_count': 26},\n",
       " {'drop_count': 27},\n",
       " {'drop_count': 28},\n",
       " {'drop_count': 29},\n",
       " {'drop_count': 30},\n",
       " {'drop_count': 31},\n",
       " {'drop_count': 32},\n",
       " {'drop_count': 33},\n",
       " {'drop_count': 34},\n",
       " {'drop_count': 35},\n",
       " {'drop_count': 36},\n",
       " {'drop_count': 37},\n",
       " {'drop_count': 38},\n",
       " {'drop_count': 39},\n",
       " {'drop_count': 40},\n",
       " {'drop_count': 41},\n",
       " {'drop_count': 42},\n",
       " {'drop_count': 43},\n",
       " {'drop_count': 44},\n",
       " {'drop_count': 45},\n",
       " {'drop_count': 46},\n",
       " {'drop_count': 47},\n",
       " {'drop_count': 48},\n",
       " {'drop_count': 49},\n",
       " {'drop_count': 50}]"
      ]
     },
     "execution_count": 19,
     "metadata": {},
     "output_type": "execute_result"
    },
    {
     "data": {
      "image/png": "[encoded data removed]",
      "text/plain": [
       "<Figure size 900x600 with 1 Axes>"
      ]
     },
     "metadata": {
      "needs_background": "light"
     },
     "output_type": "display_data"
    }
   ],
   "source": [
    "par_name = \"drop_count\"\n",
    "param_range = [{par_name: i} for i in range(len(Id_skew_cols))]\n",
    "param_rangex = [i for i in range(len(Id_skew_cols))]\n",
    "\n",
    "# par_name = \"max_features\"\n",
    "# param_range = np.arange(0.1,1.1,0.1)\n",
    "# param_rangex = param_range\n",
    "               \n",
    "# par_name = \"max_depth\"\n",
    "# param_range = range(1,25,1)\n",
    "# param_rangex = param_range\n",
    "\n",
    "# par_name = \"min_samples_split\"\n",
    "# param_range = np.linspace(10, 0.01*len(X_train), 10, endpoint=True).astype(int)\n",
    "# param_rangex = param_range\n",
    "\n",
    "# par_name = \"min_samples_leaf\"\n",
    "# param_range = np.linspace(2, 0.001*len(X_train), 10, endpoint=True).astype(int)\n",
    "# param_rangex = param_range\n",
    "\n",
    "# par_name = \"criterion\"\n",
    "# param_range = [\"gini\", \"entropy\"]\n",
    "# param_rangex = param_range\n",
    "\n",
    "\n",
    "train_scores, val_scores = validation_curve(\n",
    "    pipeline, X_train, y_train,\n",
    "    param_name='functiontransformer__kw_args',\n",
    "    # param_name='randomforestclassifier__'+ par_name, \n",
    "    \n",
    "    param_range=param_range, \n",
    "    scoring='accuracy', \n",
    "    cv=5,\n",
    "    n_jobs=-1\n",
    ")\n",
    "# for different values of param_range\n",
    "print(\"val scores\", val_scores)\n",
    "print(\"val scores mean\", np.mean(val_scores, axis=1))\n",
    "\n",
    "# Averaging CV scores\n",
    "plt.figure(dpi=150)\n",
    "plt.plot(param_rangex, np.mean(train_scores, axis=1), color='blue', label='training accuracy')\n",
    "plt.plot(param_rangex, np.mean(val_scores, axis=1), color='red', label='validation accuracy')\n",
    "plt.title('Validation Curve')\n",
    "plt.xlabel(f'model complexity: Pipeline {par_name}')\n",
    "plt.ylabel('model score: Accuracy')\n",
    "plt.legend()\n",
    "param_range"
   ]
  },
  {
   "cell_type": "markdown",
   "metadata": {
    "colab_type": "text",
    "id": "bUGB0cgVRs99"
   },
   "source": [
    "beyoun 30 features drop, validation accuracy starts going down."
   ]
  },
  {
   "cell_type": "markdown",
   "metadata": {
    "colab_type": "text",
    "id": "GxopC1JKTUsY"
   },
   "source": [
    "### RandomizedSearchCV"
   ]
  },
  {
   "cell_type": "code",
   "execution_count": 212,
   "metadata": {
    "colab": {},
    "colab_type": "code",
    "id": "5cEzxfNTpmIB"
   },
   "outputs": [],
   "source": [
    "# pipe = make_pipeline(FunctionTransformer(log_columns, ), PCA(), SVC())\n",
    "\n",
    "# param_grid = dict(\n",
    "#     functiontransformer__kw_args=[\n",
    "#         {'col_idx': None},\n",
    "#         {'col_idx': [1]}\n",
    "#     ],\n",
    "#     pca__n_components=[2, 5, 10],\n",
    "#     svc__C=[0.1, 10, 100],\n",
    "# )\n",
    "# grid_search = GridSearchCV(pipe, param_grid=param_grid)\n",
    "\n",
    "# digits = load_digits()\n",
    "# res = grid_search.fit(digits.data, digits.target)      "
   ]
  },
  {
   "cell_type": "code",
   "execution_count": 21,
   "metadata": {
    "colab": {
     "base_uri": "https://localhost:8080/",
     "height": 1000
    },
    "colab_type": "code",
    "id": "4yyMSmLFRAMO",
    "outputId": "bfd93be1-dd66-4d58-ae1b-be81b87ee8fa"
   },
   "outputs": [
    {
     "name": "stdout",
     "output_type": "stream",
     "text": [
      "Model Hyperparameters:\n",
      "RandomForestClassifier(criterion='entropy', max_depth=20, max_features=20,\n",
      "                       min_samples_leaf=8, n_estimators=50, n_jobs=-1,\n",
      "                       random_state=42)\n",
      "Fitting 4 folds for each of 50 candidates, totalling 200 fits\n"
     ]
    },
    {
     "name": "stderr",
     "output_type": "stream",
     "text": [
      "[Parallel(n_jobs=-1)]: Using backend LokyBackend with 8 concurrent workers.\n",
      "[Parallel(n_jobs=-1)]: Done   2 tasks      | elapsed:    3.2s\n",
      "[Parallel(n_jobs=-1)]: Done   9 tasks      | elapsed:    3.7s\n",
      "[Parallel(n_jobs=-1)]: Done  16 tasks      | elapsed:    4.3s\n",
      "[Parallel(n_jobs=-1)]: Done  25 tasks      | elapsed:    5.5s\n",
      "[Parallel(n_jobs=-1)]: Done  34 tasks      | elapsed:    5.9s\n",
      "[Parallel(n_jobs=-1)]: Done  45 tasks      | elapsed:    6.8s\n",
      "[Parallel(n_jobs=-1)]: Done  56 tasks      | elapsed:    7.9s\n",
      "[Parallel(n_jobs=-1)]: Done  69 tasks      | elapsed:    9.5s\n",
      "[Parallel(n_jobs=-1)]: Done  82 tasks      | elapsed:   10.9s\n",
      "[Parallel(n_jobs=-1)]: Done  97 tasks      | elapsed:   12.3s\n",
      "[Parallel(n_jobs=-1)]: Done 112 tasks      | elapsed:   14.1s\n",
      "[Parallel(n_jobs=-1)]: Done 129 tasks      | elapsed:   16.4s\n",
      "[Parallel(n_jobs=-1)]: Done 146 tasks      | elapsed:   18.6s\n",
      "[Parallel(n_jobs=-1)]: Done 165 tasks      | elapsed:   19.5s\n",
      "[Parallel(n_jobs=-1)]: Done 184 tasks      | elapsed:   20.7s\n",
      "[Parallel(n_jobs=-1)]: Done 200 out of 200 | elapsed:   22.1s finished\n"
     ]
    },
    {
     "name": "stdout",
     "output_type": "stream",
     "text": [
      "drop_count parameter:  17\n",
      "X shape before return: (12096, 38)\n",
      "Cross-validation Accuracy 0.6919642857142857\n",
      "Best hyperparameters {'randomforestclassifier__min_samples_split': 443, 'randomforestclassifier__min_samples_leaf': 63, 'randomforestclassifier__max_features': 21, 'randomforestclassifier__criterion': 'entropy', 'functiontransformer__kw_args': {'drop_count': 17}}\n"
     ]
    }
   ],
   "source": [
    "print('Model Hyperparameters:')\n",
    "print(pipeline.named_steps['randomforestclassifier'])\n",
    "\n",
    "x_n_iter = 50\n",
    "\n",
    "param_distributions = {\n",
    "    # 'simpleimputer__strategy': ['mean', 'median', 'most_frequent'], \n",
    "     'functiontransformer__kw_args': [{par_name: i} for i in range(int(0.5*len(Id_skew_cols)))],\n",
    "    'randomforestclassifier__min_samples_leaf': [random.randint(1, 1000) for i in range(20)], \n",
    "    'randomforestclassifier__min_samples_split': [random.randint(2, 1000) for i in range(20)], \n",
    "    'randomforestclassifier__max_features': [random.randint(2, 54) for i in range(20)], \n",
    "    'randomforestclassifier__criterion': [\"gini\", \"entropy\"]\n",
    "    }\n",
    "\n",
    "rscv = RandomizedSearchCV(\n",
    "    pipeline, \n",
    "    param_distributions=param_distributions, \n",
    "    n_iter=x_n_iter, \n",
    "    cv=4, \n",
    "    scoring='accuracy', \n",
    "    verbose=10, \n",
    "    return_train_score=True, \n",
    "    n_jobs=-1\n",
    ")\n",
    "\n",
    "rscv.fit(X_train, y_train)\n",
    "\n",
    "bestpipe = rscv.best_estimator_\n",
    "print('Cross-validation Accuracy', rscv.best_score_)\n",
    "print('Best hyperparameters', rscv.best_params_)\n"
   ]
  },
  {
   "cell_type": "code",
   "execution_count": 22,
   "metadata": {
    "colab": {
     "base_uri": "https://localhost:8080/",
     "height": 342
    },
    "colab_type": "code",
    "id": "Z1iKUEmwNuWT",
    "outputId": "9fe81778-72c2-46d0-9d1c-c8525536c14c"
   },
   "outputs": [
    {
     "data": {
      "text/plain": [
       "Pipeline(steps=[('functiontransformer',\n",
       "                 FunctionTransformer(func=<function wrangle at 0x128c55290>,\n",
       "                                     kw_args={'drop_count': 17})),\n",
       "                ('randomforestclassifier',\n",
       "                 RandomForestClassifier(criterion='entropy', max_depth=20,\n",
       "                                        max_features=21, min_samples_leaf=63,\n",
       "                                        min_samples_split=443, n_estimators=50,\n",
       "                                        n_jobs=-1, random_state=42))])"
      ]
     },
     "execution_count": 22,
     "metadata": {},
     "output_type": "execute_result"
    }
   ],
   "source": [
    "rscv.best_estimator_"
   ]
  },
  {
   "cell_type": "code",
   "execution_count": 23,
   "metadata": {
    "colab": {
     "base_uri": "https://localhost:8080/",
     "height": 98
    },
    "colab_type": "code",
    "id": "JWm62MA_sKB7",
    "outputId": "892ca8f8-3507-4efc-f3fc-aaef6118d5ec"
   },
   "outputs": [
    {
     "data": {
      "text/plain": [
       "{'randomforestclassifier__min_samples_split': 443,\n",
       " 'randomforestclassifier__min_samples_leaf': 63,\n",
       " 'randomforestclassifier__max_features': 21,\n",
       " 'randomforestclassifier__criterion': 'entropy',\n",
       " 'functiontransformer__kw_args': {'drop_count': 17}}"
      ]
     },
     "execution_count": 23,
     "metadata": {},
     "output_type": "execute_result"
    }
   ],
   "source": [
    "rscv.best_params_"
   ]
  },
  {
   "cell_type": "code",
   "execution_count": 24,
   "metadata": {
    "colab": {
     "base_uri": "https://localhost:8080/",
     "height": 245
    },
    "colab_type": "code",
    "id": "Dot8a2D7PsBf",
    "outputId": "e8cde279-eb8b-4ac5-b485-6fec64163be2"
   },
   "outputs": [
    {
     "name": "stdout",
     "output_type": "stream",
     "text": [
      "drop_count parameter:  17\n",
      "X shape before return: (12096, 38)\n"
     ]
    },
    {
     "data": {
      "text/plain": [
       "(Index(['Elevation', 'Aspect', 'Slope', 'Horizontal_Distance_To_Hydrology',\n",
       "        'Vertical_Distance_To_Hydrology', 'Horizontal_Distance_To_Roadways',\n",
       "        'Hillshade_9am', 'Hillshade_Noon', 'Hillshade_3pm',\n",
       "        'Horizontal_Distance_To_Fire_Points', 'Wilderness_Area1',\n",
       "        'Wilderness_Area2', 'Wilderness_Area3', 'Wilderness_Area4',\n",
       "        'Soil_Type1', 'Soil_Type2', 'Soil_Type3', 'Soil_Type4', 'Soil_Type5',\n",
       "        'Soil_Type6', 'Soil_Type10', 'Soil_Type11', 'Soil_Type12',\n",
       "        'Soil_Type13', 'Soil_Type14', 'Soil_Type17', 'Soil_Type20',\n",
       "        'Soil_Type22', 'Soil_Type23', 'Soil_Type24', 'Soil_Type29',\n",
       "        'Soil_Type30', 'Soil_Type31', 'Soil_Type32', 'Soil_Type33',\n",
       "        'Soil_Type38', 'Soil_Type39', 'Soil_Type40'],\n",
       "       dtype='object'),\n",
       " (38,))"
      ]
     },
     "execution_count": 24,
     "metadata": {},
     "output_type": "execute_result"
    }
   ],
   "source": [
    "best_feat = bestpipe.named_steps['functiontransformer'].transform(X_train).columns\n",
    "best_feat, best_feat.shape"
   ]
  },
  {
   "cell_type": "code",
   "execution_count": 26,
   "metadata": {
    "colab": {
     "base_uri": "https://localhost:8080/",
     "height": 115
    },
    "colab_type": "code",
    "id": "65JVFHZLRBse",
    "outputId": "730003fc-04dd-44e4-beb9-c51e732febb1"
   },
   "outputs": [
    {
     "name": "stdout",
     "output_type": "stream",
     "text": [
      " X_val shape before predict : (3024, 55)\n",
      "predicting ...\n",
      "drop_count parameter:  17\n",
      "X shape before return: (3024, 38)\n",
      " X_val shape after predict : (3024, 55)\n",
      "Validation Accuracy 0.708994708994709\n"
     ]
    }
   ],
   "source": [
    "#.predict: WITHOUT ACTUALLY TRANSFORMING X, APPLIES THE TRANSFORMS TO X AND PREDICT a fitted y\n",
    "# wrangle_col = pipeline.named_steps['functiontransformer'].transform(X_train).columns\n",
    "\n",
    "\n",
    "print(f' X_val shape before predict : {X_val.shape}')\n",
    "print(\"predicting ...\")\n",
    "y_pred = bestpipe.predict(X_val)\n",
    "print(f' X_val shape after predict : {X_val.shape}')\n",
    "print('Validation Accuracy', accuracy_score(y_val, y_pred))"
   ]
  },
  {
   "cell_type": "code",
   "execution_count": null,
   "metadata": {},
   "outputs": [],
   "source": []
  }
 ],
 "metadata": {
  "colab": {
   "collapsed_sections": [],
   "include_colab_link": true,
   "name": "skhabiri_LS_DS_build2_assignment.ipynb",
   "provenance": []
  },
  "kernelspec": {
   "display_name": "Python 3",
   "language": "python",
   "name": "python3"
  },
  "language_info": {
   "codemirror_mode": {
    "name": "ipython",
    "version": 3
   },
   "file_extension": ".py",
   "mimetype": "text/x-python",
   "name": "python",
   "nbconvert_exporter": "python",
   "pygments_lexer": "ipython3",
   "version": "3.7.8"
  }
 },
 "nbformat": 4,
 "nbformat_minor": 4
}
