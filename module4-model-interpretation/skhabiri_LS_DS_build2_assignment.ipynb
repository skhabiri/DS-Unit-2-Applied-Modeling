{
  "nbformat": 4,
  "nbformat_minor": 0,
  "metadata": {
    "kernelspec": {
      "display_name": "Python 3",
      "language": "python",
      "name": "python3"
    },
    "language_info": {
      "codemirror_mode": {
        "name": "ipython",
        "version": 3
      },
      "file_extension": ".py",
      "mimetype": "text/x-python",
      "name": "python",
      "nbconvert_exporter": "python",
      "pygments_lexer": "ipython3",
      "version": "3.7.6"
    },
    "colab": {
      "name": "skhabiri_LS_DS_build2_assignment.ipynb",
      "provenance": [],
      "collapsed_sections": [],
      "include_colab_link": true
    }
  },
  "cells": [
    {
      "cell_type": "markdown",
      "metadata": {
        "id": "view-in-github",
        "colab_type": "text"
      },
      "source": [
        "<a href=\"https://colab.research.google.com/github/skhabiri/DS-Unit-2-Applied-Modeling/blob/master/module4-model-interpretation/skhabiri_LS_DS_build2_assignment.ipynb\" target=\"_parent\"><img src=\"https://colab.research.google.com/assets/colab-badge.svg\" alt=\"Open In Colab\"/></a>"
      ]
    },
    {
      "cell_type": "markdown",
      "metadata": {
        "colab_type": "text",
        "id": "nCc3XZEyG3XV"
      },
      "source": [
        "Lambda School Data Science\n",
        "\n",
        "*Unit 2, Sprint 3, Module 1*\n",
        "\n",
        "---\n",
        "\n",
        "\n",
        "# Define ML problems\n",
        "\n",
        "You will use your portfolio project dataset for all assignments this sprint.\n",
        "\n",
        "## Assignment\n",
        "\n",
        "Complete these tasks for your project, and document your decisions.\n",
        "\n",
        "- [ ] Choose your target. Which column in your tabular dataset will you predict?\n",
        "- [ ] Is your problem regression or classification?\n",
        "- [ ] How is your target distributed?\n",
        "    - Classification: How many classes? Are the classes imbalanced?\n",
        "    - Regression: Is the target right-skewed? If so, you may want to log transform the target.\n",
        "- [ ] Choose your evaluation metric(s).\n",
        "    - Classification: Is your majority class frequency >= 50% and < 70% ? If so, you can just use accuracy if you want. Outside that range, accuracy could be misleading. What evaluation metric will you choose, in addition to or instead of accuracy?\n",
        "    - Regression: Will you use mean absolute error, root mean squared error, R^2, or other regression metrics?\n",
        "- [ ] Choose which observations you will use to train, validate, and test your model.\n",
        "    - Are some observations outliers? Will you exclude them?\n",
        "    - Will you do a random split or a time-based split?\n",
        "- [ ] Begin to clean and explore your data.\n",
        "- [ ] Begin to choose which features, if any, to exclude. Would some features \"leak\" future information?\n",
        "\n",
        "If you haven't found a dataset yet, do that today. [Review requirements for your portfolio project](https://lambdaschool.github.io/ds/unit2) and choose your dataset.\n",
        "\n",
        "Some students worry, ***what if my model isn't “good”?*** Then, [produce a detailed tribute to your wrongness. That is science!](https://twitter.com/nathanwpyle/status/1176860147223867393)"
      ]
    },
    {
      "cell_type": "code",
      "metadata": {
        "id": "Fhjl0O6nj5zT",
        "colab_type": "code",
        "colab": {
          "base_uri": "https://localhost:8080/",
          "height": 471
        },
        "outputId": "e42fbfb3-f8bb-42d3-eafb-0d8fdbd6b8e0"
      },
      "source": [
        "import pandas as pd\n",
        "import numpy as np\n",
        "!pip install category_encoders==2.*\n",
        "\n",
        "\n",
        "data = pd.read_csv('https://github.com/skhabiri/Forest_cover_type_data/raw/master/train.csv')\n",
        "print(data.shape)\n",
        "data.head()\n"
      ],
      "execution_count": 1,
      "outputs": [
        {
          "output_type": "stream",
          "text": [
            "Collecting category_encoders==2.*\n",
            "\u001b[?25l  Downloading https://files.pythonhosted.org/packages/44/57/fcef41c248701ee62e8325026b90c432adea35555cbc870aff9cfba23727/category_encoders-2.2.2-py2.py3-none-any.whl (80kB)\n",
            "\u001b[K     |████████████████████████████████| 81kB 2.1MB/s \n",
            "\u001b[?25hRequirement already satisfied: scikit-learn>=0.20.0 in /usr/local/lib/python3.6/dist-packages (from category_encoders==2.*) (0.22.2.post1)\n",
            "Requirement already satisfied: statsmodels>=0.9.0 in /usr/local/lib/python3.6/dist-packages (from category_encoders==2.*) (0.10.2)\n",
            "Requirement already satisfied: patsy>=0.5.1 in /usr/local/lib/python3.6/dist-packages (from category_encoders==2.*) (0.5.1)\n",
            "Requirement already satisfied: scipy>=1.0.0 in /usr/local/lib/python3.6/dist-packages (from category_encoders==2.*) (1.4.1)\n",
            "Requirement already satisfied: numpy>=1.14.0 in /usr/local/lib/python3.6/dist-packages (from category_encoders==2.*) (1.18.5)\n",
            "Requirement already satisfied: pandas>=0.21.1 in /usr/local/lib/python3.6/dist-packages (from category_encoders==2.*) (1.0.5)\n",
            "Requirement already satisfied: joblib>=0.11 in /usr/local/lib/python3.6/dist-packages (from scikit-learn>=0.20.0->category_encoders==2.*) (0.16.0)\n",
            "Requirement already satisfied: six in /usr/local/lib/python3.6/dist-packages (from patsy>=0.5.1->category_encoders==2.*) (1.15.0)\n",
            "Requirement already satisfied: python-dateutil>=2.6.1 in /usr/local/lib/python3.6/dist-packages (from pandas>=0.21.1->category_encoders==2.*) (2.8.1)\n",
            "Requirement already satisfied: pytz>=2017.2 in /usr/local/lib/python3.6/dist-packages (from pandas>=0.21.1->category_encoders==2.*) (2018.9)\n",
            "Installing collected packages: category-encoders\n",
            "Successfully installed category-encoders-2.2.2\n",
            "(15120, 56)\n"
          ],
          "name": "stdout"
        },
        {
          "output_type": "execute_result",
          "data": {
            "text/html": [
              "<div>\n",
              "<style scoped>\n",
              "    .dataframe tbody tr th:only-of-type {\n",
              "        vertical-align: middle;\n",
              "    }\n",
              "\n",
              "    .dataframe tbody tr th {\n",
              "        vertical-align: top;\n",
              "    }\n",
              "\n",
              "    .dataframe thead th {\n",
              "        text-align: right;\n",
              "    }\n",
              "</style>\n",
              "<table border=\"1\" class=\"dataframe\">\n",
              "  <thead>\n",
              "    <tr style=\"text-align: right;\">\n",
              "      <th></th>\n",
              "      <th>Id</th>\n",
              "      <th>Elevation</th>\n",
              "      <th>Aspect</th>\n",
              "      <th>Slope</th>\n",
              "      <th>Horizontal_Distance_To_Hydrology</th>\n",
              "      <th>Vertical_Distance_To_Hydrology</th>\n",
              "      <th>Horizontal_Distance_To_Roadways</th>\n",
              "      <th>Hillshade_9am</th>\n",
              "      <th>Hillshade_Noon</th>\n",
              "      <th>Hillshade_3pm</th>\n",
              "      <th>Horizontal_Distance_To_Fire_Points</th>\n",
              "      <th>Wilderness_Area1</th>\n",
              "      <th>Wilderness_Area2</th>\n",
              "      <th>Wilderness_Area3</th>\n",
              "      <th>Wilderness_Area4</th>\n",
              "      <th>Soil_Type1</th>\n",
              "      <th>Soil_Type2</th>\n",
              "      <th>Soil_Type3</th>\n",
              "      <th>Soil_Type4</th>\n",
              "      <th>Soil_Type5</th>\n",
              "      <th>Soil_Type6</th>\n",
              "      <th>Soil_Type7</th>\n",
              "      <th>Soil_Type8</th>\n",
              "      <th>Soil_Type9</th>\n",
              "      <th>Soil_Type10</th>\n",
              "      <th>Soil_Type11</th>\n",
              "      <th>Soil_Type12</th>\n",
              "      <th>Soil_Type13</th>\n",
              "      <th>Soil_Type14</th>\n",
              "      <th>Soil_Type15</th>\n",
              "      <th>Soil_Type16</th>\n",
              "      <th>Soil_Type17</th>\n",
              "      <th>Soil_Type18</th>\n",
              "      <th>Soil_Type19</th>\n",
              "      <th>Soil_Type20</th>\n",
              "      <th>Soil_Type21</th>\n",
              "      <th>Soil_Type22</th>\n",
              "      <th>Soil_Type23</th>\n",
              "      <th>Soil_Type24</th>\n",
              "      <th>Soil_Type25</th>\n",
              "      <th>Soil_Type26</th>\n",
              "      <th>Soil_Type27</th>\n",
              "      <th>Soil_Type28</th>\n",
              "      <th>Soil_Type29</th>\n",
              "      <th>Soil_Type30</th>\n",
              "      <th>Soil_Type31</th>\n",
              "      <th>Soil_Type32</th>\n",
              "      <th>Soil_Type33</th>\n",
              "      <th>Soil_Type34</th>\n",
              "      <th>Soil_Type35</th>\n",
              "      <th>Soil_Type36</th>\n",
              "      <th>Soil_Type37</th>\n",
              "      <th>Soil_Type38</th>\n",
              "      <th>Soil_Type39</th>\n",
              "      <th>Soil_Type40</th>\n",
              "      <th>Cover_Type</th>\n",
              "    </tr>\n",
              "  </thead>\n",
              "  <tbody>\n",
              "    <tr>\n",
              "      <th>0</th>\n",
              "      <td>1</td>\n",
              "      <td>2596</td>\n",
              "      <td>51</td>\n",
              "      <td>3</td>\n",
              "      <td>258</td>\n",
              "      <td>0</td>\n",
              "      <td>510</td>\n",
              "      <td>221</td>\n",
              "      <td>232</td>\n",
              "      <td>148</td>\n",
              "      <td>6279</td>\n",
              "      <td>1</td>\n",
              "      <td>0</td>\n",
              "      <td>0</td>\n",
              "      <td>0</td>\n",
              "      <td>0</td>\n",
              "      <td>0</td>\n",
              "      <td>0</td>\n",
              "      <td>0</td>\n",
              "      <td>0</td>\n",
              "      <td>0</td>\n",
              "      <td>0</td>\n",
              "      <td>0</td>\n",
              "      <td>0</td>\n",
              "      <td>0</td>\n",
              "      <td>0</td>\n",
              "      <td>0</td>\n",
              "      <td>0</td>\n",
              "      <td>0</td>\n",
              "      <td>0</td>\n",
              "      <td>0</td>\n",
              "      <td>0</td>\n",
              "      <td>0</td>\n",
              "      <td>0</td>\n",
              "      <td>0</td>\n",
              "      <td>0</td>\n",
              "      <td>0</td>\n",
              "      <td>0</td>\n",
              "      <td>0</td>\n",
              "      <td>0</td>\n",
              "      <td>0</td>\n",
              "      <td>0</td>\n",
              "      <td>0</td>\n",
              "      <td>1</td>\n",
              "      <td>0</td>\n",
              "      <td>0</td>\n",
              "      <td>0</td>\n",
              "      <td>0</td>\n",
              "      <td>0</td>\n",
              "      <td>0</td>\n",
              "      <td>0</td>\n",
              "      <td>0</td>\n",
              "      <td>0</td>\n",
              "      <td>0</td>\n",
              "      <td>0</td>\n",
              "      <td>5</td>\n",
              "    </tr>\n",
              "    <tr>\n",
              "      <th>1</th>\n",
              "      <td>2</td>\n",
              "      <td>2590</td>\n",
              "      <td>56</td>\n",
              "      <td>2</td>\n",
              "      <td>212</td>\n",
              "      <td>-6</td>\n",
              "      <td>390</td>\n",
              "      <td>220</td>\n",
              "      <td>235</td>\n",
              "      <td>151</td>\n",
              "      <td>6225</td>\n",
              "      <td>1</td>\n",
              "      <td>0</td>\n",
              "      <td>0</td>\n",
              "      <td>0</td>\n",
              "      <td>0</td>\n",
              "      <td>0</td>\n",
              "      <td>0</td>\n",
              "      <td>0</td>\n",
              "      <td>0</td>\n",
              "      <td>0</td>\n",
              "      <td>0</td>\n",
              "      <td>0</td>\n",
              "      <td>0</td>\n",
              "      <td>0</td>\n",
              "      <td>0</td>\n",
              "      <td>0</td>\n",
              "      <td>0</td>\n",
              "      <td>0</td>\n",
              "      <td>0</td>\n",
              "      <td>0</td>\n",
              "      <td>0</td>\n",
              "      <td>0</td>\n",
              "      <td>0</td>\n",
              "      <td>0</td>\n",
              "      <td>0</td>\n",
              "      <td>0</td>\n",
              "      <td>0</td>\n",
              "      <td>0</td>\n",
              "      <td>0</td>\n",
              "      <td>0</td>\n",
              "      <td>0</td>\n",
              "      <td>0</td>\n",
              "      <td>1</td>\n",
              "      <td>0</td>\n",
              "      <td>0</td>\n",
              "      <td>0</td>\n",
              "      <td>0</td>\n",
              "      <td>0</td>\n",
              "      <td>0</td>\n",
              "      <td>0</td>\n",
              "      <td>0</td>\n",
              "      <td>0</td>\n",
              "      <td>0</td>\n",
              "      <td>0</td>\n",
              "      <td>5</td>\n",
              "    </tr>\n",
              "    <tr>\n",
              "      <th>2</th>\n",
              "      <td>3</td>\n",
              "      <td>2804</td>\n",
              "      <td>139</td>\n",
              "      <td>9</td>\n",
              "      <td>268</td>\n",
              "      <td>65</td>\n",
              "      <td>3180</td>\n",
              "      <td>234</td>\n",
              "      <td>238</td>\n",
              "      <td>135</td>\n",
              "      <td>6121</td>\n",
              "      <td>1</td>\n",
              "      <td>0</td>\n",
              "      <td>0</td>\n",
              "      <td>0</td>\n",
              "      <td>0</td>\n",
              "      <td>0</td>\n",
              "      <td>0</td>\n",
              "      <td>0</td>\n",
              "      <td>0</td>\n",
              "      <td>0</td>\n",
              "      <td>0</td>\n",
              "      <td>0</td>\n",
              "      <td>0</td>\n",
              "      <td>0</td>\n",
              "      <td>0</td>\n",
              "      <td>1</td>\n",
              "      <td>0</td>\n",
              "      <td>0</td>\n",
              "      <td>0</td>\n",
              "      <td>0</td>\n",
              "      <td>0</td>\n",
              "      <td>0</td>\n",
              "      <td>0</td>\n",
              "      <td>0</td>\n",
              "      <td>0</td>\n",
              "      <td>0</td>\n",
              "      <td>0</td>\n",
              "      <td>0</td>\n",
              "      <td>0</td>\n",
              "      <td>0</td>\n",
              "      <td>0</td>\n",
              "      <td>0</td>\n",
              "      <td>0</td>\n",
              "      <td>0</td>\n",
              "      <td>0</td>\n",
              "      <td>0</td>\n",
              "      <td>0</td>\n",
              "      <td>0</td>\n",
              "      <td>0</td>\n",
              "      <td>0</td>\n",
              "      <td>0</td>\n",
              "      <td>0</td>\n",
              "      <td>0</td>\n",
              "      <td>0</td>\n",
              "      <td>2</td>\n",
              "    </tr>\n",
              "    <tr>\n",
              "      <th>3</th>\n",
              "      <td>4</td>\n",
              "      <td>2785</td>\n",
              "      <td>155</td>\n",
              "      <td>18</td>\n",
              "      <td>242</td>\n",
              "      <td>118</td>\n",
              "      <td>3090</td>\n",
              "      <td>238</td>\n",
              "      <td>238</td>\n",
              "      <td>122</td>\n",
              "      <td>6211</td>\n",
              "      <td>1</td>\n",
              "      <td>0</td>\n",
              "      <td>0</td>\n",
              "      <td>0</td>\n",
              "      <td>0</td>\n",
              "      <td>0</td>\n",
              "      <td>0</td>\n",
              "      <td>0</td>\n",
              "      <td>0</td>\n",
              "      <td>0</td>\n",
              "      <td>0</td>\n",
              "      <td>0</td>\n",
              "      <td>0</td>\n",
              "      <td>0</td>\n",
              "      <td>0</td>\n",
              "      <td>0</td>\n",
              "      <td>0</td>\n",
              "      <td>0</td>\n",
              "      <td>0</td>\n",
              "      <td>0</td>\n",
              "      <td>0</td>\n",
              "      <td>0</td>\n",
              "      <td>0</td>\n",
              "      <td>0</td>\n",
              "      <td>0</td>\n",
              "      <td>0</td>\n",
              "      <td>0</td>\n",
              "      <td>0</td>\n",
              "      <td>0</td>\n",
              "      <td>0</td>\n",
              "      <td>0</td>\n",
              "      <td>0</td>\n",
              "      <td>0</td>\n",
              "      <td>1</td>\n",
              "      <td>0</td>\n",
              "      <td>0</td>\n",
              "      <td>0</td>\n",
              "      <td>0</td>\n",
              "      <td>0</td>\n",
              "      <td>0</td>\n",
              "      <td>0</td>\n",
              "      <td>0</td>\n",
              "      <td>0</td>\n",
              "      <td>0</td>\n",
              "      <td>2</td>\n",
              "    </tr>\n",
              "    <tr>\n",
              "      <th>4</th>\n",
              "      <td>5</td>\n",
              "      <td>2595</td>\n",
              "      <td>45</td>\n",
              "      <td>2</td>\n",
              "      <td>153</td>\n",
              "      <td>-1</td>\n",
              "      <td>391</td>\n",
              "      <td>220</td>\n",
              "      <td>234</td>\n",
              "      <td>150</td>\n",
              "      <td>6172</td>\n",
              "      <td>1</td>\n",
              "      <td>0</td>\n",
              "      <td>0</td>\n",
              "      <td>0</td>\n",
              "      <td>0</td>\n",
              "      <td>0</td>\n",
              "      <td>0</td>\n",
              "      <td>0</td>\n",
              "      <td>0</td>\n",
              "      <td>0</td>\n",
              "      <td>0</td>\n",
              "      <td>0</td>\n",
              "      <td>0</td>\n",
              "      <td>0</td>\n",
              "      <td>0</td>\n",
              "      <td>0</td>\n",
              "      <td>0</td>\n",
              "      <td>0</td>\n",
              "      <td>0</td>\n",
              "      <td>0</td>\n",
              "      <td>0</td>\n",
              "      <td>0</td>\n",
              "      <td>0</td>\n",
              "      <td>0</td>\n",
              "      <td>0</td>\n",
              "      <td>0</td>\n",
              "      <td>0</td>\n",
              "      <td>0</td>\n",
              "      <td>0</td>\n",
              "      <td>0</td>\n",
              "      <td>0</td>\n",
              "      <td>0</td>\n",
              "      <td>1</td>\n",
              "      <td>0</td>\n",
              "      <td>0</td>\n",
              "      <td>0</td>\n",
              "      <td>0</td>\n",
              "      <td>0</td>\n",
              "      <td>0</td>\n",
              "      <td>0</td>\n",
              "      <td>0</td>\n",
              "      <td>0</td>\n",
              "      <td>0</td>\n",
              "      <td>0</td>\n",
              "      <td>5</td>\n",
              "    </tr>\n",
              "  </tbody>\n",
              "</table>\n",
              "</div>"
            ],
            "text/plain": [
              "   Id  Elevation  Aspect  ...  Soil_Type39  Soil_Type40  Cover_Type\n",
              "0   1       2596      51  ...            0            0           5\n",
              "1   2       2590      56  ...            0            0           5\n",
              "2   3       2804     139  ...            0            0           2\n",
              "3   4       2785     155  ...            0            0           2\n",
              "4   5       2595      45  ...            0            0           5\n",
              "\n",
              "[5 rows x 56 columns]"
            ]
          },
          "metadata": {
            "tags": []
          },
          "execution_count": 1
        }
      ]
    },
    {
      "cell_type": "code",
      "metadata": {
        "id": "Eet92FMylJxN",
        "colab_type": "code",
        "colab": {
          "base_uri": "https://localhost:8080/",
          "height": 297
        },
        "outputId": "8f37bd26-3c19-4ec9-bed1-c5463bca586f"
      },
      "source": [
        "data.describe()"
      ],
      "execution_count": 2,
      "outputs": [
        {
          "output_type": "execute_result",
          "data": {
            "text/html": [
              "<div>\n",
              "<style scoped>\n",
              "    .dataframe tbody tr th:only-of-type {\n",
              "        vertical-align: middle;\n",
              "    }\n",
              "\n",
              "    .dataframe tbody tr th {\n",
              "        vertical-align: top;\n",
              "    }\n",
              "\n",
              "    .dataframe thead th {\n",
              "        text-align: right;\n",
              "    }\n",
              "</style>\n",
              "<table border=\"1\" class=\"dataframe\">\n",
              "  <thead>\n",
              "    <tr style=\"text-align: right;\">\n",
              "      <th></th>\n",
              "      <th>Id</th>\n",
              "      <th>Elevation</th>\n",
              "      <th>Aspect</th>\n",
              "      <th>Slope</th>\n",
              "      <th>Horizontal_Distance_To_Hydrology</th>\n",
              "      <th>Vertical_Distance_To_Hydrology</th>\n",
              "      <th>Horizontal_Distance_To_Roadways</th>\n",
              "      <th>Hillshade_9am</th>\n",
              "      <th>Hillshade_Noon</th>\n",
              "      <th>Hillshade_3pm</th>\n",
              "      <th>Horizontal_Distance_To_Fire_Points</th>\n",
              "      <th>Wilderness_Area1</th>\n",
              "      <th>Wilderness_Area2</th>\n",
              "      <th>Wilderness_Area3</th>\n",
              "      <th>Wilderness_Area4</th>\n",
              "      <th>Soil_Type1</th>\n",
              "      <th>Soil_Type2</th>\n",
              "      <th>Soil_Type3</th>\n",
              "      <th>Soil_Type4</th>\n",
              "      <th>Soil_Type5</th>\n",
              "      <th>Soil_Type6</th>\n",
              "      <th>Soil_Type7</th>\n",
              "      <th>Soil_Type8</th>\n",
              "      <th>Soil_Type9</th>\n",
              "      <th>Soil_Type10</th>\n",
              "      <th>Soil_Type11</th>\n",
              "      <th>Soil_Type12</th>\n",
              "      <th>Soil_Type13</th>\n",
              "      <th>Soil_Type14</th>\n",
              "      <th>Soil_Type15</th>\n",
              "      <th>Soil_Type16</th>\n",
              "      <th>Soil_Type17</th>\n",
              "      <th>Soil_Type18</th>\n",
              "      <th>Soil_Type19</th>\n",
              "      <th>Soil_Type20</th>\n",
              "      <th>Soil_Type21</th>\n",
              "      <th>Soil_Type22</th>\n",
              "      <th>Soil_Type23</th>\n",
              "      <th>Soil_Type24</th>\n",
              "      <th>Soil_Type25</th>\n",
              "      <th>Soil_Type26</th>\n",
              "      <th>Soil_Type27</th>\n",
              "      <th>Soil_Type28</th>\n",
              "      <th>Soil_Type29</th>\n",
              "      <th>Soil_Type30</th>\n",
              "      <th>Soil_Type31</th>\n",
              "      <th>Soil_Type32</th>\n",
              "      <th>Soil_Type33</th>\n",
              "      <th>Soil_Type34</th>\n",
              "      <th>Soil_Type35</th>\n",
              "      <th>Soil_Type36</th>\n",
              "      <th>Soil_Type37</th>\n",
              "      <th>Soil_Type38</th>\n",
              "      <th>Soil_Type39</th>\n",
              "      <th>Soil_Type40</th>\n",
              "      <th>Cover_Type</th>\n",
              "    </tr>\n",
              "  </thead>\n",
              "  <tbody>\n",
              "    <tr>\n",
              "      <th>count</th>\n",
              "      <td>15120.00000</td>\n",
              "      <td>15120.000000</td>\n",
              "      <td>15120.000000</td>\n",
              "      <td>15120.000000</td>\n",
              "      <td>15120.000000</td>\n",
              "      <td>15120.000000</td>\n",
              "      <td>15120.000000</td>\n",
              "      <td>15120.000000</td>\n",
              "      <td>15120.000000</td>\n",
              "      <td>15120.000000</td>\n",
              "      <td>15120.000000</td>\n",
              "      <td>15120.000000</td>\n",
              "      <td>15120.000000</td>\n",
              "      <td>15120.000000</td>\n",
              "      <td>15120.000000</td>\n",
              "      <td>15120.000000</td>\n",
              "      <td>15120.000000</td>\n",
              "      <td>15120.000000</td>\n",
              "      <td>15120.000000</td>\n",
              "      <td>15120.000000</td>\n",
              "      <td>15120.000000</td>\n",
              "      <td>15120.0</td>\n",
              "      <td>15120.000000</td>\n",
              "      <td>15120.000000</td>\n",
              "      <td>15120.000000</td>\n",
              "      <td>15120.000000</td>\n",
              "      <td>15120.000000</td>\n",
              "      <td>15120.000000</td>\n",
              "      <td>15120.000000</td>\n",
              "      <td>15120.0</td>\n",
              "      <td>15120.000000</td>\n",
              "      <td>15120.000000</td>\n",
              "      <td>15120.000000</td>\n",
              "      <td>15120.000000</td>\n",
              "      <td>15120.000000</td>\n",
              "      <td>15120.000000</td>\n",
              "      <td>15120.000000</td>\n",
              "      <td>15120.000000</td>\n",
              "      <td>15120.000000</td>\n",
              "      <td>15120.000000</td>\n",
              "      <td>15120.000000</td>\n",
              "      <td>15120.000000</td>\n",
              "      <td>15120.000000</td>\n",
              "      <td>15120.000000</td>\n",
              "      <td>15120.000000</td>\n",
              "      <td>15120.000000</td>\n",
              "      <td>15120.000000</td>\n",
              "      <td>15120.000000</td>\n",
              "      <td>15120.000000</td>\n",
              "      <td>15120.000000</td>\n",
              "      <td>15120.000000</td>\n",
              "      <td>15120.000000</td>\n",
              "      <td>15120.000000</td>\n",
              "      <td>15120.000000</td>\n",
              "      <td>15120.000000</td>\n",
              "      <td>15120.000000</td>\n",
              "    </tr>\n",
              "    <tr>\n",
              "      <th>mean</th>\n",
              "      <td>7560.50000</td>\n",
              "      <td>2749.322553</td>\n",
              "      <td>156.676653</td>\n",
              "      <td>16.501587</td>\n",
              "      <td>227.195701</td>\n",
              "      <td>51.076521</td>\n",
              "      <td>1714.023214</td>\n",
              "      <td>212.704299</td>\n",
              "      <td>218.965608</td>\n",
              "      <td>135.091997</td>\n",
              "      <td>1511.147288</td>\n",
              "      <td>0.237897</td>\n",
              "      <td>0.033003</td>\n",
              "      <td>0.419907</td>\n",
              "      <td>0.309193</td>\n",
              "      <td>0.023479</td>\n",
              "      <td>0.041204</td>\n",
              "      <td>0.063624</td>\n",
              "      <td>0.055754</td>\n",
              "      <td>0.010913</td>\n",
              "      <td>0.042989</td>\n",
              "      <td>0.0</td>\n",
              "      <td>0.000066</td>\n",
              "      <td>0.000661</td>\n",
              "      <td>0.141667</td>\n",
              "      <td>0.026852</td>\n",
              "      <td>0.015013</td>\n",
              "      <td>0.031481</td>\n",
              "      <td>0.011177</td>\n",
              "      <td>0.0</td>\n",
              "      <td>0.007540</td>\n",
              "      <td>0.040476</td>\n",
              "      <td>0.003968</td>\n",
              "      <td>0.003042</td>\n",
              "      <td>0.009193</td>\n",
              "      <td>0.001058</td>\n",
              "      <td>0.022817</td>\n",
              "      <td>0.050066</td>\n",
              "      <td>0.016997</td>\n",
              "      <td>0.000066</td>\n",
              "      <td>0.003571</td>\n",
              "      <td>0.000992</td>\n",
              "      <td>0.000595</td>\n",
              "      <td>0.085384</td>\n",
              "      <td>0.047950</td>\n",
              "      <td>0.021958</td>\n",
              "      <td>0.045635</td>\n",
              "      <td>0.040741</td>\n",
              "      <td>0.001455</td>\n",
              "      <td>0.006746</td>\n",
              "      <td>0.000661</td>\n",
              "      <td>0.002249</td>\n",
              "      <td>0.048148</td>\n",
              "      <td>0.043452</td>\n",
              "      <td>0.030357</td>\n",
              "      <td>4.000000</td>\n",
              "    </tr>\n",
              "    <tr>\n",
              "      <th>std</th>\n",
              "      <td>4364.91237</td>\n",
              "      <td>417.678187</td>\n",
              "      <td>110.085801</td>\n",
              "      <td>8.453927</td>\n",
              "      <td>210.075296</td>\n",
              "      <td>61.239406</td>\n",
              "      <td>1325.066358</td>\n",
              "      <td>30.561287</td>\n",
              "      <td>22.801966</td>\n",
              "      <td>45.895189</td>\n",
              "      <td>1099.936493</td>\n",
              "      <td>0.425810</td>\n",
              "      <td>0.178649</td>\n",
              "      <td>0.493560</td>\n",
              "      <td>0.462176</td>\n",
              "      <td>0.151424</td>\n",
              "      <td>0.198768</td>\n",
              "      <td>0.244091</td>\n",
              "      <td>0.229454</td>\n",
              "      <td>0.103896</td>\n",
              "      <td>0.202840</td>\n",
              "      <td>0.0</td>\n",
              "      <td>0.008133</td>\n",
              "      <td>0.025710</td>\n",
              "      <td>0.348719</td>\n",
              "      <td>0.161656</td>\n",
              "      <td>0.121609</td>\n",
              "      <td>0.174621</td>\n",
              "      <td>0.105133</td>\n",
              "      <td>0.0</td>\n",
              "      <td>0.086506</td>\n",
              "      <td>0.197080</td>\n",
              "      <td>0.062871</td>\n",
              "      <td>0.055075</td>\n",
              "      <td>0.095442</td>\n",
              "      <td>0.032514</td>\n",
              "      <td>0.149326</td>\n",
              "      <td>0.218089</td>\n",
              "      <td>0.129265</td>\n",
              "      <td>0.008133</td>\n",
              "      <td>0.059657</td>\n",
              "      <td>0.031482</td>\n",
              "      <td>0.024391</td>\n",
              "      <td>0.279461</td>\n",
              "      <td>0.213667</td>\n",
              "      <td>0.146550</td>\n",
              "      <td>0.208699</td>\n",
              "      <td>0.197696</td>\n",
              "      <td>0.038118</td>\n",
              "      <td>0.081859</td>\n",
              "      <td>0.025710</td>\n",
              "      <td>0.047368</td>\n",
              "      <td>0.214086</td>\n",
              "      <td>0.203880</td>\n",
              "      <td>0.171574</td>\n",
              "      <td>2.000066</td>\n",
              "    </tr>\n",
              "    <tr>\n",
              "      <th>min</th>\n",
              "      <td>1.00000</td>\n",
              "      <td>1863.000000</td>\n",
              "      <td>0.000000</td>\n",
              "      <td>0.000000</td>\n",
              "      <td>0.000000</td>\n",
              "      <td>-146.000000</td>\n",
              "      <td>0.000000</td>\n",
              "      <td>0.000000</td>\n",
              "      <td>99.000000</td>\n",
              "      <td>0.000000</td>\n",
              "      <td>0.000000</td>\n",
              "      <td>0.000000</td>\n",
              "      <td>0.000000</td>\n",
              "      <td>0.000000</td>\n",
              "      <td>0.000000</td>\n",
              "      <td>0.000000</td>\n",
              "      <td>0.000000</td>\n",
              "      <td>0.000000</td>\n",
              "      <td>0.000000</td>\n",
              "      <td>0.000000</td>\n",
              "      <td>0.000000</td>\n",
              "      <td>0.0</td>\n",
              "      <td>0.000000</td>\n",
              "      <td>0.000000</td>\n",
              "      <td>0.000000</td>\n",
              "      <td>0.000000</td>\n",
              "      <td>0.000000</td>\n",
              "      <td>0.000000</td>\n",
              "      <td>0.000000</td>\n",
              "      <td>0.0</td>\n",
              "      <td>0.000000</td>\n",
              "      <td>0.000000</td>\n",
              "      <td>0.000000</td>\n",
              "      <td>0.000000</td>\n",
              "      <td>0.000000</td>\n",
              "      <td>0.000000</td>\n",
              "      <td>0.000000</td>\n",
              "      <td>0.000000</td>\n",
              "      <td>0.000000</td>\n",
              "      <td>0.000000</td>\n",
              "      <td>0.000000</td>\n",
              "      <td>0.000000</td>\n",
              "      <td>0.000000</td>\n",
              "      <td>0.000000</td>\n",
              "      <td>0.000000</td>\n",
              "      <td>0.000000</td>\n",
              "      <td>0.000000</td>\n",
              "      <td>0.000000</td>\n",
              "      <td>0.000000</td>\n",
              "      <td>0.000000</td>\n",
              "      <td>0.000000</td>\n",
              "      <td>0.000000</td>\n",
              "      <td>0.000000</td>\n",
              "      <td>0.000000</td>\n",
              "      <td>0.000000</td>\n",
              "      <td>1.000000</td>\n",
              "    </tr>\n",
              "    <tr>\n",
              "      <th>25%</th>\n",
              "      <td>3780.75000</td>\n",
              "      <td>2376.000000</td>\n",
              "      <td>65.000000</td>\n",
              "      <td>10.000000</td>\n",
              "      <td>67.000000</td>\n",
              "      <td>5.000000</td>\n",
              "      <td>764.000000</td>\n",
              "      <td>196.000000</td>\n",
              "      <td>207.000000</td>\n",
              "      <td>106.000000</td>\n",
              "      <td>730.000000</td>\n",
              "      <td>0.000000</td>\n",
              "      <td>0.000000</td>\n",
              "      <td>0.000000</td>\n",
              "      <td>0.000000</td>\n",
              "      <td>0.000000</td>\n",
              "      <td>0.000000</td>\n",
              "      <td>0.000000</td>\n",
              "      <td>0.000000</td>\n",
              "      <td>0.000000</td>\n",
              "      <td>0.000000</td>\n",
              "      <td>0.0</td>\n",
              "      <td>0.000000</td>\n",
              "      <td>0.000000</td>\n",
              "      <td>0.000000</td>\n",
              "      <td>0.000000</td>\n",
              "      <td>0.000000</td>\n",
              "      <td>0.000000</td>\n",
              "      <td>0.000000</td>\n",
              "      <td>0.0</td>\n",
              "      <td>0.000000</td>\n",
              "      <td>0.000000</td>\n",
              "      <td>0.000000</td>\n",
              "      <td>0.000000</td>\n",
              "      <td>0.000000</td>\n",
              "      <td>0.000000</td>\n",
              "      <td>0.000000</td>\n",
              "      <td>0.000000</td>\n",
              "      <td>0.000000</td>\n",
              "      <td>0.000000</td>\n",
              "      <td>0.000000</td>\n",
              "      <td>0.000000</td>\n",
              "      <td>0.000000</td>\n",
              "      <td>0.000000</td>\n",
              "      <td>0.000000</td>\n",
              "      <td>0.000000</td>\n",
              "      <td>0.000000</td>\n",
              "      <td>0.000000</td>\n",
              "      <td>0.000000</td>\n",
              "      <td>0.000000</td>\n",
              "      <td>0.000000</td>\n",
              "      <td>0.000000</td>\n",
              "      <td>0.000000</td>\n",
              "      <td>0.000000</td>\n",
              "      <td>0.000000</td>\n",
              "      <td>2.000000</td>\n",
              "    </tr>\n",
              "    <tr>\n",
              "      <th>50%</th>\n",
              "      <td>7560.50000</td>\n",
              "      <td>2752.000000</td>\n",
              "      <td>126.000000</td>\n",
              "      <td>15.000000</td>\n",
              "      <td>180.000000</td>\n",
              "      <td>32.000000</td>\n",
              "      <td>1316.000000</td>\n",
              "      <td>220.000000</td>\n",
              "      <td>223.000000</td>\n",
              "      <td>138.000000</td>\n",
              "      <td>1256.000000</td>\n",
              "      <td>0.000000</td>\n",
              "      <td>0.000000</td>\n",
              "      <td>0.000000</td>\n",
              "      <td>0.000000</td>\n",
              "      <td>0.000000</td>\n",
              "      <td>0.000000</td>\n",
              "      <td>0.000000</td>\n",
              "      <td>0.000000</td>\n",
              "      <td>0.000000</td>\n",
              "      <td>0.000000</td>\n",
              "      <td>0.0</td>\n",
              "      <td>0.000000</td>\n",
              "      <td>0.000000</td>\n",
              "      <td>0.000000</td>\n",
              "      <td>0.000000</td>\n",
              "      <td>0.000000</td>\n",
              "      <td>0.000000</td>\n",
              "      <td>0.000000</td>\n",
              "      <td>0.0</td>\n",
              "      <td>0.000000</td>\n",
              "      <td>0.000000</td>\n",
              "      <td>0.000000</td>\n",
              "      <td>0.000000</td>\n",
              "      <td>0.000000</td>\n",
              "      <td>0.000000</td>\n",
              "      <td>0.000000</td>\n",
              "      <td>0.000000</td>\n",
              "      <td>0.000000</td>\n",
              "      <td>0.000000</td>\n",
              "      <td>0.000000</td>\n",
              "      <td>0.000000</td>\n",
              "      <td>0.000000</td>\n",
              "      <td>0.000000</td>\n",
              "      <td>0.000000</td>\n",
              "      <td>0.000000</td>\n",
              "      <td>0.000000</td>\n",
              "      <td>0.000000</td>\n",
              "      <td>0.000000</td>\n",
              "      <td>0.000000</td>\n",
              "      <td>0.000000</td>\n",
              "      <td>0.000000</td>\n",
              "      <td>0.000000</td>\n",
              "      <td>0.000000</td>\n",
              "      <td>0.000000</td>\n",
              "      <td>4.000000</td>\n",
              "    </tr>\n",
              "    <tr>\n",
              "      <th>75%</th>\n",
              "      <td>11340.25000</td>\n",
              "      <td>3104.000000</td>\n",
              "      <td>261.000000</td>\n",
              "      <td>22.000000</td>\n",
              "      <td>330.000000</td>\n",
              "      <td>79.000000</td>\n",
              "      <td>2270.000000</td>\n",
              "      <td>235.000000</td>\n",
              "      <td>235.000000</td>\n",
              "      <td>167.000000</td>\n",
              "      <td>1988.250000</td>\n",
              "      <td>0.000000</td>\n",
              "      <td>0.000000</td>\n",
              "      <td>1.000000</td>\n",
              "      <td>1.000000</td>\n",
              "      <td>0.000000</td>\n",
              "      <td>0.000000</td>\n",
              "      <td>0.000000</td>\n",
              "      <td>0.000000</td>\n",
              "      <td>0.000000</td>\n",
              "      <td>0.000000</td>\n",
              "      <td>0.0</td>\n",
              "      <td>0.000000</td>\n",
              "      <td>0.000000</td>\n",
              "      <td>0.000000</td>\n",
              "      <td>0.000000</td>\n",
              "      <td>0.000000</td>\n",
              "      <td>0.000000</td>\n",
              "      <td>0.000000</td>\n",
              "      <td>0.0</td>\n",
              "      <td>0.000000</td>\n",
              "      <td>0.000000</td>\n",
              "      <td>0.000000</td>\n",
              "      <td>0.000000</td>\n",
              "      <td>0.000000</td>\n",
              "      <td>0.000000</td>\n",
              "      <td>0.000000</td>\n",
              "      <td>0.000000</td>\n",
              "      <td>0.000000</td>\n",
              "      <td>0.000000</td>\n",
              "      <td>0.000000</td>\n",
              "      <td>0.000000</td>\n",
              "      <td>0.000000</td>\n",
              "      <td>0.000000</td>\n",
              "      <td>0.000000</td>\n",
              "      <td>0.000000</td>\n",
              "      <td>0.000000</td>\n",
              "      <td>0.000000</td>\n",
              "      <td>0.000000</td>\n",
              "      <td>0.000000</td>\n",
              "      <td>0.000000</td>\n",
              "      <td>0.000000</td>\n",
              "      <td>0.000000</td>\n",
              "      <td>0.000000</td>\n",
              "      <td>0.000000</td>\n",
              "      <td>6.000000</td>\n",
              "    </tr>\n",
              "    <tr>\n",
              "      <th>max</th>\n",
              "      <td>15120.00000</td>\n",
              "      <td>3849.000000</td>\n",
              "      <td>360.000000</td>\n",
              "      <td>52.000000</td>\n",
              "      <td>1343.000000</td>\n",
              "      <td>554.000000</td>\n",
              "      <td>6890.000000</td>\n",
              "      <td>254.000000</td>\n",
              "      <td>254.000000</td>\n",
              "      <td>248.000000</td>\n",
              "      <td>6993.000000</td>\n",
              "      <td>1.000000</td>\n",
              "      <td>1.000000</td>\n",
              "      <td>1.000000</td>\n",
              "      <td>1.000000</td>\n",
              "      <td>1.000000</td>\n",
              "      <td>1.000000</td>\n",
              "      <td>1.000000</td>\n",
              "      <td>1.000000</td>\n",
              "      <td>1.000000</td>\n",
              "      <td>1.000000</td>\n",
              "      <td>0.0</td>\n",
              "      <td>1.000000</td>\n",
              "      <td>1.000000</td>\n",
              "      <td>1.000000</td>\n",
              "      <td>1.000000</td>\n",
              "      <td>1.000000</td>\n",
              "      <td>1.000000</td>\n",
              "      <td>1.000000</td>\n",
              "      <td>0.0</td>\n",
              "      <td>1.000000</td>\n",
              "      <td>1.000000</td>\n",
              "      <td>1.000000</td>\n",
              "      <td>1.000000</td>\n",
              "      <td>1.000000</td>\n",
              "      <td>1.000000</td>\n",
              "      <td>1.000000</td>\n",
              "      <td>1.000000</td>\n",
              "      <td>1.000000</td>\n",
              "      <td>1.000000</td>\n",
              "      <td>1.000000</td>\n",
              "      <td>1.000000</td>\n",
              "      <td>1.000000</td>\n",
              "      <td>1.000000</td>\n",
              "      <td>1.000000</td>\n",
              "      <td>1.000000</td>\n",
              "      <td>1.000000</td>\n",
              "      <td>1.000000</td>\n",
              "      <td>1.000000</td>\n",
              "      <td>1.000000</td>\n",
              "      <td>1.000000</td>\n",
              "      <td>1.000000</td>\n",
              "      <td>1.000000</td>\n",
              "      <td>1.000000</td>\n",
              "      <td>1.000000</td>\n",
              "      <td>7.000000</td>\n",
              "    </tr>\n",
              "  </tbody>\n",
              "</table>\n",
              "</div>"
            ],
            "text/plain": [
              "                Id     Elevation  ...   Soil_Type40    Cover_Type\n",
              "count  15120.00000  15120.000000  ...  15120.000000  15120.000000\n",
              "mean    7560.50000   2749.322553  ...      0.030357      4.000000\n",
              "std     4364.91237    417.678187  ...      0.171574      2.000066\n",
              "min        1.00000   1863.000000  ...      0.000000      1.000000\n",
              "25%     3780.75000   2376.000000  ...      0.000000      2.000000\n",
              "50%     7560.50000   2752.000000  ...      0.000000      4.000000\n",
              "75%    11340.25000   3104.000000  ...      0.000000      6.000000\n",
              "max    15120.00000   3849.000000  ...      1.000000      7.000000\n",
              "\n",
              "[8 rows x 56 columns]"
            ]
          },
          "metadata": {
            "tags": []
          },
          "execution_count": 2
        }
      ]
    },
    {
      "cell_type": "code",
      "metadata": {
        "id": "jPGkkLDamTly",
        "colab_type": "code",
        "colab": {
          "base_uri": "https://localhost:8080/",
          "height": 943
        },
        "outputId": "d382ec6d-6156-44f4-e26f-e0847b90a401"
      },
      "source": [
        "data.nunique().sort_values(ascending=False)"
      ],
      "execution_count": 3,
      "outputs": [
        {
          "output_type": "execute_result",
          "data": {
            "text/plain": [
              "Id                                    15120\n",
              "Horizontal_Distance_To_Roadways        3250\n",
              "Horizontal_Distance_To_Fire_Points     2710\n",
              "Elevation                              1665\n",
              "Vertical_Distance_To_Hydrology          423\n",
              "Horizontal_Distance_To_Hydrology        400\n",
              "Aspect                                  361\n",
              "Hillshade_3pm                           247\n",
              "Hillshade_9am                           176\n",
              "Hillshade_Noon                          141\n",
              "Slope                                    52\n",
              "Cover_Type                                7\n",
              "Soil_Type29                               2\n",
              "Soil_Type28                               2\n",
              "Soil_Type5                                2\n",
              "Soil_Type4                                2\n",
              "Soil_Type3                                2\n",
              "Soil_Type2                                2\n",
              "Soil_Type1                                2\n",
              "Wilderness_Area4                          2\n",
              "Wilderness_Area3                          2\n",
              "Wilderness_Area2                          2\n",
              "Wilderness_Area1                          2\n",
              "Soil_Type30                               2\n",
              "Soil_Type31                               2\n",
              "Soil_Type32                               2\n",
              "Soil_Type33                               2\n",
              "Soil_Type34                               2\n",
              "Soil_Type35                               2\n",
              "Soil_Type36                               2\n",
              "Soil_Type37                               2\n",
              "Soil_Type38                               2\n",
              "Soil_Type39                               2\n",
              "Soil_Type6                                2\n",
              "Soil_Type13                               2\n",
              "Soil_Type8                                2\n",
              "Soil_Type19                               2\n",
              "Soil_Type27                               2\n",
              "Soil_Type26                               2\n",
              "Soil_Type25                               2\n",
              "Soil_Type24                               2\n",
              "Soil_Type23                               2\n",
              "Soil_Type22                               2\n",
              "Soil_Type21                               2\n",
              "Soil_Type20                               2\n",
              "Soil_Type18                               2\n",
              "Soil_Type9                                2\n",
              "Soil_Type17                               2\n",
              "Soil_Type16                               2\n",
              "Soil_Type14                               2\n",
              "Soil_Type40                               2\n",
              "Soil_Type12                               2\n",
              "Soil_Type11                               2\n",
              "Soil_Type10                               2\n",
              "Soil_Type15                               1\n",
              "Soil_Type7                                1\n",
              "dtype: int64"
            ]
          },
          "metadata": {
            "tags": []
          },
          "execution_count": 3
        }
      ]
    },
    {
      "cell_type": "code",
      "metadata": {
        "id": "hddJwH43E2MC",
        "colab_type": "code",
        "colab": {
          "base_uri": "https://localhost:8080/",
          "height": 147
        },
        "outputId": "06dfb556-5fe8-4696-f84b-41c0432db1ff"
      },
      "source": [
        "data[\"Cover_Type\"].value_counts(normalize=True)"
      ],
      "execution_count": 4,
      "outputs": [
        {
          "output_type": "execute_result",
          "data": {
            "text/plain": [
              "7    0.142857\n",
              "6    0.142857\n",
              "5    0.142857\n",
              "4    0.142857\n",
              "3    0.142857\n",
              "2    0.142857\n",
              "1    0.142857\n",
              "Name: Cover_Type, dtype: float64"
            ]
          },
          "metadata": {
            "tags": []
          },
          "execution_count": 4
        }
      ]
    },
    {
      "cell_type": "code",
      "metadata": {
        "id": "ivIGCS568sK3",
        "colab_type": "code",
        "colab": {}
      },
      "source": [
        "# pd.Series({c: data[c].unique() for c in data})[-40:]\n",
        "# [data[col].unique() for col in data]"
      ],
      "execution_count": 5,
      "outputs": []
    },
    {
      "cell_type": "code",
      "metadata": {
        "id": "WGb3uCdhJsbN",
        "colab_type": "code",
        "colab": {
          "base_uri": "https://localhost:8080/",
          "height": 70
        },
        "outputId": "61746aca-f3c0-49b6-8b4d-f82ab5118064"
      },
      "source": [
        "%matplotlib inline\n",
        "import category_encoders as ce\n",
        "import matplotlib.pyplot as plt\n",
        "import seaborn as sns\n",
        "\n",
        "from sklearn.preprocessing import StandardScaler\n",
        "from sklearn.preprocessing import FunctionTransformer\n",
        "\n",
        "from sklearn.impute import SimpleImputer\n",
        "\n",
        "from sklearn.linear_model import RidgeCV\n",
        "from sklearn.linear_model import RidgeClassifier\n",
        "from sklearn.pipeline import make_pipeline\n",
        "from sklearn.linear_model import LogisticRegression\n",
        "from sklearn.ensemble import GradientBoostingClassifier\n",
        "from sklearn.ensemble import RandomForestClassifier\n",
        "\n",
        "from xgboost import XGBClassifier\n",
        "\n",
        "from sklearn.model_selection import GridSearchCV, RandomizedSearchCV\n",
        "from sklearn.model_selection import cross_val_score\n",
        "from sklearn.model_selection import validation_curve\n",
        "from sklearn.model_selection import train_test_split\n",
        "\n",
        "from sklearn.metrics import accuracy_score, mean_absolute_error\n",
        "from sklearn.metrics import plot_confusion_matrix, classification_report, confusion_matrix\n",
        "\n",
        "\n",
        "import random \n",
        "%matplotlib inline\n"
      ],
      "execution_count": 6,
      "outputs": [
        {
          "output_type": "stream",
          "text": [
            "/usr/local/lib/python3.6/dist-packages/statsmodels/tools/_testing.py:19: FutureWarning: pandas.util.testing is deprecated. Use the functions in the public API at pandas.testing instead.\n",
            "  import pandas.util.testing as tm\n"
          ],
          "name": "stderr"
        }
      ]
    },
    {
      "cell_type": "markdown",
      "metadata": {
        "id": "3ue1pALV-enF",
        "colab_type": "text"
      },
      "source": [
        "Our target label is \"Cover_Type\"\n",
        "We will drop imb% imbalance low cardinal features. We also drop \"id\" column."
      ]
    },
    {
      "cell_type": "code",
      "metadata": {
        "id": "CfN8GfkU7wuw",
        "colab_type": "code",
        "colab": {}
      },
      "source": [
        "def skew_col(X, imb=0.99):\n",
        "  '''\n",
        "  Returns the sorted list of feature names \n",
        "  with imbalance exceeding imb value\n",
        "  '''\n",
        "  X=X.copy()\n",
        "  # drop the binary features with imb% imbalance\n",
        "  # mask = X.nunique().sort_values(ascending=False) < 5\n",
        "  # lowcard_col = X.nunique().sort_values(ascending=False)[mask].index\n",
        "\n",
        "  mask2 = pd.Series({col: X[col].value_counts().\n",
        "                     max()/X[col].value_counts().\n",
        "                     sum() for col in X.nunique().index}).sort_values(ascending=False)\n",
        "  \n",
        "  mask2 = mask2[mask2 >= imb]\n",
        "\n",
        "  Id_skew_cols = [\"Id\"] + list(mask2.index) \n",
        "  return Id_skew_cols"
      ],
      "execution_count": 7,
      "outputs": []
    },
    {
      "cell_type": "markdown",
      "metadata": {
        "id": "WNm6naxS6UV5",
        "colab_type": "text"
      },
      "source": [
        "### Train Test split:\n",
        "Target = \"Cover_Type\""
      ]
    },
    {
      "cell_type": "code",
      "metadata": {
        "id": "4fkwRU0eSrPt",
        "colab_type": "code",
        "colab": {
          "base_uri": "https://localhost:8080/",
          "height": 33
        },
        "outputId": "bc1aa54a-63f3-40f4-8e47-75c5d1001e4c"
      },
      "source": [
        "from sklearn.model_selection import train_test_split\n",
        "\n",
        "# Split train into train & val\n",
        "train, val = train_test_split(data, train_size=0.80, test_size=0.20, stratify=data[\"Cover_Type\"], \n",
        "                                random_state=42)\n",
        "print(f'train: {train.shape}, val: {val.shape}')\n",
        "\n",
        "\n",
        "# Separate class label and data \n",
        "y_train = train[\"Cover_Type\"]\n",
        "X_train = train.drop(\"Cover_Type\", axis=1)\n",
        "y_val = val[\"Cover_Type\"]\n",
        "X_val = val.drop(\"Cover_Type\", axis=1)"
      ],
      "execution_count": 8,
      "outputs": [
        {
          "output_type": "stream",
          "text": [
            "train: (12096, 56), val: (3024, 56)\n"
          ],
          "name": "stdout"
        }
      ]
    },
    {
      "cell_type": "code",
      "metadata": {
        "id": "TlVcSH9h9sZm",
        "colab_type": "code",
        "colab": {
          "base_uri": "https://localhost:8080/",
          "height": 163
        },
        "outputId": "cff31348-367d-4b0e-94cd-50fb3e6ef096"
      },
      "source": [
        "Id_skew_cols = skew_col(X_train, imb=0.999)\n",
        "Id_skew_cols"
      ],
      "execution_count": 9,
      "outputs": [
        {
          "output_type": "execute_result",
          "data": {
            "text/plain": [
              "['Id',\n",
              " 'Soil_Type15',\n",
              " 'Soil_Type7',\n",
              " 'Soil_Type25',\n",
              " 'Soil_Type8',\n",
              " 'Soil_Type28',\n",
              " 'Soil_Type9',\n",
              " 'Soil_Type36',\n",
              " 'Soil_Type27']"
            ]
          },
          "metadata": {
            "tags": []
          },
          "execution_count": 9
        }
      ]
    },
    {
      "cell_type": "code",
      "metadata": {
        "id": "g64XluQ6AAPw",
        "colab_type": "code",
        "colab": {}
      },
      "source": [
        "def wrangle(X, cols, drop_count=1):\n",
        "  '''\n",
        "  drops drop_count number of features from cols starting from index=0 (Id)\n",
        "  '''  \n",
        "  # print(\"running transformer ....\")\n",
        "  X = X.copy()\n",
        "  X = X.drop(labels=cols[:drop_count], axis=1)\n",
        "  return X\n"
      ],
      "execution_count": 10,
      "outputs": []
    },
    {
      "cell_type": "markdown",
      "metadata": {
        "id": "pmI8MbchXXjg",
        "colab_type": "text"
      },
      "source": [
        "### Baseline model"
      ]
    },
    {
      "cell_type": "code",
      "metadata": {
        "id": "R3IPHQJwQiY1",
        "colab_type": "code",
        "colab": {
          "base_uri": "https://localhost:8080/",
          "height": 147
        },
        "outputId": "316622a8-f7c5-4fbc-f784-3691af7e7a45"
      },
      "source": [
        "y_train.value_counts(normalize=True)"
      ],
      "execution_count": 11,
      "outputs": [
        {
          "output_type": "execute_result",
          "data": {
            "text/plain": [
              "7    0.142857\n",
              "6    0.142857\n",
              "5    0.142857\n",
              "4    0.142857\n",
              "3    0.142857\n",
              "2    0.142857\n",
              "1    0.142857\n",
              "Name: Cover_Type, dtype: float64"
            ]
          },
          "metadata": {
            "tags": []
          },
          "execution_count": 11
        }
      ]
    },
    {
      "cell_type": "markdown",
      "metadata": {
        "id": "1qVjjASQ_2ai",
        "colab_type": "text"
      },
      "source": [
        "* Check for Nan value"
      ]
    },
    {
      "cell_type": "code",
      "metadata": {
        "id": "6-SfTqQ-_Zxj",
        "colab_type": "code",
        "colab": {
          "base_uri": "https://localhost:8080/",
          "height": 33
        },
        "outputId": "79f3944a-2d60-488f-8913-ff0db874b085"
      },
      "source": [
        "X_train.isna().sum(axis=0).sum()"
      ],
      "execution_count": 12,
      "outputs": [
        {
          "output_type": "execute_result",
          "data": {
            "text/plain": [
              "0"
            ]
          },
          "metadata": {
            "tags": []
          },
          "execution_count": 12
        }
      ]
    },
    {
      "cell_type": "code",
      "metadata": {
        "id": "X2zfXdvNtkb1",
        "colab_type": "code",
        "colab": {}
      },
      "source": [
        "def clf_name(estimator, est_dict):\n",
        "  return est_dict[estimator].__class__.__name__"
      ],
      "execution_count": 13,
      "outputs": []
    },
    {
      "cell_type": "markdown",
      "metadata": {
        "id": "Yk1EMwEA_Pn3",
        "colab_type": "text"
      },
      "source": [
        "### functions for pipeline fit, and metrics"
      ]
    },
    {
      "cell_type": "code",
      "metadata": {
        "id": "ONZzZbMIQB8O",
        "colab_type": "code",
        "colab": {}
      },
      "source": [
        "def fit_rep(estimator, X_train, y_train, X_val, y_val, kwargs_dict):\n",
        "  estimator.set_params(functiontransformer__kw_args = kwargs_dict)\n",
        "\n",
        "  print(\"\\n fitting ...\")\n",
        "  estimator.fit(X_train, y_train)\n",
        "\n",
        "  print(\"\\n getting X_train transformed column labels\")\n",
        "  feat_name = estimator.named_steps['functiontransformer'].transform(X_train).columns\n",
        "  print(\"X_train cols:\", len(X_train.columns), \"X_fit cols:\", len(feat_name))\n",
        "  assert len(X_train.columns) == len(feat_name) + drop_count\n",
        "\n",
        "  print(\"\\n predicting ...\")\n",
        "  y_pred = estimator.predict(X_val)\n",
        "  \n",
        "  score_train = estimator.score(X_train, y_train)\n",
        "  score_val = estimator.score(X_val, y_val)\n",
        "\n",
        "  print(\"\\n score ...\")\n",
        "  print('Training score', score_train)\n",
        "  print('Validation score', score_val)\n",
        "\n",
        "  accuracy_score_train = accuracy_score(y_train, estimator.predict(X_train))\n",
        "  accuracy_score_val = accuracy_score(y_val, y_pred)\n",
        "\n",
        "  print(\"\\n Accuracy ...\")\n",
        "  print('Training Accuracy', accuracy_score_train)\n",
        "  print('Validation Accuracy', accuracy_score_val)\n",
        "\n",
        "  return estimator, y_pred, feat_name\n"
      ],
      "execution_count": 14,
      "outputs": []
    },
    {
      "cell_type": "code",
      "metadata": {
        "id": "ZfOBi-ANaWER",
        "colab_type": "code",
        "colab": {}
      },
      "source": [
        "def metric_rep(estimator, X_val, y_val):\n",
        "  \n",
        "  print(\"\\n predicting y ...\")\n",
        "  y_pred = estimator.predict(X_val)\n",
        "  \n",
        "  print(\"\\n plotting confusion matrix ...\")\n",
        "  plt.rcParams['figure.dpi'] = 100\n",
        "  plot_confusion_matrix(estimator, X_val, y_val, values_format='.0f', xticks_rotation='vertical')\n",
        "  \n",
        "  print(\"\\n calculating confusion matrix ...\")\n",
        "  C = pd.DataFrame(confusion_matrix(y_val, y_pred))\n",
        "  print(C)\n",
        "  truth_sum = C.sum(axis=1)\n",
        "  predict_sum = C.sum(axis=0)\n",
        "  pred_t = pd.Series([C.iloc[i,i] for i in range(len(C))])\n",
        "\n",
        "  recall = pred_t / truth_sum\n",
        "  precision = pred_t / predict_sum\n",
        "  accuracy = pred_t.sum() / truth_sum.sum()\n",
        "\n",
        "  print(\"\\n classification report ...\")\n",
        "  print(classification_report(y_val, y_pred, target_names=estimator.classes_.astype(str)))\n",
        "\n",
        "  print(f\"******\\n accuracy is {accuracy:.2f}\\n******\")\n",
        "\n",
        "  return accuracy, precision, recall"
      ],
      "execution_count": 15,
      "outputs": []
    },
    {
      "cell_type": "code",
      "metadata": {
        "id": "vO1Hiym1qTmb",
        "colab_type": "code",
        "colab": {}
      },
      "source": [
        "drop_count = len(Id_skew_cols)\n",
        "drop_cols = Id_skew_cols\n",
        "kwargs_dict ={'drop_count': drop_count,\n",
        "              'cols': drop_cols\n",
        "              }"
      ],
      "execution_count": 16,
      "outputs": []
    },
    {
      "cell_type": "code",
      "metadata": {
        "id": "v5ByEzXNAEkC",
        "colab_type": "code",
        "colab": {}
      },
      "source": [
        "# LogisticRegression\n",
        "lr = make_pipeline(\n",
        "    FunctionTransformer(wrangle, validate=False), \n",
        "    StandardScaler(),\n",
        "    LogisticRegression(random_state=42)\n",
        "    )"
      ],
      "execution_count": 17,
      "outputs": []
    },
    {
      "cell_type": "code",
      "metadata": {
        "id": "HZovmRwxHhhh",
        "colab_type": "code",
        "colab": {}
      },
      "source": [
        "# LR.named_steps['functiontransformer']"
      ],
      "execution_count": 18,
      "outputs": []
    },
    {
      "cell_type": "code",
      "metadata": {
        "colab_type": "code",
        "id": "o249J9AlqoH8",
        "colab": {}
      },
      "source": [
        "# RidgeClassifier\n",
        "rc = make_pipeline(\n",
        "    FunctionTransformer(wrangle, validate=False), \n",
        "    StandardScaler(),\n",
        "    RidgeClassifier(alpha=1.0, fit_intercept=True, normalize=False, copy_X=True, \n",
        "                    max_iter=None, tol=0.001, class_weight=None, solver='auto', \n",
        "                    random_state=42)\n",
        "    )"
      ],
      "execution_count": 19,
      "outputs": []
    },
    {
      "cell_type": "code",
      "metadata": {
        "id": "0coBCj_18wVX",
        "colab_type": "code",
        "colab": {}
      },
      "source": [
        "# RandomForestClassifier\n",
        "rfc = make_pipeline(\n",
        "        FunctionTransformer(wrangle, validate=False), \n",
        "        # ce.OneHotEncoder(use_cat_names=True), \n",
        "        # SimpleImputer(strategy='median'), \n",
        "        RandomForestClassifier(bootstrap=True, ccp_alpha=0.0, class_weight=None,\n",
        "                       criterion='entropy', max_depth=20, max_features=0.5,\n",
        "                       max_leaf_nodes=None, max_samples=None,\n",
        "                       min_impurity_decrease=0.0, min_impurity_split=None,\n",
        "                       min_samples_leaf=6, min_samples_split=20,\n",
        "                       min_weight_fraction_leaf=0.0, n_estimators=10, n_jobs=-1,\n",
        "                       oob_score=False, random_state=42, verbose=0,\n",
        "                       warm_start=False)\n",
        "  ) "
      ],
      "execution_count": 20,
      "outputs": []
    },
    {
      "cell_type": "code",
      "metadata": {
        "id": "eJ2k4C_bC4QS",
        "colab_type": "code",
        "colab": {}
      },
      "source": [
        "# GradientBoostingClassifier\n",
        "# It needs NaN to be dealth with\n",
        "gbc = make_pipeline(\n",
        "    FunctionTransformer(wrangle, validate=False), \n",
        "    # ce.OrdinalEncoder(), \n",
        "    # SimpleImputer(strategy='median'), \n",
        "    GradientBoostingClassifier()\n",
        ")"
      ],
      "execution_count": 21,
      "outputs": []
    },
    {
      "cell_type": "code",
      "metadata": {
        "id": "Gu-MvtJEOzBN",
        "colab_type": "code",
        "colab": {}
      },
      "source": [
        "# XGBoost\n",
        "# It can handle NaNs\n",
        "xgbc = make_pipeline(\n",
        "    FunctionTransformer(wrangle, validate=False), \n",
        "    # ce.OrdinalEncoder(),\n",
        "    XGBClassifier(n_estimators=100, random_state=42, n_jobs=6)\n",
        ")"
      ],
      "execution_count": 22,
      "outputs": []
    },
    {
      "cell_type": "code",
      "metadata": {
        "id": "iusV4tvZW365",
        "colab_type": "code",
        "colab": {}
      },
      "source": [
        ""
      ],
      "execution_count": 22,
      "outputs": []
    },
    {
      "cell_type": "code",
      "metadata": {
        "id": "bcclduz1PbV0",
        "colab_type": "code",
        "colab": {}
      },
      "source": [
        "est_dict = {\n",
        "    lr: LogisticRegression(),\n",
        "    rc: RidgeClassifier(),\n",
        "    rfc: RandomForestClassifier(),\n",
        "    gbc: GradientBoostingClassifier(),\n",
        "    xgbc: XGBClassifier()\n",
        "            }"
      ],
      "execution_count": 23,
      "outputs": []
    },
    {
      "cell_type": "code",
      "metadata": {
        "id": "UQgybXG7to7z",
        "colab_type": "code",
        "colab": {
          "base_uri": "https://localhost:8080/",
          "height": 277
        },
        "outputId": "32df59f1-ccad-4afa-e96c-f7c2a57fccb9"
      },
      "source": [
        "# est = [lr, rc, rfc, gbc, xgbc]\n",
        "est = [xgbc]\n",
        "\n",
        "empt_list = [np.NaN]*len(est)\n",
        "feat_name = empt_list.copy()\n",
        "y_pred = empt_list.copy()\n",
        "\n",
        "for i, estimator in enumerate(est):\n",
        "  print(f\"********** {est_dict[estimator].__class__.__name__} **********\")\n",
        "  (est[i], y_pred[i], feat_name[i]) = fit_rep(estimator, X_train, y_train, X_val, y_val, kwargs_dict)\n"
      ],
      "execution_count": 24,
      "outputs": [
        {
          "output_type": "stream",
          "text": [
            "********** XGBClassifier **********\n",
            "\n",
            " fitting ...\n",
            "\n",
            " getting X_train transformed column labels\n",
            "X_train cols: 55 X_fit cols: 46\n",
            "\n",
            " predicting ...\n",
            "\n",
            " score ...\n",
            "Training score 0.7746362433862434\n",
            "Validation score 0.7463624338624338\n",
            "\n",
            " Accuracy ...\n",
            "Training Accuracy 0.7746362433862434\n",
            "Validation Accuracy 0.7463624338624338\n"
          ],
          "name": "stdout"
        }
      ]
    },
    {
      "cell_type": "code",
      "metadata": {
        "id": "Gr-cC7VrFBqp",
        "colab_type": "code",
        "colab": {}
      },
      "source": [
        "# gbc.named_steps['gradientboostingclassifier'].classes_"
      ],
      "execution_count": 25,
      "outputs": []
    },
    {
      "cell_type": "code",
      "metadata": {
        "id": "KjUVp5GmibJK",
        "colab_type": "code",
        "colab": {
          "base_uri": "https://localhost:8080/",
          "height": 930
        },
        "outputId": "936f52ca-b788-40f7-abcb-ad2a2a7d0874"
      },
      "source": [
        "est2 = est.copy()\n",
        "# est2 = [rfc]\n",
        "empt_list = [np.NaN]*len(est2)\n",
        "accuracy = empt_list[:]\n",
        "precision = empt_list.copy()\n",
        "recall = empt_list.copy()\n",
        "\n",
        "for i, estimator in enumerate(est2):\n",
        "  print(f\"********** {est_dict[estimator].__class__.__name__} **********\")\n",
        "  (accuracy[i], precision[i], recall[i]) = metric_rep(estimator, X_val, y_val);"
      ],
      "execution_count": 26,
      "outputs": [
        {
          "output_type": "stream",
          "text": [
            "********** XGBClassifier **********\n",
            "\n",
            " predicting y ...\n",
            "\n",
            " plotting confusion matrix ...\n",
            "\n",
            " calculating confusion matrix ...\n",
            "     0    1    2    3    4    5    6\n",
            "0  294   55    1    0   20    2   60\n",
            "1  105  201   10    0   89   23    4\n",
            "2    0    0  254   40   21  117    0\n",
            "3    0    0   19  406    0    7    0\n",
            "4    0   15   15    0  389   13    0\n",
            "5    0    0   96   15   15  306    0\n",
            "6   25    0    0    0    0    0  407\n",
            "\n",
            " classification report ...\n",
            "              precision    recall  f1-score   support\n",
            "\n",
            "           1       0.69      0.68      0.69       432\n",
            "           2       0.74      0.47      0.57       432\n",
            "           3       0.64      0.59      0.61       432\n",
            "           4       0.88      0.94      0.91       432\n",
            "           5       0.73      0.90      0.81       432\n",
            "           6       0.65      0.71      0.68       432\n",
            "           7       0.86      0.94      0.90       432\n",
            "\n",
            "    accuracy                           0.75      3024\n",
            "   macro avg       0.74      0.75      0.74      3024\n",
            "weighted avg       0.74      0.75      0.74      3024\n",
            "\n",
            "******\n",
            " accuracy is 0.75\n",
            "******\n"
          ],
          "name": "stdout"
        },
        {
          "output_type": "display_data",
          "data": {
            "image/png": "[encoded data removed]",
            "text/plain": [
              "<Figure size 600x400 with 2 Axes>"
            ]
          },
          "metadata": {
            "tags": [],
            "needs_background": "light"
          }
        }
      ]
    },
    {
      "cell_type": "code",
      "metadata": {
        "id": "bJcNt_Z0eiVA",
        "colab_type": "code",
        "colab": {}
      },
      "source": [
        "## tree depth analysis\n",
        "# max_depth = list()\n",
        "# for tree in clf.estimators_:\n",
        "#     max_depth.append(tree.tree_.max_depth)\n",
        "\n",
        "# print(\"avg max depth %0.1f\" % (sum(max_depth) / len(max_depth)))\n",
        "\n"
      ],
      "execution_count": 27,
      "outputs": []
    },
    {
      "cell_type": "markdown",
      "metadata": {
        "id": "qgk70t9yQJtU",
        "colab_type": "text"
      },
      "source": [
        "### feature_importances and permutation_importance"
      ]
    },
    {
      "cell_type": "code",
      "metadata": {
        "id": "0zxVMWmjKen_",
        "colab_type": "code",
        "colab": {}
      },
      "source": [
        "selected_feat = feat_name[0]"
      ],
      "execution_count": 28,
      "outputs": []
    },
    {
      "cell_type": "code",
      "metadata": {
        "colab_type": "code",
        "id": "urZ3wevRQeYH",
        "colab": {}
      },
      "source": [
        "# sklearn permutation_importances\n",
        "from sklearn.inspection import permutation_importance\n",
        "def important_features(estimator, est_dict, X_val, y_val, selected_feat, n_feat=25, n_repeats=5):\n",
        "  '''\n",
        "  n_feat: number of top features\n",
        "  n_repeats: number of prmutations per column\n",
        "  '''\n",
        "  #permutation importance does not see function transformer and column reduction. Hence permutates over all X_val columns\n",
        "  # permutation shuffles each column of X_val n_repeats time and take a mean\n",
        "  result = permutation_importance(estimator, X_val, y_val, \n",
        "                                n_repeats=n_repeats, random_state=42)\n",
        "  print(result.keys())\n",
        "  df = pd.DataFrame({'feature': X_val.columns,\n",
        "                   'importances_mean': np.round(result['importances_mean'], 4),\n",
        "                   'importances_std': result['importances_std']\n",
        "                   })\n",
        "\n",
        "  # Selecting selected columns by estimator\n",
        "  df = df[df.loc[:,\"feature\"].isin(selected_feat)]\n",
        "\n",
        "  # feature_importance metric directly from the estimator\n",
        "  df[\"feature_importance\"] = estimator.named_steps[est_dict[estimator].__class__.__name__.lower()].feature_importances_\n",
        "\n",
        "  # Sorting based on permutation importance values\n",
        "  df = df.sort_values(by='importances_mean', ascending=False)\n",
        "  df = df.rename(columns={'importances_mean': 'permutation_importance'})\n",
        "  \n",
        "  # Plotting top n features and comparing permutation vs. estimator feature important values.\n",
        "  ax = df.iloc[:n_feat,:].plot(x=\"feature\", y=[\"permutation_importance\", \"feature_importance\"], \n",
        "                               kind='barh', figsize=(8,n_feat/2), \n",
        "                               title = f\"top {n_feat} important features in {est_dict[estimator].__class__.__name__}\")\n",
        "  ax.invert_yaxis()\n",
        "  ax.set_xlabel(\"importance value\")\n",
        "  plt.show()\n",
        "  \n",
        "  return df"
      ],
      "execution_count": 29,
      "outputs": []
    },
    {
      "cell_type": "code",
      "metadata": {
        "id": "PLkw4KS7TNw2",
        "colab_type": "code",
        "colab": {
          "base_uri": "https://localhost:8080/",
          "height": 1000
        },
        "outputId": "62369f6f-e130-430b-d530-cefc169a639a"
      },
      "source": [
        "for i, estimator in enumerate(est2):\n",
        "  print(f\"********** {est_dict[estimator].__class__.__name__} **********\")\n",
        "  df_importance = important_features(estimator=estimator, est_dict=est_dict, X_val=X_val, y_val=y_val, selected_feat=selected_feat, n_feat=len(feat_name[0]), n_repeats=5)"
      ],
      "execution_count": 30,
      "outputs": [
        {
          "output_type": "stream",
          "text": [
            "********** XGBClassifier **********\n",
            "dict_keys(['importances_mean', 'importances_std', 'importances'])\n"
          ],
          "name": "stdout"
        },
        {
          "output_type": "display_data",
          "data": {
            "image/png": "[encoded data removed]",
            "text/plain": [
              "<Figure size 800x2300 with 1 Axes>"
            ]
          },
          "metadata": {
            "tags": [],
            "needs_background": "light"
          }
        }
      ]
    },
    {
      "cell_type": "code",
      "metadata": {
        "id": "aR3jJnLdlWwM",
        "colab_type": "code",
        "colab": {
          "base_uri": "https://localhost:8080/",
          "height": 33
        },
        "outputId": "d46011bc-b489-4cee-e5d8-144c1077d602"
      },
      "source": [
        "len(feat_name[0])"
      ],
      "execution_count": 31,
      "outputs": [
        {
          "output_type": "execute_result",
          "data": {
            "text/plain": [
              "46"
            ]
          },
          "metadata": {
            "tags": []
          },
          "execution_count": 31
        }
      ]
    },
    {
      "cell_type": "markdown",
      "metadata": {
        "id": "ugIdHEAvM9ET",
        "colab_type": "text"
      },
      "source": [
        "In the presence of all the features, feature_importance_ of Id column ranks relatively high. Hence, feature_importance_ by itself cannot be a deciding factor. We drop 10% of skewed columns to get 82% accuracy"
      ]
    },
    {
      "cell_type": "code",
      "metadata": {
        "id": "pIyIAJwziOXi",
        "colab_type": "code",
        "colab": {
          "base_uri": "https://localhost:8080/",
          "height": 817
        },
        "outputId": "97437e5f-57d3-4741-c0df-e3fc8a0cc4b8"
      },
      "source": [
        "classsifier_name = clf_name(estimator=estimator, est_dict=est_dict)\n",
        "importances = pd.Series(estimator.named_steps[classsifier_name.lower()].feature_importances_, feat_name).sort_values(ascending=True)\n",
        "plt.figure(figsize=(15,10))\n",
        "ax = importances.plot.barh()\n",
        "ax.set_title(f\"{classsifier_name} Feature Importance\")\n",
        "ax.set_ylabel(\"Features\")\n",
        "ax.set_xlabel(\"Importance value\")"
      ],
      "execution_count": 32,
      "outputs": [
        {
          "output_type": "execute_result",
          "data": {
            "text/plain": [
              "Text(0.5, 0, 'Importance value')"
            ]
          },
          "metadata": {
            "tags": []
          },
          "execution_count": 32
        },
        {
          "output_type": "display_data",
          "data": {
            "image/png": "[encoded data removed]",
            "text/plain": [
              "<Figure size 1500x1000 with 1 Axes>"
            ]
          },
          "metadata": {
            "tags": [],
            "needs_background": "light"
          }
        }
      ]
    },
    {
      "cell_type": "markdown",
      "metadata": {
        "id": "1VliTr5dXXGf",
        "colab_type": "text"
      },
      "source": [
        "### Early stop over fitting"
      ]
    },
    {
      "cell_type": "code",
      "metadata": {
        "id": "osWzc0J-XjY-",
        "colab_type": "code",
        "colab": {
          "base_uri": "https://localhost:8080/",
          "height": 50
        },
        "outputId": "41d9cd7e-92ff-4081-9898-249b5c889868"
      },
      "source": [
        "# XGBoost early stop fit\n",
        "xform = make_pipeline(\n",
        "    FunctionTransformer(wrangle, validate=False), \n",
        "    # ce.OrdinalEncoder(),\n",
        ")\n",
        "\n",
        "\n",
        "xform.set_params(functiontransformer__kw_args = kwargs_dict)\n",
        "\n",
        "X_train_xform = xform.fit_transform(X_train)\n",
        "X_val_xform = xform.transform(X_val)\n",
        "# X_test_xform = xform.transform(X_test)\n",
        "\n",
        "model = XGBClassifier(\n",
        "    n_estimators = 1000,\n",
        "    max_depth=8,\n",
        "    learning_rate=0.5,\n",
        "    num_parallel_tree = 10,\n",
        "    n_jobs=-1\n",
        ")\n",
        "\n",
        "#eval_set\n",
        "eval_set = [(X_train_xform, y_train), (X_val_xform, y_val)]\n",
        "\n",
        "model.fit(X_train_xform, y_train, \n",
        "          eval_set=eval_set, \n",
        "          eval_metric=['merror', 'mlogloss'], \n",
        "          early_stopping_rounds=50,\n",
        "          verbose=False) # Stop if the score hasn't improved in 50 rounds\n",
        "\n",
        "print('Training Accuracy:', model.score(X_train_xform, y_train))\n",
        "print('Validation Accuracy:', model.score(X_val_xform, y_val))\n",
        "\n",
        "y_pred = model.predict(X_val_xform)\n"
      ],
      "execution_count": 33,
      "outputs": [
        {
          "output_type": "stream",
          "text": [
            "Training Accuracy: 0.9988425925925926\n",
            "Validation Accuracy: 0.8558201058201058\n"
          ],
          "name": "stdout"
        }
      ]
    },
    {
      "cell_type": "code",
      "metadata": {
        "id": "vzkeBcDxa2ZP",
        "colab_type": "code",
        "colab": {
          "base_uri": "https://localhost:8080/",
          "height": 703
        },
        "outputId": "432e1c6c-f957-426e-f8b7-15977dd7ef1d"
      },
      "source": [
        "import matplotlib.pyplot as plt\n",
        "# retrieve performance metrics\n",
        "results = model.evals_result()\n",
        "print(results.keys())\n",
        "\n",
        "# number of successful rounds before early stop fitting\n",
        "# 'validation_0' : training data, 'validation_1': val data\n",
        "n_rounds = len(results['validation_1'][\"merror\"])\n",
        "x_axis = range(0, n_rounds)\n",
        "\n",
        "# plot classification error\n",
        "fig, (ax1, ax2) = plt.subplots(1,2, figsize=(16,8))\n",
        "\n",
        "ax1.plot(x_axis, results['validation_0']['merror'], label='Train')\n",
        "ax1.plot(x_axis, results['validation_1']['merror'], label='Validation')\n",
        "ax1.legend()\n",
        "plt.ylabel('Classification MError')\n",
        "plt.title('XGBoost Classification MError')\n",
        "\n",
        "ax2.plot(x_axis, results['validation_0']['mlogloss'], label='Train')\n",
        "ax2.plot(x_axis, results['validation_1']['mlogloss'], label='Validation')\n",
        "ax2.legend()\n",
        "plt.ylabel('Log Loss')\n",
        "plt.title('XGBoost Log Loss')\n",
        "\n",
        "plt.show()"
      ],
      "execution_count": 34,
      "outputs": [
        {
          "output_type": "stream",
          "text": [
            "dict_keys(['validation_0', 'validation_1'])\n"
          ],
          "name": "stdout"
        },
        {
          "output_type": "display_data",
          "data": {
            "image/png": "[encoded data removed]",
            "text/plain": [
              "<Figure size 1600x800 with 2 Axes>"
            ]
          },
          "metadata": {
            "tags": [],
            "needs_background": "light"
          }
        }
      ]
    },
    {
      "cell_type": "markdown",
      "metadata": {
        "id": "6do_jQRt64wH",
        "colab_type": "text"
      },
      "source": [
        "### Cross Validation Curve: split the train set into train and validation for multiple folds"
      ]
    },
    {
      "cell_type": "code",
      "metadata": {
        "id": "6q5ZljwKZjUt",
        "colab_type": "code",
        "colab": {
          "base_uri": "https://localhost:8080/",
          "height": 773
        },
        "outputId": "9eaf0ab5-7ee3-4dbe-f2f8-eeab9874ca07"
      },
      "source": [
        "estimator=rfc\n",
        "classifier_name = clf_name(estimator=estimator, est_dict=est_dict)\n",
        "\n",
        "# # For FunctionTransformer\n",
        "# par_name = \"drop_count\"\n",
        "# param_range = [{par_name: i} for i in range(len(Id_skew_cols))]\n",
        "# param_rangex = [i for i in range(len(Id_skew_cols))]\n",
        "\n",
        "par_name = \"max_features\"\n",
        "param_range = np.arange(1,len(feat_name[0]),5)\n",
        "param_rangex = param_range\n",
        "               \n",
        "# par_name = \"max_depth\"\n",
        "# param_range = range(1,25,1)\n",
        "# param_rangex = param_range\n",
        "\n",
        "# par_name = \"min_samples_split\"\n",
        "# param_range = np.linspace(10, 0.01*len(X_train), 10, endpoint=True).astype(int)\n",
        "# param_rangex = param_range\n",
        "\n",
        "# par_name = \"min_samples_leaf\"\n",
        "# param_range = np.linspace(2, 0.001*len(X_train), 10, endpoint=True).astype(int)\n",
        "# param_rangex = param_range\n",
        "\n",
        "# par_name = \"criterion\"\n",
        "# param_range = [\"gini\", \"entropy\"]\n",
        "# param_rangex = param_range\n",
        "\n",
        "param_name=classifier_name.lower()+'__'+ par_name\n",
        "\n",
        "estimator.set_params(functiontransformer__kw_args = kwargs_dict)\n",
        "\n",
        "train_scores, val_scores = validation_curve(\n",
        "    estimator, X_train, y_train,\n",
        "    # param_name='functiontransformer__kw_args',\n",
        "    param_name=param_name, \n",
        "    \n",
        "    param_range=param_range, \n",
        "    scoring='accuracy', \n",
        "    cv=3,\n",
        "    n_jobs=-1\n",
        ")\n",
        "print(\"val scores\", val_scores)\n",
        "print(\"val scores mean\", np.mean(val_scores, axis=1))\n",
        "\n",
        "# Averaging CV scores\n",
        "plt.figure(dpi=150)\n",
        "plt.plot(param_rangex, np.mean(train_scores, axis=1), color='blue', label='training accuracy')\n",
        "plt.plot(param_rangex, np.mean(val_scores, axis=1), color='red', label='validation accuracy')\n",
        "plt.title('Validation Curve')\n",
        "plt.xlabel(f'model complexity: Pipeline {par_name}')\n",
        "plt.ylabel('model score: Accuracy')\n",
        "plt.legend();"
      ],
      "execution_count": 35,
      "outputs": [
        {
          "output_type": "stream",
          "text": [
            "val scores [[0.71949405 0.72594246 0.72321429]\n",
            " [0.78819444 0.79042659 0.77876984]\n",
            " [0.79315476 0.80357143 0.79464286]\n",
            " [0.80233135 0.80679563 0.79365079]\n",
            " [0.80406746 0.80679563 0.80828373]\n",
            " [0.80753968 0.80753968 0.80332341]\n",
            " [0.79761905 0.80555556 0.79513889]\n",
            " [0.796875   0.80282738 0.79861111]\n",
            " [0.79662698 0.79563492 0.79365079]]\n",
            "val scores mean [0.7228836  0.78579696 0.79712302 0.80092593 0.80638228 0.80613426\n",
            " 0.79943783 0.79943783 0.79530423]\n"
          ],
          "name": "stdout"
        },
        {
          "output_type": "display_data",
          "data": {
            "image/png": "[encoded data removed]",
            "text/plain": [
              "<Figure size 900x600 with 1 Axes>"
            ]
          },
          "metadata": {
            "tags": [],
            "needs_background": "light"
          }
        }
      ]
    },
    {
      "cell_type": "markdown",
      "metadata": {
        "id": "bUGB0cgVRs99",
        "colab_type": "text"
      },
      "source": [
        "beyoun 30 features drop, validation accuracy starts going down."
      ]
    },
    {
      "cell_type": "markdown",
      "metadata": {
        "id": "GxopC1JKTUsY",
        "colab_type": "text"
      },
      "source": [
        "### RandomizedSearchCV"
      ]
    },
    {
      "cell_type": "code",
      "metadata": {
        "id": "5cEzxfNTpmIB",
        "colab_type": "code",
        "colab": {}
      },
      "source": [
        "# pipe = make_pipeline(FunctionTransformer(log_columns, ), PCA(), SVC())\n",
        "\n",
        "# param_grid = dict(\n",
        "#     functiontransformer__kw_args=[\n",
        "#         {'col_idx': None},\n",
        "#         {'col_idx': [1]}\n",
        "#     ],\n",
        "#     pca__n_components=[2, 5, 10],\n",
        "#     svc__C=[0.1, 10, 100],\n",
        "# )\n",
        "# grid_search = GridSearchCV(pipe, param_grid=param_grid)\n",
        "\n",
        "# digits = load_digits()\n",
        "# res = grid_search.fit(digits.data, digits.target)      "
      ],
      "execution_count": 36,
      "outputs": []
    },
    {
      "cell_type": "markdown",
      "metadata": {
        "id": "pLXoriOtCJPV",
        "colab_type": "text"
      },
      "source": [
        "### RandomizedSearchCV"
      ]
    },
    {
      "cell_type": "code",
      "metadata": {
        "id": "4yyMSmLFRAMO",
        "colab_type": "code",
        "colab": {
          "base_uri": "https://localhost:8080/",
          "height": 703
        },
        "outputId": "0e13a81e-bfeb-4601-fc85-960a1b56400f"
      },
      "source": [
        "\n",
        "x_n_iter = 10\n",
        "\n",
        "param_distributions = {\n",
        "    # 'simpleimputer__strategy': ['mean', 'median', 'most_frequent'], \n",
        "    #  'functiontransformer__kw_args': [{par_name: i} for i in range(int(0.5*len(Id_skew_cols)))],\n",
        "    'randomforestclassifier__min_samples_leaf': [random.randint(1, 1000) for i in range(20)], \n",
        "    'randomforestclassifier__min_samples_split': [random.randint(2, 1000) for i in range(20)], \n",
        "    'randomforestclassifier__max_features': [random.randint(2, 54) for i in range(20)], \n",
        "    'randomforestclassifier__criterion': [\"gini\", \"entropy\"]\n",
        "    }\n",
        "\n",
        "rscv = RandomizedSearchCV(\n",
        "    estimator, \n",
        "    param_distributions=param_distributions, \n",
        "    n_iter=x_n_iter, \n",
        "    cv=4, \n",
        "    scoring='accuracy', \n",
        "    verbose=10, \n",
        "    return_train_score=True, \n",
        "    n_jobs=-1\n",
        ")\n",
        "\n",
        "rscv.fit(X_train, y_train)\n",
        "\n",
        "best_est = rscv.best_estimator_\n",
        "print('Cross-validation Accuracy', rscv.best_score_)\n",
        "print('Best hyperparameters', rscv.best_params_)\n",
        "rscv.best_estimator_\n"
      ],
      "execution_count": 37,
      "outputs": [
        {
          "output_type": "stream",
          "text": [
            "Fitting 4 folds for each of 10 candidates, totalling 40 fits\n"
          ],
          "name": "stdout"
        },
        {
          "output_type": "stream",
          "text": [
            "[Parallel(n_jobs=-1)]: Using backend LokyBackend with 2 concurrent workers.\n",
            "[Parallel(n_jobs=-1)]: Done   1 tasks      | elapsed:    0.6s\n",
            "[Parallel(n_jobs=-1)]: Done   4 tasks      | elapsed:    1.0s\n",
            "[Parallel(n_jobs=-1)]: Done   9 tasks      | elapsed:    2.2s\n",
            "[Parallel(n_jobs=-1)]: Done  14 tasks      | elapsed:    2.8s\n",
            "[Parallel(n_jobs=-1)]: Done  21 tasks      | elapsed:    3.6s\n",
            "[Parallel(n_jobs=-1)]: Done  28 tasks      | elapsed:    4.8s\n",
            "[Parallel(n_jobs=-1)]: Done  37 tasks      | elapsed:    6.4s\n",
            "[Parallel(n_jobs=-1)]: Done  40 out of  40 | elapsed:    6.8s finished\n"
          ],
          "name": "stderr"
        },
        {
          "output_type": "stream",
          "text": [
            "Cross-validation Accuracy 0.664103835978836\n",
            "Best hyperparameters {'randomforestclassifier__min_samples_split': 262, 'randomforestclassifier__min_samples_leaf': 61, 'randomforestclassifier__max_features': 5, 'randomforestclassifier__criterion': 'entropy'}\n"
          ],
          "name": "stdout"
        },
        {
          "output_type": "execute_result",
          "data": {
            "text/plain": [
              "Pipeline(memory=None,\n",
              "         steps=[('functiontransformer',\n",
              "                 FunctionTransformer(accept_sparse=False, check_inverse=True,\n",
              "                                     func=<function wrangle at 0x7fbabb42d950>,\n",
              "                                     inv_kw_args=None, inverse_func=None,\n",
              "                                     kw_args={'cols': ['Id', 'Soil_Type15',\n",
              "                                                       'Soil_Type7',\n",
              "                                                       'Soil_Type25',\n",
              "                                                       'Soil_Type8',\n",
              "                                                       'Soil_Type28',\n",
              "                                                       'Soil_Type9',\n",
              "                                                       'Soil_Type36',\n",
              "                                                       'Soil_Type27'],\n",
              "                                              'drop_count': 9},\n",
              "                                     validate=False)),\n",
              "                (...\n",
              "                 RandomForestClassifier(bootstrap=True, ccp_alpha=0.0,\n",
              "                                        class_weight=None, criterion='entropy',\n",
              "                                        max_depth=20, max_features=5,\n",
              "                                        max_leaf_nodes=None, max_samples=None,\n",
              "                                        min_impurity_decrease=0.0,\n",
              "                                        min_impurity_split=None,\n",
              "                                        min_samples_leaf=61,\n",
              "                                        min_samples_split=262,\n",
              "                                        min_weight_fraction_leaf=0.0,\n",
              "                                        n_estimators=10, n_jobs=-1,\n",
              "                                        oob_score=False, random_state=42,\n",
              "                                        verbose=0, warm_start=False))],\n",
              "         verbose=False)"
            ]
          },
          "metadata": {
            "tags": []
          },
          "execution_count": 37
        }
      ]
    },
    {
      "cell_type": "code",
      "metadata": {
        "id": "Dot8a2D7PsBf",
        "colab_type": "code",
        "colab": {
          "base_uri": "https://localhost:8080/",
          "height": 245
        },
        "outputId": "fe9a2ce3-605f-4ae7-83e8-6dfe22bb4ce3"
      },
      "source": [
        "best_feat = best_est.named_steps['functiontransformer'].transform(X_train).columns\n",
        "best_feat, best_feat.shape"
      ],
      "execution_count": 38,
      "outputs": [
        {
          "output_type": "execute_result",
          "data": {
            "text/plain": [
              "(Index(['Elevation', 'Aspect', 'Slope', 'Horizontal_Distance_To_Hydrology',\n",
              "        'Vertical_Distance_To_Hydrology', 'Horizontal_Distance_To_Roadways',\n",
              "        'Hillshade_9am', 'Hillshade_Noon', 'Hillshade_3pm',\n",
              "        'Horizontal_Distance_To_Fire_Points', 'Wilderness_Area1',\n",
              "        'Wilderness_Area2', 'Wilderness_Area3', 'Wilderness_Area4',\n",
              "        'Soil_Type1', 'Soil_Type2', 'Soil_Type3', 'Soil_Type4', 'Soil_Type5',\n",
              "        'Soil_Type6', 'Soil_Type10', 'Soil_Type11', 'Soil_Type12',\n",
              "        'Soil_Type13', 'Soil_Type14', 'Soil_Type16', 'Soil_Type17',\n",
              "        'Soil_Type18', 'Soil_Type19', 'Soil_Type20', 'Soil_Type21',\n",
              "        'Soil_Type22', 'Soil_Type23', 'Soil_Type24', 'Soil_Type26',\n",
              "        'Soil_Type29', 'Soil_Type30', 'Soil_Type31', 'Soil_Type32',\n",
              "        'Soil_Type33', 'Soil_Type34', 'Soil_Type35', 'Soil_Type37',\n",
              "        'Soil_Type38', 'Soil_Type39', 'Soil_Type40'],\n",
              "       dtype='object'), (46,))"
            ]
          },
          "metadata": {
            "tags": []
          },
          "execution_count": 38
        }
      ]
    },
    {
      "cell_type": "code",
      "metadata": {
        "id": "65JVFHZLRBse",
        "colab_type": "code",
        "colab": {
          "base_uri": "https://localhost:8080/",
          "height": 82
        },
        "outputId": "32c98b9e-dd8b-43e4-cc13-273b4396d67a"
      },
      "source": [
        "#.predict: WITHOUT ACTUALLY TRANSFORMING X, APPLIES THE TRANSFORMS TO X AND PREDICT a fitted y\n",
        "# wrangle_col = pipeline.named_steps['functiontransformer'].transform(X_train).columns\n",
        "\n",
        "\n",
        "print(f' X_val shape before predict : {X_val.shape}')\n",
        "print(\"predicting ...\")\n",
        "y_pred = best_est.predict(X_val)\n",
        "print(f' X_val shape after predict : {X_val.shape}')\n",
        "print('Validation Accuracy', accuracy_score(y_val, y_pred))"
      ],
      "execution_count": 39,
      "outputs": [
        {
          "output_type": "stream",
          "text": [
            " X_val shape before predict : (3024, 55)\n",
            "predicting ...\n",
            " X_val shape after predict : (3024, 55)\n",
            "Validation Accuracy 0.6802248677248677\n"
          ],
          "name": "stdout"
        }
      ]
    }
  ]
}