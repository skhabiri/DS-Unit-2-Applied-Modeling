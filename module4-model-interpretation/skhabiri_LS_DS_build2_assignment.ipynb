{
  "nbformat": 4,
  "nbformat_minor": 0,
  "metadata": {
    "kernelspec": {
      "display_name": "Python 3",
      "language": "python",
      "name": "python3"
    },
    "language_info": {
      "codemirror_mode": {
        "name": "ipython",
        "version": 3
      },
      "file_extension": ".py",
      "mimetype": "text/x-python",
      "name": "python",
      "nbconvert_exporter": "python",
      "pygments_lexer": "ipython3",
      "version": "3.7.6"
    },
    "colab": {
      "name": "skhabiri_LS_DS_build2_assignment.ipynb",
      "provenance": [],
      "collapsed_sections": [],
      "include_colab_link": true
    }
  },
  "cells": [
    {
      "cell_type": "markdown",
      "metadata": {
        "id": "view-in-github",
        "colab_type": "text"
      },
      "source": [
        "<a href=\"https://colab.research.google.com/github/skhabiri/DS-Unit-2-Applied-Modeling/blob/master/module4-model-interpretation/skhabiri_LS_DS_build2_assignment.ipynb\" target=\"_parent\"><img src=\"https://colab.research.google.com/assets/colab-badge.svg\" alt=\"Open In Colab\"/></a>"
      ]
    },
    {
      "cell_type": "markdown",
      "metadata": {
        "colab_type": "text",
        "id": "nCc3XZEyG3XV"
      },
      "source": [
        "Lambda School Data Science\n",
        "\n",
        "*Unit 2, Sprint 3, Module 1*\n",
        "\n",
        "---\n",
        "\n",
        "\n",
        "# Define ML problems\n",
        "\n",
        "You will use your portfolio project dataset for all assignments this sprint.\n",
        "\n",
        "## Assignment\n",
        "\n",
        "Complete these tasks for your project, and document your decisions.\n",
        "\n",
        "- [ ] Choose your target. Which column in your tabular dataset will you predict?\n",
        "- [ ] Is your problem regression or classification?\n",
        "- [ ] How is your target distributed?\n",
        "    - Classification: How many classes? Are the classes imbalanced?\n",
        "    - Regression: Is the target right-skewed? If so, you may want to log transform the target.\n",
        "- [ ] Choose your evaluation metric(s).\n",
        "    - Classification: Is your majority class frequency >= 50% and < 70% ? If so, you can just use accuracy if you want. Outside that range, accuracy could be misleading. What evaluation metric will you choose, in addition to or instead of accuracy?\n",
        "    - Regression: Will you use mean absolute error, root mean squared error, R^2, or other regression metrics?\n",
        "- [ ] Choose which observations you will use to train, validate, and test your model.\n",
        "    - Are some observations outliers? Will you exclude them?\n",
        "    - Will you do a random split or a time-based split?\n",
        "- [ ] Begin to clean and explore your data.\n",
        "- [ ] Begin to choose which features, if any, to exclude. Would some features \"leak\" future information?\n",
        "\n",
        "If you haven't found a dataset yet, do that today. [Review requirements for your portfolio project](https://lambdaschool.github.io/ds/unit2) and choose your dataset.\n",
        "\n",
        "Some students worry, ***what if my model isn't “good”?*** Then, [produce a detailed tribute to your wrongness. That is science!](https://twitter.com/nathanwpyle/status/1176860147223867393)"
      ]
    },
    {
      "cell_type": "code",
      "metadata": {
        "id": "Fhjl0O6nj5zT",
        "colab_type": "code",
        "colab": {
          "base_uri": "https://localhost:8080/",
          "height": 471
        },
        "outputId": "3dff4bbe-0925-43a5-e06b-8fc044b0ac38"
      },
      "source": [
        "import pandas as pd\n",
        "import numpy as np\n",
        "!pip install category_encoders==2.*\n",
        "\n",
        "\n",
        "data = pd.read_csv('https://github.com/skhabiri/Forest_cover_type_data/raw/master/train.csv')\n",
        "print(data.shape)\n",
        "data.head()\n"
      ],
      "execution_count": 1,
      "outputs": [
        {
          "output_type": "stream",
          "text": [
            "Collecting category_encoders==2.*\n",
            "\u001b[?25l  Downloading https://files.pythonhosted.org/packages/44/57/fcef41c248701ee62e8325026b90c432adea35555cbc870aff9cfba23727/category_encoders-2.2.2-py2.py3-none-any.whl (80kB)\n",
            "\r\u001b[K     |████                            | 10kB 17.5MB/s eta 0:00:01\r\u001b[K     |████████▏                       | 20kB 1.8MB/s eta 0:00:01\r\u001b[K     |████████████▏                   | 30kB 2.2MB/s eta 0:00:01\r\u001b[K     |████████████████▎               | 40kB 2.4MB/s eta 0:00:01\r\u001b[K     |████████████████████▎           | 51kB 2.1MB/s eta 0:00:01\r\u001b[K     |████████████████████████▍       | 61kB 2.4MB/s eta 0:00:01\r\u001b[K     |████████████████████████████▍   | 71kB 2.6MB/s eta 0:00:01\r\u001b[K     |████████████████████████████████| 81kB 2.3MB/s \n",
            "\u001b[?25hRequirement already satisfied: numpy>=1.14.0 in /usr/local/lib/python3.6/dist-packages (from category_encoders==2.*) (1.18.5)\n",
            "Requirement already satisfied: patsy>=0.5.1 in /usr/local/lib/python3.6/dist-packages (from category_encoders==2.*) (0.5.1)\n",
            "Requirement already satisfied: scikit-learn>=0.20.0 in /usr/local/lib/python3.6/dist-packages (from category_encoders==2.*) (0.22.2.post1)\n",
            "Requirement already satisfied: statsmodels>=0.9.0 in /usr/local/lib/python3.6/dist-packages (from category_encoders==2.*) (0.10.2)\n",
            "Requirement already satisfied: scipy>=1.0.0 in /usr/local/lib/python3.6/dist-packages (from category_encoders==2.*) (1.4.1)\n",
            "Requirement already satisfied: pandas>=0.21.1 in /usr/local/lib/python3.6/dist-packages (from category_encoders==2.*) (1.0.5)\n",
            "Requirement already satisfied: six in /usr/local/lib/python3.6/dist-packages (from patsy>=0.5.1->category_encoders==2.*) (1.15.0)\n",
            "Requirement already satisfied: joblib>=0.11 in /usr/local/lib/python3.6/dist-packages (from scikit-learn>=0.20.0->category_encoders==2.*) (0.16.0)\n",
            "Requirement already satisfied: python-dateutil>=2.6.1 in /usr/local/lib/python3.6/dist-packages (from pandas>=0.21.1->category_encoders==2.*) (2.8.1)\n",
            "Requirement already satisfied: pytz>=2017.2 in /usr/local/lib/python3.6/dist-packages (from pandas>=0.21.1->category_encoders==2.*) (2018.9)\n",
            "Installing collected packages: category-encoders\n",
            "Successfully installed category-encoders-2.2.2\n",
            "(15120, 56)\n"
          ],
          "name": "stdout"
        },
        {
          "output_type": "execute_result",
          "data": {
            "text/html": [
              "<div>\n",
              "<style scoped>\n",
              "    .dataframe tbody tr th:only-of-type {\n",
              "        vertical-align: middle;\n",
              "    }\n",
              "\n",
              "    .dataframe tbody tr th {\n",
              "        vertical-align: top;\n",
              "    }\n",
              "\n",
              "    .dataframe thead th {\n",
              "        text-align: right;\n",
              "    }\n",
              "</style>\n",
              "<table border=\"1\" class=\"dataframe\">\n",
              "  <thead>\n",
              "    <tr style=\"text-align: right;\">\n",
              "      <th></th>\n",
              "      <th>Id</th>\n",
              "      <th>Elevation</th>\n",
              "      <th>Aspect</th>\n",
              "      <th>Slope</th>\n",
              "      <th>Horizontal_Distance_To_Hydrology</th>\n",
              "      <th>Vertical_Distance_To_Hydrology</th>\n",
              "      <th>Horizontal_Distance_To_Roadways</th>\n",
              "      <th>Hillshade_9am</th>\n",
              "      <th>Hillshade_Noon</th>\n",
              "      <th>Hillshade_3pm</th>\n",
              "      <th>Horizontal_Distance_To_Fire_Points</th>\n",
              "      <th>Wilderness_Area1</th>\n",
              "      <th>Wilderness_Area2</th>\n",
              "      <th>Wilderness_Area3</th>\n",
              "      <th>Wilderness_Area4</th>\n",
              "      <th>Soil_Type1</th>\n",
              "      <th>Soil_Type2</th>\n",
              "      <th>Soil_Type3</th>\n",
              "      <th>Soil_Type4</th>\n",
              "      <th>Soil_Type5</th>\n",
              "      <th>Soil_Type6</th>\n",
              "      <th>Soil_Type7</th>\n",
              "      <th>Soil_Type8</th>\n",
              "      <th>Soil_Type9</th>\n",
              "      <th>Soil_Type10</th>\n",
              "      <th>Soil_Type11</th>\n",
              "      <th>Soil_Type12</th>\n",
              "      <th>Soil_Type13</th>\n",
              "      <th>Soil_Type14</th>\n",
              "      <th>Soil_Type15</th>\n",
              "      <th>Soil_Type16</th>\n",
              "      <th>Soil_Type17</th>\n",
              "      <th>Soil_Type18</th>\n",
              "      <th>Soil_Type19</th>\n",
              "      <th>Soil_Type20</th>\n",
              "      <th>Soil_Type21</th>\n",
              "      <th>Soil_Type22</th>\n",
              "      <th>Soil_Type23</th>\n",
              "      <th>Soil_Type24</th>\n",
              "      <th>Soil_Type25</th>\n",
              "      <th>Soil_Type26</th>\n",
              "      <th>Soil_Type27</th>\n",
              "      <th>Soil_Type28</th>\n",
              "      <th>Soil_Type29</th>\n",
              "      <th>Soil_Type30</th>\n",
              "      <th>Soil_Type31</th>\n",
              "      <th>Soil_Type32</th>\n",
              "      <th>Soil_Type33</th>\n",
              "      <th>Soil_Type34</th>\n",
              "      <th>Soil_Type35</th>\n",
              "      <th>Soil_Type36</th>\n",
              "      <th>Soil_Type37</th>\n",
              "      <th>Soil_Type38</th>\n",
              "      <th>Soil_Type39</th>\n",
              "      <th>Soil_Type40</th>\n",
              "      <th>Cover_Type</th>\n",
              "    </tr>\n",
              "  </thead>\n",
              "  <tbody>\n",
              "    <tr>\n",
              "      <th>0</th>\n",
              "      <td>1</td>\n",
              "      <td>2596</td>\n",
              "      <td>51</td>\n",
              "      <td>3</td>\n",
              "      <td>258</td>\n",
              "      <td>0</td>\n",
              "      <td>510</td>\n",
              "      <td>221</td>\n",
              "      <td>232</td>\n",
              "      <td>148</td>\n",
              "      <td>6279</td>\n",
              "      <td>1</td>\n",
              "      <td>0</td>\n",
              "      <td>0</td>\n",
              "      <td>0</td>\n",
              "      <td>0</td>\n",
              "      <td>0</td>\n",
              "      <td>0</td>\n",
              "      <td>0</td>\n",
              "      <td>0</td>\n",
              "      <td>0</td>\n",
              "      <td>0</td>\n",
              "      <td>0</td>\n",
              "      <td>0</td>\n",
              "      <td>0</td>\n",
              "      <td>0</td>\n",
              "      <td>0</td>\n",
              "      <td>0</td>\n",
              "      <td>0</td>\n",
              "      <td>0</td>\n",
              "      <td>0</td>\n",
              "      <td>0</td>\n",
              "      <td>0</td>\n",
              "      <td>0</td>\n",
              "      <td>0</td>\n",
              "      <td>0</td>\n",
              "      <td>0</td>\n",
              "      <td>0</td>\n",
              "      <td>0</td>\n",
              "      <td>0</td>\n",
              "      <td>0</td>\n",
              "      <td>0</td>\n",
              "      <td>0</td>\n",
              "      <td>1</td>\n",
              "      <td>0</td>\n",
              "      <td>0</td>\n",
              "      <td>0</td>\n",
              "      <td>0</td>\n",
              "      <td>0</td>\n",
              "      <td>0</td>\n",
              "      <td>0</td>\n",
              "      <td>0</td>\n",
              "      <td>0</td>\n",
              "      <td>0</td>\n",
              "      <td>0</td>\n",
              "      <td>5</td>\n",
              "    </tr>\n",
              "    <tr>\n",
              "      <th>1</th>\n",
              "      <td>2</td>\n",
              "      <td>2590</td>\n",
              "      <td>56</td>\n",
              "      <td>2</td>\n",
              "      <td>212</td>\n",
              "      <td>-6</td>\n",
              "      <td>390</td>\n",
              "      <td>220</td>\n",
              "      <td>235</td>\n",
              "      <td>151</td>\n",
              "      <td>6225</td>\n",
              "      <td>1</td>\n",
              "      <td>0</td>\n",
              "      <td>0</td>\n",
              "      <td>0</td>\n",
              "      <td>0</td>\n",
              "      <td>0</td>\n",
              "      <td>0</td>\n",
              "      <td>0</td>\n",
              "      <td>0</td>\n",
              "      <td>0</td>\n",
              "      <td>0</td>\n",
              "      <td>0</td>\n",
              "      <td>0</td>\n",
              "      <td>0</td>\n",
              "      <td>0</td>\n",
              "      <td>0</td>\n",
              "      <td>0</td>\n",
              "      <td>0</td>\n",
              "      <td>0</td>\n",
              "      <td>0</td>\n",
              "      <td>0</td>\n",
              "      <td>0</td>\n",
              "      <td>0</td>\n",
              "      <td>0</td>\n",
              "      <td>0</td>\n",
              "      <td>0</td>\n",
              "      <td>0</td>\n",
              "      <td>0</td>\n",
              "      <td>0</td>\n",
              "      <td>0</td>\n",
              "      <td>0</td>\n",
              "      <td>0</td>\n",
              "      <td>1</td>\n",
              "      <td>0</td>\n",
              "      <td>0</td>\n",
              "      <td>0</td>\n",
              "      <td>0</td>\n",
              "      <td>0</td>\n",
              "      <td>0</td>\n",
              "      <td>0</td>\n",
              "      <td>0</td>\n",
              "      <td>0</td>\n",
              "      <td>0</td>\n",
              "      <td>0</td>\n",
              "      <td>5</td>\n",
              "    </tr>\n",
              "    <tr>\n",
              "      <th>2</th>\n",
              "      <td>3</td>\n",
              "      <td>2804</td>\n",
              "      <td>139</td>\n",
              "      <td>9</td>\n",
              "      <td>268</td>\n",
              "      <td>65</td>\n",
              "      <td>3180</td>\n",
              "      <td>234</td>\n",
              "      <td>238</td>\n",
              "      <td>135</td>\n",
              "      <td>6121</td>\n",
              "      <td>1</td>\n",
              "      <td>0</td>\n",
              "      <td>0</td>\n",
              "      <td>0</td>\n",
              "      <td>0</td>\n",
              "      <td>0</td>\n",
              "      <td>0</td>\n",
              "      <td>0</td>\n",
              "      <td>0</td>\n",
              "      <td>0</td>\n",
              "      <td>0</td>\n",
              "      <td>0</td>\n",
              "      <td>0</td>\n",
              "      <td>0</td>\n",
              "      <td>0</td>\n",
              "      <td>1</td>\n",
              "      <td>0</td>\n",
              "      <td>0</td>\n",
              "      <td>0</td>\n",
              "      <td>0</td>\n",
              "      <td>0</td>\n",
              "      <td>0</td>\n",
              "      <td>0</td>\n",
              "      <td>0</td>\n",
              "      <td>0</td>\n",
              "      <td>0</td>\n",
              "      <td>0</td>\n",
              "      <td>0</td>\n",
              "      <td>0</td>\n",
              "      <td>0</td>\n",
              "      <td>0</td>\n",
              "      <td>0</td>\n",
              "      <td>0</td>\n",
              "      <td>0</td>\n",
              "      <td>0</td>\n",
              "      <td>0</td>\n",
              "      <td>0</td>\n",
              "      <td>0</td>\n",
              "      <td>0</td>\n",
              "      <td>0</td>\n",
              "      <td>0</td>\n",
              "      <td>0</td>\n",
              "      <td>0</td>\n",
              "      <td>0</td>\n",
              "      <td>2</td>\n",
              "    </tr>\n",
              "    <tr>\n",
              "      <th>3</th>\n",
              "      <td>4</td>\n",
              "      <td>2785</td>\n",
              "      <td>155</td>\n",
              "      <td>18</td>\n",
              "      <td>242</td>\n",
              "      <td>118</td>\n",
              "      <td>3090</td>\n",
              "      <td>238</td>\n",
              "      <td>238</td>\n",
              "      <td>122</td>\n",
              "      <td>6211</td>\n",
              "      <td>1</td>\n",
              "      <td>0</td>\n",
              "      <td>0</td>\n",
              "      <td>0</td>\n",
              "      <td>0</td>\n",
              "      <td>0</td>\n",
              "      <td>0</td>\n",
              "      <td>0</td>\n",
              "      <td>0</td>\n",
              "      <td>0</td>\n",
              "      <td>0</td>\n",
              "      <td>0</td>\n",
              "      <td>0</td>\n",
              "      <td>0</td>\n",
              "      <td>0</td>\n",
              "      <td>0</td>\n",
              "      <td>0</td>\n",
              "      <td>0</td>\n",
              "      <td>0</td>\n",
              "      <td>0</td>\n",
              "      <td>0</td>\n",
              "      <td>0</td>\n",
              "      <td>0</td>\n",
              "      <td>0</td>\n",
              "      <td>0</td>\n",
              "      <td>0</td>\n",
              "      <td>0</td>\n",
              "      <td>0</td>\n",
              "      <td>0</td>\n",
              "      <td>0</td>\n",
              "      <td>0</td>\n",
              "      <td>0</td>\n",
              "      <td>0</td>\n",
              "      <td>1</td>\n",
              "      <td>0</td>\n",
              "      <td>0</td>\n",
              "      <td>0</td>\n",
              "      <td>0</td>\n",
              "      <td>0</td>\n",
              "      <td>0</td>\n",
              "      <td>0</td>\n",
              "      <td>0</td>\n",
              "      <td>0</td>\n",
              "      <td>0</td>\n",
              "      <td>2</td>\n",
              "    </tr>\n",
              "    <tr>\n",
              "      <th>4</th>\n",
              "      <td>5</td>\n",
              "      <td>2595</td>\n",
              "      <td>45</td>\n",
              "      <td>2</td>\n",
              "      <td>153</td>\n",
              "      <td>-1</td>\n",
              "      <td>391</td>\n",
              "      <td>220</td>\n",
              "      <td>234</td>\n",
              "      <td>150</td>\n",
              "      <td>6172</td>\n",
              "      <td>1</td>\n",
              "      <td>0</td>\n",
              "      <td>0</td>\n",
              "      <td>0</td>\n",
              "      <td>0</td>\n",
              "      <td>0</td>\n",
              "      <td>0</td>\n",
              "      <td>0</td>\n",
              "      <td>0</td>\n",
              "      <td>0</td>\n",
              "      <td>0</td>\n",
              "      <td>0</td>\n",
              "      <td>0</td>\n",
              "      <td>0</td>\n",
              "      <td>0</td>\n",
              "      <td>0</td>\n",
              "      <td>0</td>\n",
              "      <td>0</td>\n",
              "      <td>0</td>\n",
              "      <td>0</td>\n",
              "      <td>0</td>\n",
              "      <td>0</td>\n",
              "      <td>0</td>\n",
              "      <td>0</td>\n",
              "      <td>0</td>\n",
              "      <td>0</td>\n",
              "      <td>0</td>\n",
              "      <td>0</td>\n",
              "      <td>0</td>\n",
              "      <td>0</td>\n",
              "      <td>0</td>\n",
              "      <td>0</td>\n",
              "      <td>1</td>\n",
              "      <td>0</td>\n",
              "      <td>0</td>\n",
              "      <td>0</td>\n",
              "      <td>0</td>\n",
              "      <td>0</td>\n",
              "      <td>0</td>\n",
              "      <td>0</td>\n",
              "      <td>0</td>\n",
              "      <td>0</td>\n",
              "      <td>0</td>\n",
              "      <td>0</td>\n",
              "      <td>5</td>\n",
              "    </tr>\n",
              "  </tbody>\n",
              "</table>\n",
              "</div>"
            ],
            "text/plain": [
              "   Id  Elevation  Aspect  ...  Soil_Type39  Soil_Type40  Cover_Type\n",
              "0   1       2596      51  ...            0            0           5\n",
              "1   2       2590      56  ...            0            0           5\n",
              "2   3       2804     139  ...            0            0           2\n",
              "3   4       2785     155  ...            0            0           2\n",
              "4   5       2595      45  ...            0            0           5\n",
              "\n",
              "[5 rows x 56 columns]"
            ]
          },
          "metadata": {
            "tags": []
          },
          "execution_count": 1
        }
      ]
    },
    {
      "cell_type": "code",
      "metadata": {
        "id": "Eet92FMylJxN",
        "colab_type": "code",
        "colab": {
          "base_uri": "https://localhost:8080/",
          "height": 297
        },
        "outputId": "15bb5b27-f91f-4993-a85e-9dbf7c5f7454"
      },
      "source": [
        "data.describe()"
      ],
      "execution_count": 2,
      "outputs": [
        {
          "output_type": "execute_result",
          "data": {
            "text/html": [
              "<div>\n",
              "<style scoped>\n",
              "    .dataframe tbody tr th:only-of-type {\n",
              "        vertical-align: middle;\n",
              "    }\n",
              "\n",
              "    .dataframe tbody tr th {\n",
              "        vertical-align: top;\n",
              "    }\n",
              "\n",
              "    .dataframe thead th {\n",
              "        text-align: right;\n",
              "    }\n",
              "</style>\n",
              "<table border=\"1\" class=\"dataframe\">\n",
              "  <thead>\n",
              "    <tr style=\"text-align: right;\">\n",
              "      <th></th>\n",
              "      <th>Id</th>\n",
              "      <th>Elevation</th>\n",
              "      <th>Aspect</th>\n",
              "      <th>Slope</th>\n",
              "      <th>Horizontal_Distance_To_Hydrology</th>\n",
              "      <th>Vertical_Distance_To_Hydrology</th>\n",
              "      <th>Horizontal_Distance_To_Roadways</th>\n",
              "      <th>Hillshade_9am</th>\n",
              "      <th>Hillshade_Noon</th>\n",
              "      <th>Hillshade_3pm</th>\n",
              "      <th>Horizontal_Distance_To_Fire_Points</th>\n",
              "      <th>Wilderness_Area1</th>\n",
              "      <th>Wilderness_Area2</th>\n",
              "      <th>Wilderness_Area3</th>\n",
              "      <th>Wilderness_Area4</th>\n",
              "      <th>Soil_Type1</th>\n",
              "      <th>Soil_Type2</th>\n",
              "      <th>Soil_Type3</th>\n",
              "      <th>Soil_Type4</th>\n",
              "      <th>Soil_Type5</th>\n",
              "      <th>Soil_Type6</th>\n",
              "      <th>Soil_Type7</th>\n",
              "      <th>Soil_Type8</th>\n",
              "      <th>Soil_Type9</th>\n",
              "      <th>Soil_Type10</th>\n",
              "      <th>Soil_Type11</th>\n",
              "      <th>Soil_Type12</th>\n",
              "      <th>Soil_Type13</th>\n",
              "      <th>Soil_Type14</th>\n",
              "      <th>Soil_Type15</th>\n",
              "      <th>Soil_Type16</th>\n",
              "      <th>Soil_Type17</th>\n",
              "      <th>Soil_Type18</th>\n",
              "      <th>Soil_Type19</th>\n",
              "      <th>Soil_Type20</th>\n",
              "      <th>Soil_Type21</th>\n",
              "      <th>Soil_Type22</th>\n",
              "      <th>Soil_Type23</th>\n",
              "      <th>Soil_Type24</th>\n",
              "      <th>Soil_Type25</th>\n",
              "      <th>Soil_Type26</th>\n",
              "      <th>Soil_Type27</th>\n",
              "      <th>Soil_Type28</th>\n",
              "      <th>Soil_Type29</th>\n",
              "      <th>Soil_Type30</th>\n",
              "      <th>Soil_Type31</th>\n",
              "      <th>Soil_Type32</th>\n",
              "      <th>Soil_Type33</th>\n",
              "      <th>Soil_Type34</th>\n",
              "      <th>Soil_Type35</th>\n",
              "      <th>Soil_Type36</th>\n",
              "      <th>Soil_Type37</th>\n",
              "      <th>Soil_Type38</th>\n",
              "      <th>Soil_Type39</th>\n",
              "      <th>Soil_Type40</th>\n",
              "      <th>Cover_Type</th>\n",
              "    </tr>\n",
              "  </thead>\n",
              "  <tbody>\n",
              "    <tr>\n",
              "      <th>count</th>\n",
              "      <td>15120.00000</td>\n",
              "      <td>15120.000000</td>\n",
              "      <td>15120.000000</td>\n",
              "      <td>15120.000000</td>\n",
              "      <td>15120.000000</td>\n",
              "      <td>15120.000000</td>\n",
              "      <td>15120.000000</td>\n",
              "      <td>15120.000000</td>\n",
              "      <td>15120.000000</td>\n",
              "      <td>15120.000000</td>\n",
              "      <td>15120.000000</td>\n",
              "      <td>15120.000000</td>\n",
              "      <td>15120.000000</td>\n",
              "      <td>15120.000000</td>\n",
              "      <td>15120.000000</td>\n",
              "      <td>15120.000000</td>\n",
              "      <td>15120.000000</td>\n",
              "      <td>15120.000000</td>\n",
              "      <td>15120.000000</td>\n",
              "      <td>15120.000000</td>\n",
              "      <td>15120.000000</td>\n",
              "      <td>15120.0</td>\n",
              "      <td>15120.000000</td>\n",
              "      <td>15120.000000</td>\n",
              "      <td>15120.000000</td>\n",
              "      <td>15120.000000</td>\n",
              "      <td>15120.000000</td>\n",
              "      <td>15120.000000</td>\n",
              "      <td>15120.000000</td>\n",
              "      <td>15120.0</td>\n",
              "      <td>15120.000000</td>\n",
              "      <td>15120.000000</td>\n",
              "      <td>15120.000000</td>\n",
              "      <td>15120.000000</td>\n",
              "      <td>15120.000000</td>\n",
              "      <td>15120.000000</td>\n",
              "      <td>15120.000000</td>\n",
              "      <td>15120.000000</td>\n",
              "      <td>15120.000000</td>\n",
              "      <td>15120.000000</td>\n",
              "      <td>15120.000000</td>\n",
              "      <td>15120.000000</td>\n",
              "      <td>15120.000000</td>\n",
              "      <td>15120.000000</td>\n",
              "      <td>15120.000000</td>\n",
              "      <td>15120.000000</td>\n",
              "      <td>15120.000000</td>\n",
              "      <td>15120.000000</td>\n",
              "      <td>15120.000000</td>\n",
              "      <td>15120.000000</td>\n",
              "      <td>15120.000000</td>\n",
              "      <td>15120.000000</td>\n",
              "      <td>15120.000000</td>\n",
              "      <td>15120.000000</td>\n",
              "      <td>15120.000000</td>\n",
              "      <td>15120.000000</td>\n",
              "    </tr>\n",
              "    <tr>\n",
              "      <th>mean</th>\n",
              "      <td>7560.50000</td>\n",
              "      <td>2749.322553</td>\n",
              "      <td>156.676653</td>\n",
              "      <td>16.501587</td>\n",
              "      <td>227.195701</td>\n",
              "      <td>51.076521</td>\n",
              "      <td>1714.023214</td>\n",
              "      <td>212.704299</td>\n",
              "      <td>218.965608</td>\n",
              "      <td>135.091997</td>\n",
              "      <td>1511.147288</td>\n",
              "      <td>0.237897</td>\n",
              "      <td>0.033003</td>\n",
              "      <td>0.419907</td>\n",
              "      <td>0.309193</td>\n",
              "      <td>0.023479</td>\n",
              "      <td>0.041204</td>\n",
              "      <td>0.063624</td>\n",
              "      <td>0.055754</td>\n",
              "      <td>0.010913</td>\n",
              "      <td>0.042989</td>\n",
              "      <td>0.0</td>\n",
              "      <td>0.000066</td>\n",
              "      <td>0.000661</td>\n",
              "      <td>0.141667</td>\n",
              "      <td>0.026852</td>\n",
              "      <td>0.015013</td>\n",
              "      <td>0.031481</td>\n",
              "      <td>0.011177</td>\n",
              "      <td>0.0</td>\n",
              "      <td>0.007540</td>\n",
              "      <td>0.040476</td>\n",
              "      <td>0.003968</td>\n",
              "      <td>0.003042</td>\n",
              "      <td>0.009193</td>\n",
              "      <td>0.001058</td>\n",
              "      <td>0.022817</td>\n",
              "      <td>0.050066</td>\n",
              "      <td>0.016997</td>\n",
              "      <td>0.000066</td>\n",
              "      <td>0.003571</td>\n",
              "      <td>0.000992</td>\n",
              "      <td>0.000595</td>\n",
              "      <td>0.085384</td>\n",
              "      <td>0.047950</td>\n",
              "      <td>0.021958</td>\n",
              "      <td>0.045635</td>\n",
              "      <td>0.040741</td>\n",
              "      <td>0.001455</td>\n",
              "      <td>0.006746</td>\n",
              "      <td>0.000661</td>\n",
              "      <td>0.002249</td>\n",
              "      <td>0.048148</td>\n",
              "      <td>0.043452</td>\n",
              "      <td>0.030357</td>\n",
              "      <td>4.000000</td>\n",
              "    </tr>\n",
              "    <tr>\n",
              "      <th>std</th>\n",
              "      <td>4364.91237</td>\n",
              "      <td>417.678187</td>\n",
              "      <td>110.085801</td>\n",
              "      <td>8.453927</td>\n",
              "      <td>210.075296</td>\n",
              "      <td>61.239406</td>\n",
              "      <td>1325.066358</td>\n",
              "      <td>30.561287</td>\n",
              "      <td>22.801966</td>\n",
              "      <td>45.895189</td>\n",
              "      <td>1099.936493</td>\n",
              "      <td>0.425810</td>\n",
              "      <td>0.178649</td>\n",
              "      <td>0.493560</td>\n",
              "      <td>0.462176</td>\n",
              "      <td>0.151424</td>\n",
              "      <td>0.198768</td>\n",
              "      <td>0.244091</td>\n",
              "      <td>0.229454</td>\n",
              "      <td>0.103896</td>\n",
              "      <td>0.202840</td>\n",
              "      <td>0.0</td>\n",
              "      <td>0.008133</td>\n",
              "      <td>0.025710</td>\n",
              "      <td>0.348719</td>\n",
              "      <td>0.161656</td>\n",
              "      <td>0.121609</td>\n",
              "      <td>0.174621</td>\n",
              "      <td>0.105133</td>\n",
              "      <td>0.0</td>\n",
              "      <td>0.086506</td>\n",
              "      <td>0.197080</td>\n",
              "      <td>0.062871</td>\n",
              "      <td>0.055075</td>\n",
              "      <td>0.095442</td>\n",
              "      <td>0.032514</td>\n",
              "      <td>0.149326</td>\n",
              "      <td>0.218089</td>\n",
              "      <td>0.129265</td>\n",
              "      <td>0.008133</td>\n",
              "      <td>0.059657</td>\n",
              "      <td>0.031482</td>\n",
              "      <td>0.024391</td>\n",
              "      <td>0.279461</td>\n",
              "      <td>0.213667</td>\n",
              "      <td>0.146550</td>\n",
              "      <td>0.208699</td>\n",
              "      <td>0.197696</td>\n",
              "      <td>0.038118</td>\n",
              "      <td>0.081859</td>\n",
              "      <td>0.025710</td>\n",
              "      <td>0.047368</td>\n",
              "      <td>0.214086</td>\n",
              "      <td>0.203880</td>\n",
              "      <td>0.171574</td>\n",
              "      <td>2.000066</td>\n",
              "    </tr>\n",
              "    <tr>\n",
              "      <th>min</th>\n",
              "      <td>1.00000</td>\n",
              "      <td>1863.000000</td>\n",
              "      <td>0.000000</td>\n",
              "      <td>0.000000</td>\n",
              "      <td>0.000000</td>\n",
              "      <td>-146.000000</td>\n",
              "      <td>0.000000</td>\n",
              "      <td>0.000000</td>\n",
              "      <td>99.000000</td>\n",
              "      <td>0.000000</td>\n",
              "      <td>0.000000</td>\n",
              "      <td>0.000000</td>\n",
              "      <td>0.000000</td>\n",
              "      <td>0.000000</td>\n",
              "      <td>0.000000</td>\n",
              "      <td>0.000000</td>\n",
              "      <td>0.000000</td>\n",
              "      <td>0.000000</td>\n",
              "      <td>0.000000</td>\n",
              "      <td>0.000000</td>\n",
              "      <td>0.000000</td>\n",
              "      <td>0.0</td>\n",
              "      <td>0.000000</td>\n",
              "      <td>0.000000</td>\n",
              "      <td>0.000000</td>\n",
              "      <td>0.000000</td>\n",
              "      <td>0.000000</td>\n",
              "      <td>0.000000</td>\n",
              "      <td>0.000000</td>\n",
              "      <td>0.0</td>\n",
              "      <td>0.000000</td>\n",
              "      <td>0.000000</td>\n",
              "      <td>0.000000</td>\n",
              "      <td>0.000000</td>\n",
              "      <td>0.000000</td>\n",
              "      <td>0.000000</td>\n",
              "      <td>0.000000</td>\n",
              "      <td>0.000000</td>\n",
              "      <td>0.000000</td>\n",
              "      <td>0.000000</td>\n",
              "      <td>0.000000</td>\n",
              "      <td>0.000000</td>\n",
              "      <td>0.000000</td>\n",
              "      <td>0.000000</td>\n",
              "      <td>0.000000</td>\n",
              "      <td>0.000000</td>\n",
              "      <td>0.000000</td>\n",
              "      <td>0.000000</td>\n",
              "      <td>0.000000</td>\n",
              "      <td>0.000000</td>\n",
              "      <td>0.000000</td>\n",
              "      <td>0.000000</td>\n",
              "      <td>0.000000</td>\n",
              "      <td>0.000000</td>\n",
              "      <td>0.000000</td>\n",
              "      <td>1.000000</td>\n",
              "    </tr>\n",
              "    <tr>\n",
              "      <th>25%</th>\n",
              "      <td>3780.75000</td>\n",
              "      <td>2376.000000</td>\n",
              "      <td>65.000000</td>\n",
              "      <td>10.000000</td>\n",
              "      <td>67.000000</td>\n",
              "      <td>5.000000</td>\n",
              "      <td>764.000000</td>\n",
              "      <td>196.000000</td>\n",
              "      <td>207.000000</td>\n",
              "      <td>106.000000</td>\n",
              "      <td>730.000000</td>\n",
              "      <td>0.000000</td>\n",
              "      <td>0.000000</td>\n",
              "      <td>0.000000</td>\n",
              "      <td>0.000000</td>\n",
              "      <td>0.000000</td>\n",
              "      <td>0.000000</td>\n",
              "      <td>0.000000</td>\n",
              "      <td>0.000000</td>\n",
              "      <td>0.000000</td>\n",
              "      <td>0.000000</td>\n",
              "      <td>0.0</td>\n",
              "      <td>0.000000</td>\n",
              "      <td>0.000000</td>\n",
              "      <td>0.000000</td>\n",
              "      <td>0.000000</td>\n",
              "      <td>0.000000</td>\n",
              "      <td>0.000000</td>\n",
              "      <td>0.000000</td>\n",
              "      <td>0.0</td>\n",
              "      <td>0.000000</td>\n",
              "      <td>0.000000</td>\n",
              "      <td>0.000000</td>\n",
              "      <td>0.000000</td>\n",
              "      <td>0.000000</td>\n",
              "      <td>0.000000</td>\n",
              "      <td>0.000000</td>\n",
              "      <td>0.000000</td>\n",
              "      <td>0.000000</td>\n",
              "      <td>0.000000</td>\n",
              "      <td>0.000000</td>\n",
              "      <td>0.000000</td>\n",
              "      <td>0.000000</td>\n",
              "      <td>0.000000</td>\n",
              "      <td>0.000000</td>\n",
              "      <td>0.000000</td>\n",
              "      <td>0.000000</td>\n",
              "      <td>0.000000</td>\n",
              "      <td>0.000000</td>\n",
              "      <td>0.000000</td>\n",
              "      <td>0.000000</td>\n",
              "      <td>0.000000</td>\n",
              "      <td>0.000000</td>\n",
              "      <td>0.000000</td>\n",
              "      <td>0.000000</td>\n",
              "      <td>2.000000</td>\n",
              "    </tr>\n",
              "    <tr>\n",
              "      <th>50%</th>\n",
              "      <td>7560.50000</td>\n",
              "      <td>2752.000000</td>\n",
              "      <td>126.000000</td>\n",
              "      <td>15.000000</td>\n",
              "      <td>180.000000</td>\n",
              "      <td>32.000000</td>\n",
              "      <td>1316.000000</td>\n",
              "      <td>220.000000</td>\n",
              "      <td>223.000000</td>\n",
              "      <td>138.000000</td>\n",
              "      <td>1256.000000</td>\n",
              "      <td>0.000000</td>\n",
              "      <td>0.000000</td>\n",
              "      <td>0.000000</td>\n",
              "      <td>0.000000</td>\n",
              "      <td>0.000000</td>\n",
              "      <td>0.000000</td>\n",
              "      <td>0.000000</td>\n",
              "      <td>0.000000</td>\n",
              "      <td>0.000000</td>\n",
              "      <td>0.000000</td>\n",
              "      <td>0.0</td>\n",
              "      <td>0.000000</td>\n",
              "      <td>0.000000</td>\n",
              "      <td>0.000000</td>\n",
              "      <td>0.000000</td>\n",
              "      <td>0.000000</td>\n",
              "      <td>0.000000</td>\n",
              "      <td>0.000000</td>\n",
              "      <td>0.0</td>\n",
              "      <td>0.000000</td>\n",
              "      <td>0.000000</td>\n",
              "      <td>0.000000</td>\n",
              "      <td>0.000000</td>\n",
              "      <td>0.000000</td>\n",
              "      <td>0.000000</td>\n",
              "      <td>0.000000</td>\n",
              "      <td>0.000000</td>\n",
              "      <td>0.000000</td>\n",
              "      <td>0.000000</td>\n",
              "      <td>0.000000</td>\n",
              "      <td>0.000000</td>\n",
              "      <td>0.000000</td>\n",
              "      <td>0.000000</td>\n",
              "      <td>0.000000</td>\n",
              "      <td>0.000000</td>\n",
              "      <td>0.000000</td>\n",
              "      <td>0.000000</td>\n",
              "      <td>0.000000</td>\n",
              "      <td>0.000000</td>\n",
              "      <td>0.000000</td>\n",
              "      <td>0.000000</td>\n",
              "      <td>0.000000</td>\n",
              "      <td>0.000000</td>\n",
              "      <td>0.000000</td>\n",
              "      <td>4.000000</td>\n",
              "    </tr>\n",
              "    <tr>\n",
              "      <th>75%</th>\n",
              "      <td>11340.25000</td>\n",
              "      <td>3104.000000</td>\n",
              "      <td>261.000000</td>\n",
              "      <td>22.000000</td>\n",
              "      <td>330.000000</td>\n",
              "      <td>79.000000</td>\n",
              "      <td>2270.000000</td>\n",
              "      <td>235.000000</td>\n",
              "      <td>235.000000</td>\n",
              "      <td>167.000000</td>\n",
              "      <td>1988.250000</td>\n",
              "      <td>0.000000</td>\n",
              "      <td>0.000000</td>\n",
              "      <td>1.000000</td>\n",
              "      <td>1.000000</td>\n",
              "      <td>0.000000</td>\n",
              "      <td>0.000000</td>\n",
              "      <td>0.000000</td>\n",
              "      <td>0.000000</td>\n",
              "      <td>0.000000</td>\n",
              "      <td>0.000000</td>\n",
              "      <td>0.0</td>\n",
              "      <td>0.000000</td>\n",
              "      <td>0.000000</td>\n",
              "      <td>0.000000</td>\n",
              "      <td>0.000000</td>\n",
              "      <td>0.000000</td>\n",
              "      <td>0.000000</td>\n",
              "      <td>0.000000</td>\n",
              "      <td>0.0</td>\n",
              "      <td>0.000000</td>\n",
              "      <td>0.000000</td>\n",
              "      <td>0.000000</td>\n",
              "      <td>0.000000</td>\n",
              "      <td>0.000000</td>\n",
              "      <td>0.000000</td>\n",
              "      <td>0.000000</td>\n",
              "      <td>0.000000</td>\n",
              "      <td>0.000000</td>\n",
              "      <td>0.000000</td>\n",
              "      <td>0.000000</td>\n",
              "      <td>0.000000</td>\n",
              "      <td>0.000000</td>\n",
              "      <td>0.000000</td>\n",
              "      <td>0.000000</td>\n",
              "      <td>0.000000</td>\n",
              "      <td>0.000000</td>\n",
              "      <td>0.000000</td>\n",
              "      <td>0.000000</td>\n",
              "      <td>0.000000</td>\n",
              "      <td>0.000000</td>\n",
              "      <td>0.000000</td>\n",
              "      <td>0.000000</td>\n",
              "      <td>0.000000</td>\n",
              "      <td>0.000000</td>\n",
              "      <td>6.000000</td>\n",
              "    </tr>\n",
              "    <tr>\n",
              "      <th>max</th>\n",
              "      <td>15120.00000</td>\n",
              "      <td>3849.000000</td>\n",
              "      <td>360.000000</td>\n",
              "      <td>52.000000</td>\n",
              "      <td>1343.000000</td>\n",
              "      <td>554.000000</td>\n",
              "      <td>6890.000000</td>\n",
              "      <td>254.000000</td>\n",
              "      <td>254.000000</td>\n",
              "      <td>248.000000</td>\n",
              "      <td>6993.000000</td>\n",
              "      <td>1.000000</td>\n",
              "      <td>1.000000</td>\n",
              "      <td>1.000000</td>\n",
              "      <td>1.000000</td>\n",
              "      <td>1.000000</td>\n",
              "      <td>1.000000</td>\n",
              "      <td>1.000000</td>\n",
              "      <td>1.000000</td>\n",
              "      <td>1.000000</td>\n",
              "      <td>1.000000</td>\n",
              "      <td>0.0</td>\n",
              "      <td>1.000000</td>\n",
              "      <td>1.000000</td>\n",
              "      <td>1.000000</td>\n",
              "      <td>1.000000</td>\n",
              "      <td>1.000000</td>\n",
              "      <td>1.000000</td>\n",
              "      <td>1.000000</td>\n",
              "      <td>0.0</td>\n",
              "      <td>1.000000</td>\n",
              "      <td>1.000000</td>\n",
              "      <td>1.000000</td>\n",
              "      <td>1.000000</td>\n",
              "      <td>1.000000</td>\n",
              "      <td>1.000000</td>\n",
              "      <td>1.000000</td>\n",
              "      <td>1.000000</td>\n",
              "      <td>1.000000</td>\n",
              "      <td>1.000000</td>\n",
              "      <td>1.000000</td>\n",
              "      <td>1.000000</td>\n",
              "      <td>1.000000</td>\n",
              "      <td>1.000000</td>\n",
              "      <td>1.000000</td>\n",
              "      <td>1.000000</td>\n",
              "      <td>1.000000</td>\n",
              "      <td>1.000000</td>\n",
              "      <td>1.000000</td>\n",
              "      <td>1.000000</td>\n",
              "      <td>1.000000</td>\n",
              "      <td>1.000000</td>\n",
              "      <td>1.000000</td>\n",
              "      <td>1.000000</td>\n",
              "      <td>1.000000</td>\n",
              "      <td>7.000000</td>\n",
              "    </tr>\n",
              "  </tbody>\n",
              "</table>\n",
              "</div>"
            ],
            "text/plain": [
              "                Id     Elevation  ...   Soil_Type40    Cover_Type\n",
              "count  15120.00000  15120.000000  ...  15120.000000  15120.000000\n",
              "mean    7560.50000   2749.322553  ...      0.030357      4.000000\n",
              "std     4364.91237    417.678187  ...      0.171574      2.000066\n",
              "min        1.00000   1863.000000  ...      0.000000      1.000000\n",
              "25%     3780.75000   2376.000000  ...      0.000000      2.000000\n",
              "50%     7560.50000   2752.000000  ...      0.000000      4.000000\n",
              "75%    11340.25000   3104.000000  ...      0.000000      6.000000\n",
              "max    15120.00000   3849.000000  ...      1.000000      7.000000\n",
              "\n",
              "[8 rows x 56 columns]"
            ]
          },
          "metadata": {
            "tags": []
          },
          "execution_count": 2
        }
      ]
    },
    {
      "cell_type": "code",
      "metadata": {
        "id": "jPGkkLDamTly",
        "colab_type": "code",
        "colab": {
          "base_uri": "https://localhost:8080/",
          "height": 943
        },
        "outputId": "61a28c47-664f-4408-890e-7707bfcc34a6"
      },
      "source": [
        "data.nunique().sort_values(ascending=False)"
      ],
      "execution_count": 3,
      "outputs": [
        {
          "output_type": "execute_result",
          "data": {
            "text/plain": [
              "Id                                    15120\n",
              "Horizontal_Distance_To_Roadways        3250\n",
              "Horizontal_Distance_To_Fire_Points     2710\n",
              "Elevation                              1665\n",
              "Vertical_Distance_To_Hydrology          423\n",
              "Horizontal_Distance_To_Hydrology        400\n",
              "Aspect                                  361\n",
              "Hillshade_3pm                           247\n",
              "Hillshade_9am                           176\n",
              "Hillshade_Noon                          141\n",
              "Slope                                    52\n",
              "Cover_Type                                7\n",
              "Soil_Type29                               2\n",
              "Soil_Type28                               2\n",
              "Soil_Type5                                2\n",
              "Soil_Type4                                2\n",
              "Soil_Type3                                2\n",
              "Soil_Type2                                2\n",
              "Soil_Type1                                2\n",
              "Wilderness_Area4                          2\n",
              "Wilderness_Area3                          2\n",
              "Wilderness_Area2                          2\n",
              "Wilderness_Area1                          2\n",
              "Soil_Type30                               2\n",
              "Soil_Type31                               2\n",
              "Soil_Type32                               2\n",
              "Soil_Type33                               2\n",
              "Soil_Type34                               2\n",
              "Soil_Type35                               2\n",
              "Soil_Type36                               2\n",
              "Soil_Type37                               2\n",
              "Soil_Type38                               2\n",
              "Soil_Type39                               2\n",
              "Soil_Type6                                2\n",
              "Soil_Type13                               2\n",
              "Soil_Type8                                2\n",
              "Soil_Type19                               2\n",
              "Soil_Type27                               2\n",
              "Soil_Type26                               2\n",
              "Soil_Type25                               2\n",
              "Soil_Type24                               2\n",
              "Soil_Type23                               2\n",
              "Soil_Type22                               2\n",
              "Soil_Type21                               2\n",
              "Soil_Type20                               2\n",
              "Soil_Type18                               2\n",
              "Soil_Type9                                2\n",
              "Soil_Type17                               2\n",
              "Soil_Type16                               2\n",
              "Soil_Type14                               2\n",
              "Soil_Type40                               2\n",
              "Soil_Type12                               2\n",
              "Soil_Type11                               2\n",
              "Soil_Type10                               2\n",
              "Soil_Type15                               1\n",
              "Soil_Type7                                1\n",
              "dtype: int64"
            ]
          },
          "metadata": {
            "tags": []
          },
          "execution_count": 3
        }
      ]
    },
    {
      "cell_type": "code",
      "metadata": {
        "id": "hddJwH43E2MC",
        "colab_type": "code",
        "colab": {
          "base_uri": "https://localhost:8080/",
          "height": 147
        },
        "outputId": "37d1d03e-ceaa-4e2d-9a57-7315ca04a8fe"
      },
      "source": [
        "data[\"Cover_Type\"].value_counts(normalize=True)"
      ],
      "execution_count": 17,
      "outputs": [
        {
          "output_type": "execute_result",
          "data": {
            "text/plain": [
              "7    0.142857\n",
              "6    0.142857\n",
              "5    0.142857\n",
              "4    0.142857\n",
              "3    0.142857\n",
              "2    0.142857\n",
              "1    0.142857\n",
              "Name: Cover_Type, dtype: float64"
            ]
          },
          "metadata": {
            "tags": []
          },
          "execution_count": 17
        }
      ]
    },
    {
      "cell_type": "code",
      "metadata": {
        "id": "ivIGCS568sK3",
        "colab_type": "code",
        "colab": {}
      },
      "source": [
        "# pd.Series({c: data[c].unique() for c in data})[-40:]\n",
        "# [data[col].unique() for col in data]"
      ],
      "execution_count": 4,
      "outputs": []
    },
    {
      "cell_type": "markdown",
      "metadata": {
        "id": "3ue1pALV-enF",
        "colab_type": "text"
      },
      "source": [
        "Our target label is \"Cover_Type\"\n",
        "We will drop imb% imbalance low cardinal features. We also drop \"id\" column."
      ]
    },
    {
      "cell_type": "code",
      "metadata": {
        "id": "CfN8GfkU7wuw",
        "colab_type": "code",
        "colab": {}
      },
      "source": [
        "def skew_col(X, imb=0.99):\n",
        "  '''\n",
        "  Returns the sorted list of feature names \n",
        "  with imbalance exceeding imb value\n",
        "  '''\n",
        "  X=X.copy()\n",
        "  # drop the binary features with imb% imbalance\n",
        "  # mask = X.nunique().sort_values(ascending=False) < 5\n",
        "  # lowcard_col = X.nunique().sort_values(ascending=False)[mask].index\n",
        "\n",
        "  mask2 = pd.Series({col: X[col].value_counts().\n",
        "                     max()/X[col].value_counts().\n",
        "                     sum() for col in X.nunique().index}).sort_values(ascending=False)\n",
        "  \n",
        "  mask2 = mask2[mask2 >= imb]\n",
        "\n",
        "  Id_skew_cols = [\"Id\"] + list(mask2.index) \n",
        "  return Id_skew_cols"
      ],
      "execution_count": 4,
      "outputs": []
    },
    {
      "cell_type": "markdown",
      "metadata": {
        "id": "WNm6naxS6UV5",
        "colab_type": "text"
      },
      "source": [
        "### Train Test split:\n",
        "Target = \"Cover_Type\""
      ]
    },
    {
      "cell_type": "code",
      "metadata": {
        "id": "4fkwRU0eSrPt",
        "colab_type": "code",
        "colab": {
          "base_uri": "https://localhost:8080/",
          "height": 33
        },
        "outputId": "9a1605a7-6fd6-424f-9082-6e758ed6adc4"
      },
      "source": [
        "from sklearn.model_selection import train_test_split\n",
        "\n",
        "# Split train into train & val\n",
        "train, val = train_test_split(data, train_size=0.80, test_size=0.20, stratify=data[\"Cover_Type\"], \n",
        "                                random_state=42)\n",
        "print(f'train: {train.shape}, val: {val.shape}')\n",
        "\n",
        "\n",
        "# Separate class label and data \n",
        "y_train = train[\"Cover_Type\"]\n",
        "X_train = train.drop(\"Cover_Type\", axis=1)\n",
        "y_val = val[\"Cover_Type\"]\n",
        "X_val = val.drop(\"Cover_Type\", axis=1)"
      ],
      "execution_count": 5,
      "outputs": [
        {
          "output_type": "stream",
          "text": [
            "train: (12096, 56), val: (3024, 56)\n"
          ],
          "name": "stdout"
        }
      ]
    },
    {
      "cell_type": "code",
      "metadata": {
        "id": "TlVcSH9h9sZm",
        "colab_type": "code",
        "colab": {
          "base_uri": "https://localhost:8080/",
          "height": 163
        },
        "outputId": "595ddefd-e4ee-45fd-ec08-dde1bc1a0875"
      },
      "source": [
        "Id_skew_cols = skew_col(X_train, imb=0.999)\n",
        "Id_skew_cols"
      ],
      "execution_count": 9,
      "outputs": [
        {
          "output_type": "execute_result",
          "data": {
            "text/plain": [
              "['Id',\n",
              " 'Soil_Type15',\n",
              " 'Soil_Type7',\n",
              " 'Soil_Type25',\n",
              " 'Soil_Type8',\n",
              " 'Soil_Type28',\n",
              " 'Soil_Type9',\n",
              " 'Soil_Type36',\n",
              " 'Soil_Type27']"
            ]
          },
          "metadata": {
            "tags": []
          },
          "execution_count": 9
        }
      ]
    },
    {
      "cell_type": "code",
      "metadata": {
        "id": "g64XluQ6AAPw",
        "colab_type": "code",
        "colab": {}
      },
      "source": [
        "def wrangle(X, cols, drop_count=1):\n",
        "  '''\n",
        "  drops drop_count number of features from cols starting from index=0 (Id)\n",
        "  '''  \n",
        "  print(\"running transformer ....\")\n",
        "  X = X.copy()\n",
        "  X = X.drop(labels=cols[:drop_count], axis=1)\n",
        "  return X\n"
      ],
      "execution_count": 43,
      "outputs": []
    },
    {
      "cell_type": "code",
      "metadata": {
        "id": "WGb3uCdhJsbN",
        "colab_type": "code",
        "colab": {}
      },
      "source": [
        "%matplotlib inline\n",
        "import category_encoders as ce\n",
        "import matplotlib.pyplot as plt\n",
        "import seaborn as sns\n",
        "\n",
        "from sklearn.preprocessing import StandardScaler\n",
        "from sklearn.preprocessing import FunctionTransformer\n",
        "\n",
        "from sklearn.linear_model import RidgeCV\n",
        "from sklearn.linear_model import RidgeClassifier\n",
        "\n",
        "\n",
        "from sklearn.impute import SimpleImputer\n",
        "from sklearn.model_selection import train_test_split\n",
        "from sklearn.pipeline import make_pipeline\n",
        "from sklearn.ensemble import RandomForestClassifier\n",
        "from sklearn.linear_model import LogisticRegression\n",
        "\n",
        "from sklearn.model_selection import GridSearchCV, RandomizedSearchCV\n",
        "from sklearn.model_selection import cross_val_score\n",
        "from sklearn.model_selection import validation_curve\n",
        "\n",
        "from sklearn.metrics import accuracy_score, mean_absolute_error\n",
        "from sklearn.metrics import plot_confusion_matrix, classification_report, confusion_matrix\n",
        "\n",
        "\n",
        "import random \n"
      ],
      "execution_count": 77,
      "outputs": []
    },
    {
      "cell_type": "markdown",
      "metadata": {
        "id": "pmI8MbchXXjg",
        "colab_type": "text"
      },
      "source": [
        "### Baseline model"
      ]
    },
    {
      "cell_type": "code",
      "metadata": {
        "id": "R3IPHQJwQiY1",
        "colab_type": "code",
        "colab": {
          "base_uri": "https://localhost:8080/",
          "height": 147
        },
        "outputId": "792d507d-b4d8-4e02-8340-c72de997a9db"
      },
      "source": [
        "y_train.value_counts(normalize=True)"
      ],
      "execution_count": 12,
      "outputs": [
        {
          "output_type": "execute_result",
          "data": {
            "text/plain": [
              "7    0.142857\n",
              "6    0.142857\n",
              "5    0.142857\n",
              "4    0.142857\n",
              "3    0.142857\n",
              "2    0.142857\n",
              "1    0.142857\n",
              "Name: Cover_Type, dtype: float64"
            ]
          },
          "metadata": {
            "tags": []
          },
          "execution_count": 12
        }
      ]
    },
    {
      "cell_type": "markdown",
      "metadata": {
        "id": "1qVjjASQ_2ai",
        "colab_type": "text"
      },
      "source": [
        "* Check for Nan value"
      ]
    },
    {
      "cell_type": "code",
      "metadata": {
        "id": "6-SfTqQ-_Zxj",
        "colab_type": "code",
        "colab": {
          "base_uri": "https://localhost:8080/",
          "height": 33
        },
        "outputId": "e8ff6a95-1600-4288-c595-a5880cb222e7"
      },
      "source": [
        "X_train.isna().sum(axis=0).sum()"
      ],
      "execution_count": 15,
      "outputs": [
        {
          "output_type": "execute_result",
          "data": {
            "text/plain": [
              "0"
            ]
          },
          "metadata": {
            "tags": []
          },
          "execution_count": 15
        }
      ]
    },
    {
      "cell_type": "markdown",
      "metadata": {
        "id": "Yk1EMwEA_Pn3",
        "colab_type": "text"
      },
      "source": [
        "### Logistic regression"
      ]
    },
    {
      "cell_type": "code",
      "metadata": {
        "id": "ONZzZbMIQB8O",
        "colab_type": "code",
        "colab": {}
      },
      "source": [
        "def fit_rep(estimator, X_train, y_train, X_val, y_val, kwargs_dict):\n",
        "  estimator.set_params(functiontransformer__kw_args = kwargs_dict)\n",
        "\n",
        "  print(\"\\n fitting ...\")\n",
        "  estimator.fit(X_train, y_train)\n",
        "\n",
        "  print(\"\\n getting X_train transformed column labels\")\n",
        "  feat_name = estimator.named_steps['functiontransformer'].transform(X_train).columns\n",
        "  print(\"X_train cols:\", len(X_train.columns), \"X_fit cols:\", len(feat_name))\n",
        "  assert len(X_train.columns) == len(feat_name) + drop_count\n",
        "\n",
        "  print(\"\\n predicting ...\")\n",
        "  y_pred = estimator.predict(X_val)\n",
        "  \n",
        "  score_train = estimator.score(X_train, y_train)\n",
        "  score_val = estimator.score(X_val, y_val)\n",
        "\n",
        "  print(\"\\n score ...\")\n",
        "  print('Training score', score_train)\n",
        "  print('Validation score', score_val)\n",
        "\n",
        "  accuracy_score_train = accuracy_score(y_train, estimator.predict(X_train))\n",
        "  accuracy_score_val = accuracy_score(y_val, y_pred)\n",
        "\n",
        "  print(\"\\n Accuracy ...\")\n",
        "  print('Training Accuracy', accuracy_score_train)\n",
        "  print('Validation Accuracy', accuracy_score_val)\n",
        "\n",
        "  return estimator, y_pred, feat_name\n"
      ],
      "execution_count": 106,
      "outputs": []
    },
    {
      "cell_type": "code",
      "metadata": {
        "id": "ZfOBi-ANaWER",
        "colab_type": "code",
        "colab": {}
      },
      "source": [
        "def metric_rep(estimator, X_val, y_val):\n",
        "  \n",
        "  print(\"\\n predicting y ...\")\n",
        "  y_pred = estimator.predict(X_val)\n",
        "  \n",
        "  print(\"\\n plotting confusion matrix ...\")\n",
        "  plt.rcParams['figure.dpi'] = 100\n",
        "  plot_confusion_matrix(estimator, X_val, y_val, values_format='.0f', xticks_rotation='vertical')\n",
        "  \n",
        "  print(\"\\n calculating confusion matrix ...\")\n",
        "  C = pd.DataFrame(confusion_matrix(y_val, y_pred))\n",
        "  print(C)\n",
        "  truth_sum = C.sum(axis=1)\n",
        "  predict_sum = C.sum(axis=0)\n",
        "  pred_t = pd.Series([C.iloc[i,i] for i in range(len(C))])\n",
        "\n",
        "  recall = pred_t / truth_sum\n",
        "  precision = pred_t / predict_sum\n",
        "  accuracy = pred_t.sum() / truth_sum.sum()\n",
        "\n",
        "  print(\"\\n classification report ...\")\n",
        "  print(classification_report(y_val, y_pred, target_names=estimator.classes_.astype(str)))\n",
        "\n",
        "  return accuracy, precision, recall, y_pred"
      ],
      "execution_count": 107,
      "outputs": []
    },
    {
      "cell_type": "code",
      "metadata": {
        "id": "vO1Hiym1qTmb",
        "colab_type": "code",
        "colab": {}
      },
      "source": [
        "drop_count = len(Id_skew_cols)\n",
        "drop_cols = Id_skew_cols\n",
        "kwargs_dict ={'drop_count': drop_count,\n",
        "              'cols': drop_cols\n",
        "              }"
      ],
      "execution_count": 108,
      "outputs": []
    },
    {
      "cell_type": "code",
      "metadata": {
        "id": "v5ByEzXNAEkC",
        "colab_type": "code",
        "colab": {}
      },
      "source": [
        "# LogisticRegression\n",
        "LR = make_pipeline(\n",
        "    FunctionTransformer(wrangle, validate=False), \n",
        "    StandardScaler(),\n",
        "    LogisticRegression(random_state=42)\n",
        "    )"
      ],
      "execution_count": 112,
      "outputs": []
    },
    {
      "cell_type": "code",
      "metadata": {
        "id": "HZovmRwxHhhh",
        "colab_type": "code",
        "colab": {}
      },
      "source": [
        "# LR.named_steps['functiontransformer']"
      ],
      "execution_count": 110,
      "outputs": []
    },
    {
      "cell_type": "code",
      "metadata": {
        "id": "7K3Q2jUvULYu",
        "colab_type": "code",
        "colab": {
          "base_uri": "https://localhost:8080/",
          "height": 488
        },
        "outputId": "d6a3756c-bc3e-4fd8-a36f-14cc9f750194"
      },
      "source": [
        "(LR, y_pred_LR, feat_name_LR) = fit_rep(LR, X_train, y_train, X_val, y_val, kwargs_dict);"
      ],
      "execution_count": 113,
      "outputs": [
        {
          "output_type": "stream",
          "text": [
            "\n",
            " fitting ...\n",
            "running transformer ....\n",
            "\n",
            " getting X_train transformed column labels\n",
            "running transformer ....\n",
            "X_train cols: 55 X_fit cols: 46\n",
            "\n",
            " predicting ...\n",
            "running transformer ....\n",
            "running transformer ....\n",
            "running transformer ....\n",
            "\n",
            " score ...\n",
            "Training score 0.7130456349206349\n",
            "Validation score 0.6911375661375662\n",
            "running transformer ....\n",
            "\n",
            " Accuracy ...\n",
            "Training Accuracy 0.7130456349206349\n",
            "Validation Accuracy 0.6911375661375662\n"
          ],
          "name": "stdout"
        },
        {
          "output_type": "stream",
          "text": [
            "/usr/local/lib/python3.6/dist-packages/sklearn/linear_model/_logistic.py:940: ConvergenceWarning: lbfgs failed to converge (status=1):\n",
            "STOP: TOTAL NO. of ITERATIONS REACHED LIMIT.\n",
            "\n",
            "Increase the number of iterations (max_iter) or scale the data as shown in:\n",
            "    https://scikit-learn.org/stable/modules/preprocessing.html\n",
            "Please also refer to the documentation for alternative solver options:\n",
            "    https://scikit-learn.org/stable/modules/linear_model.html#logistic-regression\n",
            "  extra_warning_msg=_LOGISTIC_SOLVER_CONVERGENCE_MSG)\n"
          ],
          "name": "stderr"
        }
      ]
    },
    {
      "cell_type": "code",
      "metadata": {
        "id": "KjUVp5GmibJK",
        "colab_type": "code",
        "colab": {
          "base_uri": "https://localhost:8080/",
          "height": 946
        },
        "outputId": "ee2e99b2-be1f-43f9-de9c-401342ad62a0"
      },
      "source": [
        "accuracy_LR, precision_LR, recall_LR, y_pred_LR = metric_rep(LR, X_val, y_val);\n",
        "print(f\"******\\n accuracy is {accuracy_LR:.2f}\\n******\")"
      ],
      "execution_count": 114,
      "outputs": [
        {
          "output_type": "stream",
          "text": [
            "\n",
            " predicting y ...\n",
            "running transformer ....\n",
            "\n",
            " plotting confusion matrix ...\n",
            "running transformer ....\n",
            "\n",
            " calculating confusion matrix ...\n",
            "     0    1    2    3    4    5    6\n",
            "0  292   79    1    0   14    0   46\n",
            "1  102  216   12    0   77   21    4\n",
            "2    0    4  226   53   21  128    0\n",
            "3    0    0   32  377    0   23    0\n",
            "4    6   64   10    0  323   29    0\n",
            "5    0    5  102   28   17  280    0\n",
            "6   55    0    0    0    1    0  376\n",
            "\n",
            " classification report ...\n",
            "              precision    recall  f1-score   support\n",
            "\n",
            "           1       0.64      0.68      0.66       432\n",
            "           2       0.59      0.50      0.54       432\n",
            "           3       0.59      0.52      0.55       432\n",
            "           4       0.82      0.87      0.85       432\n",
            "           5       0.71      0.75      0.73       432\n",
            "           6       0.58      0.65      0.61       432\n",
            "           7       0.88      0.87      0.88       432\n",
            "\n",
            "    accuracy                           0.69      3024\n",
            "   macro avg       0.69      0.69      0.69      3024\n",
            "weighted avg       0.69      0.69      0.69      3024\n",
            "\n",
            "******\n",
            " accuracy is 0.69\n",
            "******\n"
          ],
          "name": "stdout"
        },
        {
          "output_type": "display_data",
          "data": {
            "image/png": "[encoded data removed]",
            "text/plain": [
              "<Figure size 600x400 with 2 Axes>"
            ]
          },
          "metadata": {
            "tags": [],
            "needs_background": "light"
          }
        }
      ]
    },
    {
      "cell_type": "code",
      "metadata": {
        "colab_type": "code",
        "id": "o249J9AlqoH8",
        "colab": {}
      },
      "source": [
        "# RidgeClassifier\n",
        "RC = make_pipeline(\n",
        "    FunctionTransformer(wrangle, validate=False), \n",
        "    StandardScaler(),\n",
        "    RidgeClassifier(alpha=1.0, fit_intercept=True, normalize=False, copy_X=True, \n",
        "                    max_iter=None, tol=0.001, class_weight=None, solver='auto', \n",
        "                    random_state=42)\n",
        "    )"
      ],
      "execution_count": 103,
      "outputs": []
    },
    {
      "cell_type": "code",
      "metadata": {
        "id": "o4d5d9mwr07x",
        "colab_type": "code",
        "colab": {
          "base_uri": "https://localhost:8080/",
          "height": 358
        },
        "outputId": "4836d048-2da5-46f9-b124-4eccd927b214"
      },
      "source": [
        "(RC, y_pred_RC, feat_name_RC) = fit_rep(RC, X_train, y_train, X_val, y_val, kwargs_dict)"
      ],
      "execution_count": 104,
      "outputs": [
        {
          "output_type": "stream",
          "text": [
            "\n",
            " fitting ...\n",
            "running transformer ....\n",
            "\n",
            " getting X_train transformed column labels\n",
            "running transformer ....\n",
            "X_train cols: 55 X_fit cols: 46\n",
            "\n",
            " predicting ...\n",
            "running transformer ....\n",
            "running transformer ....\n",
            "running transformer ....\n",
            "\n",
            " score ...\n",
            "Training score 0.6384755291005291\n",
            "Validation score 0.6329365079365079\n",
            "running transformer ....\n",
            "\n",
            " Accuracy ...\n",
            "Training Accuracy 0.6384755291005291\n",
            "Validation Accuracy 0.6329365079365079\n"
          ],
          "name": "stdout"
        }
      ]
    },
    {
      "cell_type": "code",
      "metadata": {
        "id": "ErPQnOcwr-6q",
        "colab_type": "code",
        "colab": {
          "base_uri": "https://localhost:8080/",
          "height": 946
        },
        "outputId": "8913a4a4-c47c-41a7-f6c7-87ebe955169e"
      },
      "source": [
        "accuracy_RC, precision_RC, recall_RC, y_pred_RC = metric_rep(RC, X_val, y_val)\n",
        "print(f\"******\\n accuracy is {accuracy_RC:.2f}\\n******\")"
      ],
      "execution_count": 105,
      "outputs": [
        {
          "output_type": "stream",
          "text": [
            "\n",
            " predicting y ...\n",
            "running transformer ....\n",
            "\n",
            " plotting confusion matrix ...\n",
            "running transformer ....\n",
            "\n",
            " calculating confusion matrix ...\n",
            "     0    1    2    3    4    5    6\n",
            "0  288   74    1    0   28    2   39\n",
            "1  100  209    3    7   83   26    4\n",
            "2    0    3  170   79   17  163    0\n",
            "3    0    0   26  364    0   42    0\n",
            "4   26   64   42    8  271   21    0\n",
            "5    0   15   67   50   37  263    0\n",
            "6   72    4    1    0    6    0  349\n",
            "\n",
            " classification report ...\n",
            "              precision    recall  f1-score   support\n",
            "\n",
            "           1       0.59      0.67      0.63       432\n",
            "           2       0.57      0.48      0.52       432\n",
            "           3       0.55      0.39      0.46       432\n",
            "           4       0.72      0.84      0.77       432\n",
            "           5       0.61      0.63      0.62       432\n",
            "           6       0.51      0.61      0.55       432\n",
            "           7       0.89      0.81      0.85       432\n",
            "\n",
            "    accuracy                           0.63      3024\n",
            "   macro avg       0.63      0.63      0.63      3024\n",
            "weighted avg       0.63      0.63      0.63      3024\n",
            "\n",
            "******\n",
            " accuracy is 0.63\n",
            "******\n"
          ],
          "name": "stdout"
        },
        {
          "output_type": "display_data",
          "data": {
            "image/png": "[encoded data removed]",
            "text/plain": [
              "<Figure size 600x400 with 2 Axes>"
            ]
          },
          "metadata": {
            "tags": [],
            "needs_background": "light"
          }
        }
      ]
    },
    {
      "cell_type": "markdown",
      "metadata": {
        "id": "qgk70t9yQJtU",
        "colab_type": "text"
      },
      "source": [
        "### Randomforestclassifier and feature_importances_"
      ]
    },
    {
      "cell_type": "code",
      "metadata": {
        "id": "8Ov4r3AOJHaT",
        "colab_type": "code",
        "colab": {}
      },
      "source": [
        "# RandomForestClassifier\n",
        "rfc = make_pipeline(\n",
        "    FunctionTransformer(wrangle, validate=False), \n",
        "    RandomForestClassifier(n_estimators=50, criterion=\"entropy\", max_depth=20, \n",
        "                           min_samples_split=2, min_samples_leaf=8, min_weight_fraction_leaf=0.0, \n",
        "                           max_features=20, max_leaf_nodes=None, min_impurity_decrease=0.0, \n",
        "                           min_impurity_split=None, bootstrap=True, oob_score=False, n_jobs=-1, \n",
        "                           random_state=42, verbose=0, warm_start=False, class_weight=None, \n",
        "                           ccp_alpha=0.0, max_samples=None)\n",
        "    )\n"
      ],
      "execution_count": 116,
      "outputs": []
    },
    {
      "cell_type": "code",
      "metadata": {
        "id": "UQgybXG7to7z",
        "colab_type": "code",
        "colab": {}
      },
      "source": [
        "estimator = [LR, RC, rfc]\n",
        "est = estimator[2]"
      ],
      "execution_count": 136,
      "outputs": []
    },
    {
      "cell_type": "code",
      "metadata": {
        "id": "S_yn4xq0tnTV",
        "colab_type": "code",
        "colab": {
          "base_uri": "https://localhost:8080/",
          "height": 813
        },
        "outputId": "31973052-e157-46f4-960b-46af70b6d02e"
      },
      "source": [
        "(est, y_pred, feat_name) = fit_rep(est, X_train, y_train, X_val, y_val, kwargs_dict)\n",
        "estimator[2] = est\n",
        "estimator[2]"
      ],
      "execution_count": 137,
      "outputs": [
        {
          "output_type": "stream",
          "text": [
            "\n",
            " fitting ...\n",
            "running transformer ....\n",
            "\n",
            " getting X_train transformed column labels\n",
            "running transformer ....\n",
            "X_train cols: 55 X_fit cols: 46\n",
            "\n",
            " predicting ...\n",
            "running transformer ....\n",
            "running transformer ....\n",
            "running transformer ....\n",
            "\n",
            " score ...\n",
            "Training score 0.9107142857142857\n",
            "Validation score 0.8306878306878307\n",
            "running transformer ....\n",
            "\n",
            " Accuracy ...\n",
            "Training Accuracy 0.9107142857142857\n",
            "Validation Accuracy 0.8306878306878307\n"
          ],
          "name": "stdout"
        },
        {
          "output_type": "execute_result",
          "data": {
            "text/plain": [
              "Pipeline(memory=None,\n",
              "         steps=[('functiontransformer',\n",
              "                 FunctionTransformer(accept_sparse=False, check_inverse=True,\n",
              "                                     func=<function wrangle at 0x7fcc7f0fde18>,\n",
              "                                     inv_kw_args=None, inverse_func=None,\n",
              "                                     kw_args={'cols': ['Id', 'Soil_Type15',\n",
              "                                                       'Soil_Type7',\n",
              "                                                       'Soil_Type25',\n",
              "                                                       'Soil_Type8',\n",
              "                                                       'Soil_Type28',\n",
              "                                                       'Soil_Type9',\n",
              "                                                       'Soil_Type36',\n",
              "                                                       'Soil_Type27'],\n",
              "                                              'drop_count': 9},\n",
              "                                     validate=False)),\n",
              "                (...\n",
              "                 RandomForestClassifier(bootstrap=True, ccp_alpha=0.0,\n",
              "                                        class_weight=None, criterion='entropy',\n",
              "                                        max_depth=20, max_features=20,\n",
              "                                        max_leaf_nodes=None, max_samples=None,\n",
              "                                        min_impurity_decrease=0.0,\n",
              "                                        min_impurity_split=None,\n",
              "                                        min_samples_leaf=8, min_samples_split=2,\n",
              "                                        min_weight_fraction_leaf=0.0,\n",
              "                                        n_estimators=50, n_jobs=-1,\n",
              "                                        oob_score=False, random_state=42,\n",
              "                                        verbose=0, warm_start=False))],\n",
              "         verbose=False)"
            ]
          },
          "metadata": {
            "tags": []
          },
          "execution_count": 137
        }
      ]
    },
    {
      "cell_type": "code",
      "metadata": {
        "id": "G3W2RCjQ2svb",
        "colab_type": "code",
        "colab": {
          "base_uri": "https://localhost:8080/",
          "height": 1000
        },
        "outputId": "9d9cfbe7-e267-4802-b31c-213ca9cb1ba1"
      },
      "source": [
        "estimator"
      ],
      "execution_count": 139,
      "outputs": [
        {
          "output_type": "execute_result",
          "data": {
            "text/plain": [
              "[Pipeline(memory=None,\n",
              "          steps=[('functiontransformer',\n",
              "                  FunctionTransformer(accept_sparse=False, check_inverse=True,\n",
              "                                      func=<function wrangle at 0x7fcc7f0fde18>,\n",
              "                                      inv_kw_args=None, inverse_func=None,\n",
              "                                      kw_args={'cols': ['Id', 'Soil_Type15',\n",
              "                                                        'Soil_Type7',\n",
              "                                                        'Soil_Type25',\n",
              "                                                        'Soil_Type8',\n",
              "                                                        'Soil_Type28',\n",
              "                                                        'Soil_Type9',\n",
              "                                                        'Soil_Type36',\n",
              "                                                        'Soil_Type27'],\n",
              "                                               'drop_count': 9},\n",
              "                                      validate=False)),\n",
              "                 ('standardscaler',\n",
              "                  StandardScaler(copy=True, with_mean=True, with_std=True)),\n",
              "                 ('logisticregression',\n",
              "                  LogisticRegression(C=1.0, class_weight=None, dual=False,\n",
              "                                     fit_intercept=True, intercept_scaling=1,\n",
              "                                     l1_ratio=None, max_iter=100,\n",
              "                                     multi_class='auto', n_jobs=None,\n",
              "                                     penalty='l2', random_state=42,\n",
              "                                     solver='lbfgs', tol=0.0001, verbose=0,\n",
              "                                     warm_start=False))],\n",
              "          verbose=False), Pipeline(memory=None,\n",
              "          steps=[('functiontransformer',\n",
              "                  FunctionTransformer(accept_sparse=False, check_inverse=True,\n",
              "                                      func=<function wrangle at 0x7fcc7f0fde18>,\n",
              "                                      inv_kw_args=None, inverse_func=None,\n",
              "                                      kw_args={'cols': ['Id', 'Soil_Type15',\n",
              "                                                        'Soil_Type7',\n",
              "                                                        'Soil_Type25',\n",
              "                                                        'Soil_Type8',\n",
              "                                                        'Soil_Type28',\n",
              "                                                        'Soil_Type9',\n",
              "                                                        'Soil_Type36',\n",
              "                                                        'Soil_Type27'],\n",
              "                                               'drop_count': 9},\n",
              "                                      validate=False)),\n",
              "                 ('standardscaler',\n",
              "                  StandardScaler(copy=True, with_mean=True, with_std=True)),\n",
              "                 ('ridgeclassifier',\n",
              "                  RidgeClassifier(alpha=1.0, class_weight=None, copy_X=True,\n",
              "                                  fit_intercept=True, max_iter=None,\n",
              "                                  normalize=False, random_state=42,\n",
              "                                  solver='auto', tol=0.001))],\n",
              "          verbose=False), Pipeline(memory=None,\n",
              "          steps=[('functiontransformer',\n",
              "                  FunctionTransformer(accept_sparse=False, check_inverse=True,\n",
              "                                      func=<function wrangle at 0x7fcc7f0fde18>,\n",
              "                                      inv_kw_args=None, inverse_func=None,\n",
              "                                      kw_args={'cols': ['Id', 'Soil_Type15',\n",
              "                                                        'Soil_Type7',\n",
              "                                                        'Soil_Type25',\n",
              "                                                        'Soil_Type8',\n",
              "                                                        'Soil_Type28',\n",
              "                                                        'Soil_Type9',\n",
              "                                                        'Soil_Type36',\n",
              "                                                        'Soil_Type27'],\n",
              "                                               'drop_count': 9},\n",
              "                                      validate=False)),\n",
              "                 (...\n",
              "                  RandomForestClassifier(bootstrap=True, ccp_alpha=0.0,\n",
              "                                         class_weight=None, criterion='entropy',\n",
              "                                         max_depth=20, max_features=20,\n",
              "                                         max_leaf_nodes=None, max_samples=None,\n",
              "                                         min_impurity_decrease=0.0,\n",
              "                                         min_impurity_split=None,\n",
              "                                         min_samples_leaf=8, min_samples_split=2,\n",
              "                                         min_weight_fraction_leaf=0.0,\n",
              "                                         n_estimators=50, n_jobs=-1,\n",
              "                                         oob_score=False, random_state=42,\n",
              "                                         verbose=0, warm_start=False))],\n",
              "          verbose=False)]"
            ]
          },
          "metadata": {
            "tags": []
          },
          "execution_count": 139
        }
      ]
    },
    {
      "cell_type": "code",
      "metadata": {
        "id": "bJcNt_Z0eiVA",
        "colab_type": "code",
        "colab": {}
      },
      "source": [
        "## tree depth analysis\n",
        "# max_depth = list()\n",
        "# for tree in clf.estimators_:\n",
        "#     max_depth.append(tree.tree_.max_depth)\n",
        "\n",
        "# print(\"avg max depth %0.1f\" % (sum(max_depth) / len(max_depth)))\n",
        "\n"
      ],
      "execution_count": null,
      "outputs": []
    },
    {
      "cell_type": "code",
      "metadata": {
        "id": "DQP3MrKlJIbq",
        "colab_type": "code",
        "colab": {}
      },
      "source": [
        "## sklearn permutation_importances\n",
        "# from sklearn.inspection import permutation_importance\n",
        "# result = permutation_importance(pipeline, X_val, y_val, \n",
        "#                                 n_repeats=5, random_state=0)\n",
        "# result.keys()\n",
        "# df = pd.DataFrame({'feature': X_val.columns,\n",
        "#                    'importances_mean': np.round(result['importances_mean'], 4),\n",
        "#                    'importances_std': result['importances_std']\n",
        "#                    })\n",
        "# df.sort_values(by='importances_mean', ascending=False)"
      ],
      "execution_count": null,
      "outputs": []
    },
    {
      "cell_type": "code",
      "metadata": {
        "id": "jHgoV8YnNVJV",
        "colab_type": "code",
        "colab": {}
      },
      "source": [
        "# # Gradientboosting\n",
        "# from sklearn.ensemble import GradientBoostingClassifier\n",
        "# # It needs NaN to be dealth with\n",
        "# pipeline = make_pipeline(\n",
        "#     ce.OrdinalEncoder(), \n",
        "#     SimpleImputer(strategy='median'), \n",
        "#     GradientBoostingClassifier()\n",
        "# )\n",
        "\n",
        "# pipeline.fit(X_train, y_train)\n",
        "# print('Training Accuracy:', pipeline.score(X_train, y_train))\n",
        "# print('Validation Accuracy:', pipeline.score(X_val, y_val))"
      ],
      "execution_count": null,
      "outputs": []
    },
    {
      "cell_type": "code",
      "metadata": {
        "id": "m_SXWfUoOWhP",
        "colab_type": "code",
        "colab": {}
      },
      "source": [
        "# # XGBoost\n",
        "# from xgboost import XGBClassifier\n",
        "# pipeline = make_pipeline(\n",
        "#     ce.OrdinalEncoder(),\n",
        "#     XGBClassifier(n_estimators=100, random_state=42, n_jobs=6)\n",
        "# )\n",
        "\n",
        "# pipeline.fit(X_train, y_train)\n",
        "\n",
        "# print('Training Accuracy:', pipeline.score(X_train, y_train))\n",
        "# print('Validation Accuracy:', pipeline.score(X_val, y_val))"
      ],
      "execution_count": null,
      "outputs": []
    },
    {
      "cell_type": "code",
      "metadata": {
        "id": "Z5oIbOciGqgH",
        "colab_type": "code",
        "colab": {}
      },
      "source": [
        "# # XGBoost early stop fit\n",
        "\n",
        "# encoder = ce.OrdinalEncoder()\n",
        "# X_train_encoded = encoder.fit_transform(X_train)\n",
        "# X_val_encoded = encoder.transform(X_val)\n",
        "# X_test_encoded = encoder.transform(X_test)\n",
        "\n",
        "# model = XGBClassifier(\n",
        "#     n_estimators = 1000,\n",
        "#     max_depth=8,\n",
        "#     learning_rate=0.5,\n",
        "#     num_parallel_tree = 10,\n",
        "#     n_jobs=-1\n",
        "# )\n",
        "\n",
        "# eval_set = [(X_train_encoded, y_train), \n",
        "#             (X_val_encoded, y_val)]\n",
        "\n",
        "# model.fit(X_train_encoded, y_train, \n",
        "#           eval_set=eval_set, \n",
        "#           eval_metric=['merror', 'mlogloss'], \n",
        "#           early_stopping_rounds=50,\n",
        "#           verbose=True) # Stop if the score hasn't improved in 50 rounds\n",
        "\n",
        "# print('Training Accuracy:', pipeline.score(X_train_encoded, y_train))\n",
        "# print('Validation Accuracy:', pipeline.score(X_val_encoded, y_val))\n",
        "\n",
        "# y_pred = model.predict(X_test_encoded)\n",
        "# print(y_pred)\n",
        "\n",
        "# import matplotlib.pyplot as plt\n",
        "# # retrieve performance metrics\n",
        "# results = model.evals_result()\n",
        "# print(results.keys())\n",
        "# # number of rounds before stop fitting is 148\n",
        "# n_rounds = len(results['validation_1'][\"merror\"])\n",
        "# x_axis = range(0, n_rounds)\n",
        "\n",
        "# # plot classification error\n",
        "# fig, (ax1, ax2) = plt.subplots(1,2, figsize=(16,8))\n",
        "\n",
        "# ax1.plot(x_axis, results['validation_0']['merror'], label='Train')\n",
        "# ax1.plot(x_axis, results['validation_1']['merror'], label='Validation')\n",
        "# ax1.legend()\n",
        "# plt.ylabel('Classification MError')\n",
        "# plt.title('XGBoost Classification MError')\n",
        "\n",
        "# ax2.plot(x_axis, results['validation_0']['mlogloss'], label='Train')\n",
        "# ax2.plot(x_axis, results['validation_1']['mlogloss'], label='Validation')\n",
        "# ax2.legend()\n",
        "# plt.ylabel('Log Loss')\n",
        "# plt.title('XGBoost Log Loss')\n",
        "\n",
        "# plt.show()\n",
        "\n"
      ],
      "execution_count": null,
      "outputs": []
    },
    {
      "cell_type": "code",
      "metadata": {
        "id": "vJCY1H6ab5ew",
        "colab_type": "code",
        "colab": {
          "base_uri": "https://localhost:8080/",
          "height": 342
        },
        "outputId": "19d10c6f-e983-4ae8-9c93-4d869e747447"
      },
      "source": [
        "print(f' X_train shape before pipeline: {X_train.shape}')\n",
        "\n",
        "# Make pipeline!\n",
        "pipeline = make_pipeline(\n",
        "    FunctionTransformer(wrangle, validate=False), \n",
        "    # ce.OrdinalEncoder(), \n",
        "    # SimpleImputer(strategy='mean'), \n",
        "    RandomForestClassifier(n_estimators=50, criterion=\"entropy\", max_depth=20, \n",
        "                           min_samples_split=2, min_samples_leaf=8, min_weight_fraction_leaf=0.0, \n",
        "                           max_features=20, max_leaf_nodes=None, min_impurity_decrease=0.0, \n",
        "                           min_impurity_split=None, bootstrap=True, oob_score=False, n_jobs=-1, \n",
        "                           random_state=42, verbose=0, warm_start=False, class_weight=None, \n",
        "                           ccp_alpha=0.0, max_samples=None)\n",
        "    )\n",
        "\n",
        "drop_count = int(0.1*len(Id_skew_cols))\n",
        "pipeline.set_params(functiontransformer__kw_args={'drop_count': drop_count})\n",
        "\n",
        "#.fit: WITHOUT CHANGING X APPLIES THE TRANSFORM AND CHECK TO SEE IF y FITS TRANSFORMED OF X\n",
        "print(\"\\n fitting ...\")\n",
        "pipeline.fit(X_train, y_train)\n",
        "\n",
        "print(\"\\n getting X_train transformed column labels\")\n",
        "feat_name = pipeline.named_steps['functiontransformer'].transform(X_train).columns\n",
        "\n",
        "print(\"X_train: \", len(X_train.columns), \"X_fit: \", len(feat_name))\n",
        "assert len(X_train.columns) == len(feat_name) + drop_count\n",
        "\n",
        "print(\"\\n predicting ...\")\n",
        "y_pred = pipeline.predict(X_val)\n",
        "\n",
        "print(\"\\n Accuracy ...\")\n",
        "print('Training Accuracy', accuracy_score(y_train, pipeline.predict(X_train)))\n",
        "print('Validation Accuracy', accuracy_score(y_val, y_pred))"
      ],
      "execution_count": 208,
      "outputs": [
        {
          "output_type": "stream",
          "text": [
            " X_train shape before pipeline: (12096, 55)\n",
            "\n",
            " fitting ...\n",
            "drop_count parameter:  5\n",
            "X shape before return: (12096, 50)\n",
            "\n",
            " getting X_train transformed column labels\n",
            "drop_count parameter:  5\n",
            "X shape before return: (12096, 50)\n",
            "X_train:  55 X_fit:  50\n",
            "\n",
            " predicting ...\n",
            "drop_count parameter:  5\n",
            "X shape before return: (3024, 50)\n",
            "\n",
            " Accuracy ...\n",
            "drop_count parameter:  5\n",
            "X shape before return: (12096, 50)\n",
            "Training Accuracy 0.9040178571428571\n",
            "Validation Accuracy 0.8214285714285714\n"
          ],
          "name": "stdout"
        }
      ]
    },
    {
      "cell_type": "code",
      "metadata": {
        "id": "FOk_Is2MxMer",
        "colab_type": "code",
        "colab": {
          "base_uri": "https://localhost:8080/",
          "height": 33
        },
        "outputId": "04425952-5083-4d2a-997f-45c1f2907948"
      },
      "source": [
        "rf = pipeline.named_steps['randomforestclassifier']\n",
        "print(pipeline.named_steps['randomforestclassifier'].n_features_)\n",
        "importances = pd.Series(rf.feature_importances_, feat_name).sort_values(ascending=True)"
      ],
      "execution_count": 209,
      "outputs": [
        {
          "output_type": "stream",
          "text": [
            "50\n"
          ],
          "name": "stdout"
        }
      ]
    },
    {
      "cell_type": "code",
      "metadata": {
        "id": "bVbUumAUqJZQ",
        "colab_type": "code",
        "colab": {
          "base_uri": "https://localhost:8080/",
          "height": 608
        },
        "outputId": "5ec50c3b-2086-40f2-defb-7509a452ef92"
      },
      "source": [
        "plt.figure(figsize=(15,10))\n",
        "importances.plot.barh()"
      ],
      "execution_count": 210,
      "outputs": [
        {
          "output_type": "execute_result",
          "data": {
            "text/plain": [
              "<matplotlib.axes._subplots.AxesSubplot at 0x7f684ce9e6a0>"
            ]
          },
          "metadata": {
            "tags": []
          },
          "execution_count": 210
        },
        {
          "output_type": "display_data",
          "data": {
            "image/png": "[encoded data removed]",
            "text/plain": [
              "<Figure size 1080x720 with 1 Axes>"
            ]
          },
          "metadata": {
            "tags": [],
            "needs_background": "light"
          }
        }
      ]
    },
    {
      "cell_type": "markdown",
      "metadata": {
        "id": "ugIdHEAvM9ET",
        "colab_type": "text"
      },
      "source": [
        "In the presence of all the features, feature_importance_ of Id column ranks relatively high. Hence, feature_importance_ by itself cannot be a deciding factor. We drop 10% of skewed columns to get 82% accuracy"
      ]
    },
    {
      "cell_type": "markdown",
      "metadata": {
        "id": "6do_jQRt64wH",
        "colab_type": "text"
      },
      "source": [
        "### Cross Validation Curve for skewed features"
      ]
    },
    {
      "cell_type": "code",
      "metadata": {
        "id": "6q5ZljwKZjUt",
        "colab_type": "code",
        "colab": {
          "base_uri": "https://localhost:8080/",
          "height": 1000
        },
        "outputId": "8778cecb-f086-4961-bdff-1e14d93301df"
      },
      "source": [
        "par_name = \"drop_count\"\n",
        "param_range = [{par_name: i} for i in range(len(Id_skew_cols))]\n",
        "param_rangex = [i for i in range(len(Id_skew_cols))]\n",
        "\n",
        "# par_name = \"max_features\"\n",
        "# param_range = np.arange(0.1,1.1,0.1)\n",
        "# param_rangex = param_range\n",
        "               \n",
        "# par_name = \"max_depth\"\n",
        "# param_range = range(1,25,1)\n",
        "# param_rangex = param_range\n",
        "\n",
        "# par_name = \"min_samples_split\"\n",
        "# param_range = np.linspace(10, 0.01*len(X_train), 10, endpoint=True).astype(int)\n",
        "# param_rangex = param_range\n",
        "\n",
        "# par_name = \"min_samples_leaf\"\n",
        "# param_range = np.linspace(2, 0.001*len(X_train), 10, endpoint=True).astype(int)\n",
        "# param_rangex = param_range\n",
        "\n",
        "# par_name = \"criterion\"\n",
        "# param_range = [\"gini\", \"entropy\"]\n",
        "# param_rangex = param_range\n",
        "\n",
        "\n",
        "train_scores, val_scores = validation_curve(\n",
        "    pipeline, X_train, y_train,\n",
        "    param_name='functiontransformer__kw_args',\n",
        "    # param_name='randomforestclassifier__'+ par_name, \n",
        "    \n",
        "    param_range=param_range, \n",
        "    scoring='accuracy', \n",
        "    cv=5,\n",
        "    n_jobs=-1\n",
        ")\n",
        "print(\"val scores\", val_scores)\n",
        "print(\"val scores mean\", np.mean(val_scores, axis=1))\n",
        "\n",
        "# Averaging CV scores\n",
        "plt.figure(dpi=150)\n",
        "plt.plot(param_rangex, np.mean(train_scores, axis=1), color='blue', label='training accuracy')\n",
        "plt.plot(param_rangex, np.mean(val_scores, axis=1), color='red', label='validation accuracy')\n",
        "plt.title('Validation Curve')\n",
        "plt.xlabel(f'model complexity: Pipeline {par_name}')\n",
        "plt.ylabel('model score: Accuracy')\n",
        "plt.legend();"
      ],
      "execution_count": 211,
      "outputs": [
        {
          "output_type": "stream",
          "text": [
            "val scores [[0.82231405 0.82596114 0.82389417 0.8222406  0.81893344]\n",
            " [0.80867769 0.8147995  0.81438611 0.81603969 0.80942538]\n",
            " [0.81528926 0.81438611 0.81397272 0.81025217 0.80611823]\n",
            " [0.81280992 0.81934684 0.81686647 0.80694502 0.8147995 ]\n",
            " [0.81942149 0.8218272  0.80777181 0.8147995  0.81273253]\n",
            " [0.80702479 0.81190575 0.81397272 0.80901199 0.80777181]\n",
            " [0.81404959 0.82306738 0.81562629 0.80239768 0.80487805]\n",
            " [0.81363636 0.81893344 0.80942538 0.81976023 0.80446465]\n",
            " [0.80950413 0.81852005 0.8147995  0.81066556 0.80198429]\n",
            " [0.8177686  0.81810666 0.8152129  0.81397272 0.80777181]\n",
            " [0.8107438  0.81438611 0.8081852  0.81107896 0.80198429]\n",
            " [0.81033058 0.81397272 0.81727987 0.81066556 0.79950393]\n",
            " [0.81942149 0.82100041 0.81686647 0.81149235 0.80859859]\n",
            " [0.81322314 0.80529144 0.81603969 0.81273253 0.80859859]\n",
            " [0.8177686  0.81231914 0.81231914 0.81149235 0.81314593]\n",
            " [0.81487603 0.8081852  0.81810666 0.81686647 0.80611823]\n",
            " [0.80371901 0.80198429 0.80942538 0.80694502 0.81149235]\n",
            " [0.81859504 0.8147995  0.81603969 0.81686647 0.82100041]\n",
            " [0.81115702 0.80529144 0.81273253 0.81438611 0.81025217]\n",
            " [0.80743802 0.81273253 0.81397272 0.80942538 0.80735841]\n",
            " [0.81239669 0.81355932 0.8081852  0.80859859 0.81273253]\n",
            " [0.80867769 0.81397272 0.8152129  0.81355932 0.80983878]\n",
            " [0.80413223 0.81231914 0.80529144 0.80281108 0.80942538]\n",
            " [0.80743802 0.82348078 0.81231914 0.80611823 0.79785035]\n",
            " [0.80743802 0.8152129  0.80653162 0.8081852  0.8011575 ]\n",
            " [0.8053719  0.81934684 0.80901199 0.80653162 0.80694502]\n",
            " [0.80785124 0.81686647 0.81314593 0.80446465 0.81934684]\n",
            " [0.81280992 0.8218272  0.80405126 0.81149235 0.80859859]\n",
            " [0.80950413 0.81355932 0.80487805 0.80611823 0.80859859]\n",
            " [0.80330579 0.81852005 0.82017363 0.8081852  0.80487805]\n",
            " [0.80619835 0.80942538 0.80859859 0.80570484 0.81066556]\n",
            " [0.80950413 0.80942538 0.80735841 0.80529144 0.80405126]\n",
            " [0.81280992 0.80777181 0.80777181 0.80859859 0.80239768]\n",
            " [0.80165289 0.80322447 0.80405126 0.79909053 0.80446465]\n",
            " [0.81694215 0.81438611 0.81852005 0.80405126 0.80653162]\n",
            " [0.81363636 0.81190575 0.79702356 0.80694502 0.80281108]\n",
            " [0.80082645 0.80570484 0.80611823 0.80033072 0.8015709 ]\n",
            " [0.81528926 0.81066556 0.81355932 0.79702356 0.80405126]\n",
            " [0.8053719  0.81025217 0.80281108 0.80033072 0.80074411]\n",
            " [0.80289256 0.81107896 0.80653162 0.79991732 0.80901199]\n",
            " [0.79090909 0.80529144 0.79867714 0.80322447 0.80281108]\n",
            " [0.80165289 0.8147995  0.80198429 0.79330302 0.79950393]\n",
            " [0.80330579 0.79909053 0.80074411 0.79123605 0.79578338]\n",
            " [0.79090909 0.80239768 0.79247623 0.79247623 0.79661017]\n",
            " [0.79256198 0.80735841 0.79826375 0.79826375 0.79495659]\n",
            " [0.78842975 0.7875155  0.77924762 0.78172799 0.77346011]\n",
            " [0.78884298 0.7804878  0.78296817 0.78214138 0.77635387]\n",
            " [0.75702479 0.75899132 0.75733774 0.75279041 0.74865647]\n",
            " [0.75785124 0.73914841 0.75857792 0.74824308 0.73914841]\n",
            " [0.74876033 0.7395618  0.74782968 0.74245556 0.75403059]\n",
            " [0.74338843 0.73914841 0.75857792 0.7399752  0.72757338]]\n",
            "val scores mean [0.82266868 0.81266567 0.8120037  0.81415355 0.81531051 0.80993741\n",
            " 0.8120038  0.81324402 0.81109471 0.81456653 0.80927567 0.81035053\n",
            " 0.81547586 0.81117708 0.81340903 0.81283052 0.80671321 0.81746022\n",
            " 0.81076386 0.81018541 0.81109447 0.81225228 0.80679586 0.8094413\n",
            " 0.80770505 0.80944147 0.81233503 0.81175587 0.80853167 0.81101254\n",
            " 0.80811854 0.80712613 0.80786996 0.80249676 0.81208624 0.80646435\n",
            " 0.80291023 0.80811779 0.80390199 0.80588649 0.80018264 0.80224873\n",
            " 0.79803197 0.79497388 0.7982809  0.78207619 0.78215884 0.75496015\n",
            " 0.74859381 0.74652759 0.74173267]\n"
          ],
          "name": "stdout"
        },
        {
          "output_type": "display_data",
          "data": {
            "image/png": "[encoded data removed]",
            "text/plain": [
              "<Figure size 900x600 with 1 Axes>"
            ]
          },
          "metadata": {
            "tags": [],
            "needs_background": "light"
          }
        }
      ]
    },
    {
      "cell_type": "markdown",
      "metadata": {
        "id": "bUGB0cgVRs99",
        "colab_type": "text"
      },
      "source": [
        "beyoun 30 features drop, validation accuracy starts going down."
      ]
    },
    {
      "cell_type": "markdown",
      "metadata": {
        "id": "GxopC1JKTUsY",
        "colab_type": "text"
      },
      "source": [
        "### RandomizedSearchCV"
      ]
    },
    {
      "cell_type": "code",
      "metadata": {
        "id": "5cEzxfNTpmIB",
        "colab_type": "code",
        "colab": {}
      },
      "source": [
        "# pipe = make_pipeline(FunctionTransformer(log_columns, ), PCA(), SVC())\n",
        "\n",
        "# param_grid = dict(\n",
        "#     functiontransformer__kw_args=[\n",
        "#         {'col_idx': None},\n",
        "#         {'col_idx': [1]}\n",
        "#     ],\n",
        "#     pca__n_components=[2, 5, 10],\n",
        "#     svc__C=[0.1, 10, 100],\n",
        "# )\n",
        "# grid_search = GridSearchCV(pipe, param_grid=param_grid)\n",
        "\n",
        "# digits = load_digits()\n",
        "# res = grid_search.fit(digits.data, digits.target)      "
      ],
      "execution_count": 212,
      "outputs": []
    },
    {
      "cell_type": "code",
      "metadata": {
        "id": "4yyMSmLFRAMO",
        "colab_type": "code",
        "colab": {
          "base_uri": "https://localhost:8080/",
          "height": 1000
        },
        "outputId": "bfd93be1-dd66-4d58-ae1b-be81b87ee8fa"
      },
      "source": [
        "print('Model Hyperparameters:')\n",
        "print(pipeline.named_steps['randomforestclassifier'])\n",
        "\n",
        "x_n_iter = 1000\n",
        "\n",
        "param_distributions = {\n",
        "    # 'simpleimputer__strategy': ['mean', 'median', 'most_frequent'], \n",
        "     'functiontransformer__kw_args': [{par_name: i} for i in range(int(0.5*len(Id_skew_cols)))],\n",
        "    'randomforestclassifier__min_samples_leaf': [random.randint(1, 1000) for i in range(20)], \n",
        "    'randomforestclassifier__min_samples_split': [random.randint(2, 1000) for i in range(20)], \n",
        "    'randomforestclassifier__max_features': [random.randint(2, 54) for i in range(20)], \n",
        "    'randomforestclassifier__criterion': [\"gini\", \"entropy\"]\n",
        "    }\n",
        "\n",
        "rscv = RandomizedSearchCV(\n",
        "    pipeline, \n",
        "    param_distributions=param_distributions, \n",
        "    n_iter=x_n_iter, \n",
        "    cv=4, \n",
        "    scoring='accuracy', \n",
        "    verbose=10, \n",
        "    return_train_score=True, \n",
        "    n_jobs=-1\n",
        ")\n",
        "\n",
        "rscv.fit(X_train, y_train)\n",
        "\n",
        "bestpipe = rscv.best_estimator_\n",
        "print('Cross-validation Accuracy', rscv.best_score_)\n",
        "print('Best hyperparameters', rscv.best_params_)\n"
      ],
      "execution_count": 215,
      "outputs": [
        {
          "output_type": "stream",
          "text": [
            "Model Hyperparameters:\n",
            "RandomForestClassifier(bootstrap=True, ccp_alpha=0.0, class_weight=None,\n",
            "                       criterion='entropy', max_depth=20, max_features=0.5,\n",
            "                       max_leaf_nodes=None, max_samples=None,\n",
            "                       min_impurity_decrease=0.0, min_impurity_split=None,\n",
            "                       min_samples_leaf=6, min_samples_split=20,\n",
            "                       min_weight_fraction_leaf=0.0, n_estimators=10, n_jobs=-1,\n",
            "                       oob_score=False, random_state=42, verbose=0,\n",
            "                       warm_start=False)\n",
            "Fitting 4 folds for each of 1000 candidates, totalling 4000 fits\n"
          ],
          "name": "stdout"
        },
        {
          "output_type": "stream",
          "text": [
            "[Parallel(n_jobs=-1)]: Using backend LokyBackend with 2 concurrent workers.\n",
            "[Parallel(n_jobs=-1)]: Done   1 tasks      | elapsed:    0.6s\n",
            "[Parallel(n_jobs=-1)]: Done   4 tasks      | elapsed:    1.2s\n",
            "[Parallel(n_jobs=-1)]: Done   9 tasks      | elapsed:    2.8s\n",
            "[Parallel(n_jobs=-1)]: Done  14 tasks      | elapsed:    3.7s\n",
            "[Parallel(n_jobs=-1)]: Done  21 tasks      | elapsed:    4.5s\n",
            "[Parallel(n_jobs=-1)]: Done  28 tasks      | elapsed:    4.9s\n",
            "[Parallel(n_jobs=-1)]: Done  37 tasks      | elapsed:    6.8s\n",
            "[Parallel(n_jobs=-1)]: Done  46 tasks      | elapsed:    8.4s\n",
            "[Parallel(n_jobs=-1)]: Done  57 tasks      | elapsed:   10.3s\n",
            "[Parallel(n_jobs=-1)]: Done  68 tasks      | elapsed:   12.0s\n",
            "[Parallel(n_jobs=-1)]: Done  81 tasks      | elapsed:   13.9s\n",
            "[Parallel(n_jobs=-1)]: Done  94 tasks      | elapsed:   16.6s\n",
            "[Parallel(n_jobs=-1)]: Done 109 tasks      | elapsed:   19.2s\n",
            "[Parallel(n_jobs=-1)]: Done 124 tasks      | elapsed:   21.9s\n",
            "[Parallel(n_jobs=-1)]: Done 141 tasks      | elapsed:   25.2s\n",
            "[Parallel(n_jobs=-1)]: Done 158 tasks      | elapsed:   28.9s\n",
            "[Parallel(n_jobs=-1)]: Done 177 tasks      | elapsed:   32.8s\n",
            "[Parallel(n_jobs=-1)]: Done 196 tasks      | elapsed:   34.8s\n",
            "[Parallel(n_jobs=-1)]: Done 217 tasks      | elapsed:   39.6s\n",
            "[Parallel(n_jobs=-1)]: Done 238 tasks      | elapsed:   43.9s\n",
            "[Parallel(n_jobs=-1)]: Done 261 tasks      | elapsed:   47.4s\n",
            "[Parallel(n_jobs=-1)]: Done 284 tasks      | elapsed:   52.7s\n",
            "[Parallel(n_jobs=-1)]: Done 309 tasks      | elapsed:   56.7s\n",
            "[Parallel(n_jobs=-1)]: Done 334 tasks      | elapsed:  1.0min\n",
            "[Parallel(n_jobs=-1)]: Done 361 tasks      | elapsed:  1.1min\n",
            "[Parallel(n_jobs=-1)]: Done 388 tasks      | elapsed:  1.1min\n",
            "[Parallel(n_jobs=-1)]: Done 417 tasks      | elapsed:  1.2min\n",
            "[Parallel(n_jobs=-1)]: Done 446 tasks      | elapsed:  1.3min\n",
            "[Parallel(n_jobs=-1)]: Done 477 tasks      | elapsed:  1.4min\n",
            "[Parallel(n_jobs=-1)]: Done 508 tasks      | elapsed:  1.5min\n",
            "[Parallel(n_jobs=-1)]: Done 541 tasks      | elapsed:  1.5min\n",
            "[Parallel(n_jobs=-1)]: Done 574 tasks      | elapsed:  1.6min\n",
            "[Parallel(n_jobs=-1)]: Done 609 tasks      | elapsed:  1.8min\n",
            "[Parallel(n_jobs=-1)]: Done 644 tasks      | elapsed:  1.9min\n",
            "[Parallel(n_jobs=-1)]: Done 681 tasks      | elapsed:  2.0min\n",
            "[Parallel(n_jobs=-1)]: Done 718 tasks      | elapsed:  2.0min\n",
            "[Parallel(n_jobs=-1)]: Done 757 tasks      | elapsed:  2.1min\n",
            "[Parallel(n_jobs=-1)]: Done 796 tasks      | elapsed:  2.3min\n",
            "[Parallel(n_jobs=-1)]: Done 837 tasks      | elapsed:  2.4min\n",
            "[Parallel(n_jobs=-1)]: Done 878 tasks      | elapsed:  2.5min\n",
            "[Parallel(n_jobs=-1)]: Done 921 tasks      | elapsed:  2.6min\n",
            "[Parallel(n_jobs=-1)]: Done 964 tasks      | elapsed:  2.8min\n",
            "[Parallel(n_jobs=-1)]: Done 1009 tasks      | elapsed:  2.9min\n",
            "[Parallel(n_jobs=-1)]: Done 1054 tasks      | elapsed:  3.0min\n",
            "[Parallel(n_jobs=-1)]: Done 1101 tasks      | elapsed:  3.2min\n",
            "[Parallel(n_jobs=-1)]: Done 1148 tasks      | elapsed:  3.3min\n",
            "[Parallel(n_jobs=-1)]: Done 1197 tasks      | elapsed:  3.5min\n",
            "[Parallel(n_jobs=-1)]: Done 1246 tasks      | elapsed:  3.6min\n",
            "[Parallel(n_jobs=-1)]: Done 1297 tasks      | elapsed:  3.8min\n",
            "[Parallel(n_jobs=-1)]: Done 1348 tasks      | elapsed:  3.9min\n",
            "[Parallel(n_jobs=-1)]: Done 1401 tasks      | elapsed:  4.1min\n",
            "[Parallel(n_jobs=-1)]: Done 1454 tasks      | elapsed:  4.2min\n",
            "[Parallel(n_jobs=-1)]: Done 1509 tasks      | elapsed:  4.3min\n",
            "[Parallel(n_jobs=-1)]: Done 1564 tasks      | elapsed:  4.5min\n",
            "[Parallel(n_jobs=-1)]: Done 1621 tasks      | elapsed:  4.7min\n",
            "[Parallel(n_jobs=-1)]: Done 1678 tasks      | elapsed:  4.8min\n",
            "[Parallel(n_jobs=-1)]: Done 1737 tasks      | elapsed:  5.0min\n",
            "[Parallel(n_jobs=-1)]: Done 1796 tasks      | elapsed:  5.2min\n",
            "[Parallel(n_jobs=-1)]: Done 1857 tasks      | elapsed:  5.4min\n",
            "[Parallel(n_jobs=-1)]: Done 1918 tasks      | elapsed:  5.5min\n",
            "[Parallel(n_jobs=-1)]: Done 1981 tasks      | elapsed:  5.7min\n",
            "[Parallel(n_jobs=-1)]: Done 2044 tasks      | elapsed:  5.9min\n",
            "[Parallel(n_jobs=-1)]: Done 2109 tasks      | elapsed:  6.1min\n",
            "[Parallel(n_jobs=-1)]: Done 2174 tasks      | elapsed:  6.2min\n",
            "[Parallel(n_jobs=-1)]: Done 2241 tasks      | elapsed:  6.4min\n",
            "[Parallel(n_jobs=-1)]: Done 2308 tasks      | elapsed:  6.6min\n",
            "[Parallel(n_jobs=-1)]: Done 2377 tasks      | elapsed:  6.9min\n",
            "[Parallel(n_jobs=-1)]: Done 2446 tasks      | elapsed:  7.0min\n",
            "[Parallel(n_jobs=-1)]: Done 2517 tasks      | elapsed:  7.2min\n",
            "[Parallel(n_jobs=-1)]: Done 2588 tasks      | elapsed:  7.4min\n",
            "[Parallel(n_jobs=-1)]: Done 2661 tasks      | elapsed:  7.6min\n",
            "[Parallel(n_jobs=-1)]: Done 2734 tasks      | elapsed:  7.8min\n",
            "[Parallel(n_jobs=-1)]: Done 2809 tasks      | elapsed:  8.0min\n",
            "[Parallel(n_jobs=-1)]: Done 2884 tasks      | elapsed:  8.2min\n",
            "[Parallel(n_jobs=-1)]: Done 2961 tasks      | elapsed:  8.4min\n",
            "[Parallel(n_jobs=-1)]: Done 3038 tasks      | elapsed:  8.7min\n",
            "[Parallel(n_jobs=-1)]: Done 3117 tasks      | elapsed:  8.9min\n",
            "[Parallel(n_jobs=-1)]: Done 3196 tasks      | elapsed:  9.2min\n",
            "[Parallel(n_jobs=-1)]: Done 3277 tasks      | elapsed:  9.4min\n",
            "[Parallel(n_jobs=-1)]: Done 3358 tasks      | elapsed:  9.6min\n",
            "[Parallel(n_jobs=-1)]: Done 3441 tasks      | elapsed:  9.8min\n",
            "[Parallel(n_jobs=-1)]: Done 3524 tasks      | elapsed: 10.1min\n",
            "[Parallel(n_jobs=-1)]: Done 3609 tasks      | elapsed: 10.3min\n",
            "[Parallel(n_jobs=-1)]: Done 3694 tasks      | elapsed: 10.6min\n",
            "[Parallel(n_jobs=-1)]: Done 3781 tasks      | elapsed: 10.8min\n",
            "[Parallel(n_jobs=-1)]: Done 3868 tasks      | elapsed: 11.0min\n",
            "[Parallel(n_jobs=-1)]: Done 3957 tasks      | elapsed: 11.3min\n",
            "[Parallel(n_jobs=-1)]: Done 4000 out of 4000 | elapsed: 11.4min finished\n"
          ],
          "name": "stderr"
        },
        {
          "output_type": "stream",
          "text": [
            "drop_count parameter:  19\n",
            "X shape before return: (12096, 36)\n",
            "Cross-validation Accuracy 0.8098544973544973\n",
            "Best hyperparameters {'randomforestclassifier__min_samples_split': 2, 'randomforestclassifier__min_samples_leaf': 8, 'randomforestclassifier__max_features': 20, 'randomforestclassifier__criterion': 'entropy', 'functiontransformer__kw_args': {'drop_count': 19}}\n"
          ],
          "name": "stdout"
        }
      ]
    },
    {
      "cell_type": "code",
      "metadata": {
        "id": "Z1iKUEmwNuWT",
        "colab_type": "code",
        "colab": {
          "base_uri": "https://localhost:8080/",
          "height": 342
        },
        "outputId": "9fe81778-72c2-46d0-9d1c-c8525536c14c"
      },
      "source": [
        "rscv.best_estimator_"
      ],
      "execution_count": 218,
      "outputs": [
        {
          "output_type": "execute_result",
          "data": {
            "text/plain": [
              "Pipeline(memory=None,\n",
              "         steps=[('functiontransformer',\n",
              "                 FunctionTransformer(accept_sparse=False, check_inverse=True,\n",
              "                                     func=<function wrangle at 0x7f684cff1bf8>,\n",
              "                                     inv_kw_args=None, inverse_func=None,\n",
              "                                     kw_args={'drop_count': 19},\n",
              "                                     validate=False)),\n",
              "                ('randomforestclassifier',\n",
              "                 RandomForestClassifier(bootstrap=True, ccp_alpha=0.0,\n",
              "                                        class_weight=None, criterion='entropy',\n",
              "                                        max_depth=20, max_features=20,\n",
              "                                        max_leaf_nodes=None, max_samples=None,\n",
              "                                        min_impurity_decrease=0.0,\n",
              "                                        min_impurity_split=None,\n",
              "                                        min_samples_leaf=8, min_samples_split=2,\n",
              "                                        min_weight_fraction_leaf=0.0,\n",
              "                                        n_estimators=10, n_jobs=-1,\n",
              "                                        oob_score=False, random_state=42,\n",
              "                                        verbose=0, warm_start=False))],\n",
              "         verbose=False)"
            ]
          },
          "metadata": {
            "tags": []
          },
          "execution_count": 218
        }
      ]
    },
    {
      "cell_type": "code",
      "metadata": {
        "id": "JWm62MA_sKB7",
        "colab_type": "code",
        "colab": {
          "base_uri": "https://localhost:8080/",
          "height": 98
        },
        "outputId": "892ca8f8-3507-4efc-f3fc-aaef6118d5ec"
      },
      "source": [
        "rscv.best_params_"
      ],
      "execution_count": 216,
      "outputs": [
        {
          "output_type": "execute_result",
          "data": {
            "text/plain": [
              "{'functiontransformer__kw_args': {'drop_count': 19},\n",
              " 'randomforestclassifier__criterion': 'entropy',\n",
              " 'randomforestclassifier__max_features': 20,\n",
              " 'randomforestclassifier__min_samples_leaf': 8,\n",
              " 'randomforestclassifier__min_samples_split': 2}"
            ]
          },
          "metadata": {
            "tags": []
          },
          "execution_count": 216
        }
      ]
    },
    {
      "cell_type": "code",
      "metadata": {
        "id": "Dot8a2D7PsBf",
        "colab_type": "code",
        "colab": {
          "base_uri": "https://localhost:8080/",
          "height": 245
        },
        "outputId": "e8cde279-eb8b-4ac5-b485-6fec64163be2"
      },
      "source": [
        "best_feat = bestpipe.named_steps['functiontransformer'].transform(X_train).columns\n",
        "best_feat, best_feat.shape"
      ],
      "execution_count": 219,
      "outputs": [
        {
          "output_type": "stream",
          "text": [
            "drop_count parameter:  19\n",
            "X shape before return: (12096, 36)\n"
          ],
          "name": "stdout"
        },
        {
          "output_type": "execute_result",
          "data": {
            "text/plain": [
              "(Index(['Elevation', 'Aspect', 'Slope', 'Horizontal_Distance_To_Hydrology',\n",
              "        'Vertical_Distance_To_Hydrology', 'Horizontal_Distance_To_Roadways',\n",
              "        'Hillshade_9am', 'Hillshade_Noon', 'Hillshade_3pm',\n",
              "        'Horizontal_Distance_To_Fire_Points', 'Wilderness_Area1',\n",
              "        'Wilderness_Area2', 'Wilderness_Area3', 'Wilderness_Area4',\n",
              "        'Soil_Type1', 'Soil_Type2', 'Soil_Type3', 'Soil_Type4', 'Soil_Type6',\n",
              "        'Soil_Type10', 'Soil_Type11', 'Soil_Type12', 'Soil_Type13',\n",
              "        'Soil_Type14', 'Soil_Type17', 'Soil_Type22', 'Soil_Type23',\n",
              "        'Soil_Type24', 'Soil_Type29', 'Soil_Type30', 'Soil_Type31',\n",
              "        'Soil_Type32', 'Soil_Type33', 'Soil_Type38', 'Soil_Type39',\n",
              "        'Soil_Type40'],\n",
              "       dtype='object'), (36,))"
            ]
          },
          "metadata": {
            "tags": []
          },
          "execution_count": 219
        }
      ]
    },
    {
      "cell_type": "code",
      "metadata": {
        "id": "65JVFHZLRBse",
        "colab_type": "code",
        "colab": {
          "base_uri": "https://localhost:8080/",
          "height": 115
        },
        "outputId": "730003fc-04dd-44e4-beb9-c51e732febb1"
      },
      "source": [
        "#.predict: WITHOUT ACTUALLY TRANSFORMING X, APPLIES THE TRANSFORMS TO X AND PREDICT a fitted y\n",
        "# wrangle_col = pipeline.named_steps['functiontransformer'].transform(X_train).columns\n",
        "\n",
        "\n",
        "print(f' X_val shape before predict : {X_val.shape}')\n",
        "print(\"predicting ...\")\n",
        "y_pred = bestpipe.predict(X_val)\n",
        "print(f' X_val shape after predict : {X_val.shape}')\n",
        "print('Validation Accuracy', accuracy_score(y_val, y_pred))"
      ],
      "execution_count": 220,
      "outputs": [
        {
          "output_type": "stream",
          "text": [
            " X_val shape before predict : (3024, 55)\n",
            "predicting ...\n",
            "drop_count parameter:  19\n",
            "X shape before return: (3024, 36)\n",
            " X_val shape after predict : (3024, 55)\n",
            "Validation Accuracy 0.8220899470899471\n"
          ],
          "name": "stdout"
        }
      ]
    }
  ]
}